{
 "cells": [
  {
   "cell_type": "code",
   "execution_count": 2,
   "id": "6f5e1cd9-88ba-4740-80fc-34507510e12a",
   "metadata": {},
   "outputs": [
    {
     "name": "stdout",
     "output_type": "stream",
     "text": [
      "test commit\n"
     ]
    }
   ],
   "source": [
    "print('test commit')"
   ]
  },
  {
   "cell_type": "code",
   "execution_count": 5,
   "id": "a458a707-1be1-4ec4-ad17-72599d246a03",
   "metadata": {},
   "outputs": [],
   "source": [
    "import logging\n",
    "import pandas as pd\n",
    "from sklearn.datasets import make_classification\n",
    "from sklearn.model_selection import train_test_split\n",
    "from sklearn.linear_model import LogisticRegression\n",
    "from sklearn.metrics import accuracy_score, classification_report\n",
    "import time\n",
    "\n",
    "# Set up logging\n",
    "logging.basicConfig(\n",
    "    filename='ml_pipeline.log',\n",
    "    level=logging.INFO,\n",
    "    format='%(asctime)s - %(levelname)s - %(message)s'\n",
    ")\n",
    "\n",
    "def log_metadata(metadata: dict):\n",
    "    \"\"\"Log metadata to the console and file.\"\"\"\n",
    "    for key, value in metadata.items():\n",
    "        logging.info(f\"{key}: {value}\")\n",
    "\n",
    "# Generate a large synthetic dataset\n",
    "logging.info(\"Generating synthetic dataset...\")\n",
    "X, y = make_classification(\n",
    "    n_samples=100000,  # large dataset\n",
    "    n_features=20,\n",
    "    n_informative=15,\n",
    "    n_redundant=5,\n",
    "    random_state=42\n",
    ")\n",
    "logging.info(\"Dataset generated successfully.\")\n",
    "\n",
    "# Split dataset\n",
    "logging.info(\"Splitting dataset into training and test sets...\")\n",
    "X_train, X_test, y_train, y_test = train_test_split(X, y, test_size=0.2, random_state=42)\n",
    "logging.info(\"Dataset split completed.\")\n",
    "\n",
    "# Track metadata\n",
    "metadata = {\n",
    "    \"Number of samples\": X.shape[0],\n",
    "    \"Number of features\": X.shape[1],\n",
    "    \"Train-test split ratio\": \"80:20\",\n",
    "    \"Random state\": 42,\n",
    "}\n",
    "log_metadata(metadata)\n",
    "\n",
    "# Model training\n",
    "logging.info(\"Training logistic regression model...\")\n",
    "start_time = time.time()\n",
    "model = LogisticRegression(max_iter=1000, random_state=42)\n",
    "model.fit(X_train, y_train)\n",
    "training_time = time.time() - start_time\n",
    "logging.info(f\"Model training completed in {training_time:.2f} seconds.\")\n",
    "\n",
    "# Predictions and evaluation\n",
    "logging.info(\"Evaluating the model...\")\n",
    "y_pred = model.predict(X_test)\n",
    "accuracy = accuracy_score(y_test, y_pred)\n",
    "logging.info(f\"Accuracy: {accuracy:.4f}\")\n",
    "\n",
    "# Detailed evaluation metrics\n",
    "report = classification_report(y_test, y_pred, output_dict=True)\n",
    "logging.info(\"Classification report:\")\n",
    "for key, value in report.items():\n",
    "    logging.info(f\"{key}: {value}\")\n",
    "\n",
    "# Metadata logging\n",
    "metadata.update({\n",
    "    \"Training time (s)\": training_time,\n",
    "    \"Accuracy\": accuracy,\n",
    "    \"Model\": \"Logistic Regression\",\n",
    "    \"Max iterations\": 1000,\n",
    "})\n",
    "log_metadata(metadata)\n",
    "\n",
    "logging.info(\"ML pipeline completed.\")\n"
   ]
  },
  {
   "cell_type": "code",
   "execution_count": 6,
   "id": "f668a49d-1efd-4899-8de0-9756de4fb736",
   "metadata": {},
   "outputs": [
    {
     "data": {
      "text/plain": [
       "{'Number of samples': 100000,\n",
       " 'Number of features': 20,\n",
       " 'Train-test split ratio': '80:20',\n",
       " 'Random state': 42,\n",
       " 'Training time (s)': 0.2775897979736328,\n",
       " 'Accuracy': 0.8074,\n",
       " 'Model': 'Logistic Regression',\n",
       " 'Max iterations': 1000}"
      ]
     },
     "execution_count": 6,
     "metadata": {},
     "output_type": "execute_result"
    }
   ],
   "source": [
    "metadata"
   ]
  },
  {
   "cell_type": "code",
   "execution_count": null,
   "id": "fe073055-adfe-423b-a3f5-f346f082cc38",
   "metadata": {},
   "outputs": [],
   "source": []
  }
 ],
 "metadata": {
  "kernelspec": {
   "display_name": "Python 3 (ipykernel)",
   "language": "python",
   "name": "python3"
  },
  "language_info": {
   "codemirror_mode": {
    "name": "ipython",
    "version": 3
   },
   "file_extension": ".py",
   "mimetype": "text/x-python",
   "name": "python",
   "nbconvert_exporter": "python",
   "pygments_lexer": "ipython3",
   "version": "3.11.5"
  }
 },
 "nbformat": 4,
 "nbformat_minor": 5
}
