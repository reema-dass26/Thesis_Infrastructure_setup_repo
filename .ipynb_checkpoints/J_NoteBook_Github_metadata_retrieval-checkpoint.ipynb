{
 "cells": [
  {
   "cell_type": "code",
   "execution_count": null,
   "id": "d464b242-d036-41c0-a44b-cd743ba85fae",
   "metadata": {},
   "outputs": [],
   "source": [
    "import nbformat\n",
    "\n",
    "# Load the notebook\n",
    "with open('test file.ipynb', 'r', encoding='utf-8') as f:\n",
    "    notebook = nbformat.read(f, as_version=4)\n",
    "\n",
    "# Extract metadata\n",
    "metadata = notebook.metadata\n",
    "print(\"Metadata:\", metadata)"
   ]
  },
  {
   "cell_type": "code",
   "execution_count": null,
   "id": "42b6bc7c-0abd-4d27-91f0-9444a3e46d55",
   "metadata": {},
   "outputs": [],
   "source": [
    "import nbformat\n",
    "\n",
    "# Load the notebook file\n",
    "with open('test file.ipynb', 'r', encoding='utf-8') as f:\n",
    "    notebook = nbformat.read(f, as_version=4)\n",
    "\n",
    "# Extract the metadata of the entire notebook\n",
    "notebook_metadata = notebook.metadata\n",
    "print(\"Notebook Metadata:\", notebook_metadata)\n",
    "\n",
    "# Extract and analyze the execution metadata from each cell\n",
    "for idx, cell in enumerate(notebook.cells):\n",
    "    if cell.cell_type == 'code':\n",
    "        execution_info = {\n",
    "            \"cell_number\": idx,\n",
    "            \"execution_count\": cell.execution_count,  # Execution count of the cell\n",
    "            \"outputs\": cell.outputs,  # Outputs from the execution\n",
    "            \"source\": cell.source  # Source code of the cell\n",
    "        }\n",
    "        print(f\"Cell {idx}: {execution_info}\")"
   ]
  },
  {
   "cell_type": "code",
   "execution_count": null,
   "id": "f3bd4237-3146-476b-9667-2276049b3b9c",
   "metadata": {},
   "outputs": [],
   "source": []
  },
  {
   "cell_type": "code",
   "execution_count": null,
   "id": "aea495fd-f7df-4dc4-8604-5df91fc3206e",
   "metadata": {},
   "outputs": [],
   "source": [
    "import requests\n",
    "\n",
    "# GitHub API URL for getting the commits\n",
    "repo_api_url = \"https://api.github.com/repos/reema-dass26/Thesis_Infrastructure_setup_repo/commits\"\n",
    "\n",
    "# Fetch the commit history\n",
    "response = requests.get(repo_api_url)\n",
    "if response.status_code == 200:\n",
    "    commits = response.json()\n",
    "    for commit in commits:\n",
    "        commit_sha = commit['sha']\n",
    "        commit_message = commit['commit']['message']\n",
    "        commit_date = commit['commit']['author']['date']\n",
    "        print(f\"Commit SHA: {commit_sha}\")\n",
    "        print(f\"Commit Message: {commit_message}\")\n",
    "        print(f\"Commit Date: {commit_date}\")\n",
    "else:\n",
    "    print(\"Failed to fetch commits.\")"
   ]
  },
  {
   "cell_type": "code",
   "execution_count": null,
   "id": "dc1b8117-6ca2-4f17-a0bf-5111f2d8b01f",
   "metadata": {},
   "outputs": [],
   "source": [
    "commit_sha = \"9cf68d09c2835e83e70f2493c8f8174b67b1565c\"  # Replace with the actual commit SHA\n",
    "notebook_url = f\"https://raw.githubusercontent.com/reema-dass26/Thesis_Infrastructure_setup_repo/{commit_sha}/test file.ipynb\"\n",
    "\n",
    "response = requests.get(notebook_url)\n",
    "if response.status_code == 200:\n",
    "    notebook_content = response.json()\n",
    "    print(\"Detailed Metadata from Previous Version:\")\n",
    "    print(json.dumps(notebook_content.get('metadata', {}), indent=4))\n",
    "else:\n",
    "    print(\"Failed to fetch notebook from commit.\")\n"
   ]
  },
  {
   "cell_type": "code",
   "execution_count": null,
   "id": "ad587566-9a22-45c2-a64f-48e94a3e0d44",
   "metadata": {},
   "outputs": [],
   "source": [
    "GITHUBBBB"
   ]
  },
  {
   "cell_type": "code",
   "execution_count": null,
   "id": "1e1b87e7-fbdc-4f27-b1e8-5a6d17061ccc",
   "metadata": {},
   "outputs": [],
   "source": [
    "import requests\n",
    "\n",
    "# Repository details\n",
    "owner = \"reema-dass26\"\n",
    "repo = \"Thesis_Infrastructure_setup_repo\"\n",
    "file_path = \"test file.ipynb\"  # Specify the file you're interested in\n",
    "\n",
    "# GitHub API URL for commits related to a specific file\n",
    "url = f\"https://api.github.com/repos/{owner}/{repo}/commits?path={file_path}\"\n",
    "\n",
    "# Fetch commit data\n",
    "response = requests.get(url)\n",
    "\n",
    "if response.status_code == 200:\n",
    "    commits = response.json()\n",
    "    for commit in commits:\n",
    "        print(f\"Commit SHA: {commit['sha']}\")\n",
    "        print(f\"Commit Message: {commit['commit']['message']}\")\n",
    "        print(f\"Committer: {commit['commit']['author']['name']}\")\n",
    "        print(f\"Date: {commit['commit']['author']['date']}\")\n",
    "        print(\"----------\")\n",
    "else:\n",
    "    print(f\"Error fetching commits: {response.status_code}\")"
   ]
  }
 ],
 "metadata": {
  "kernelspec": {
   "display_name": "Python 3 (ipykernel)",
   "language": "python",
   "name": "python3"
  },
  "language_info": {
   "codemirror_mode": {
    "name": "ipython",
    "version": 3
   },
   "file_extension": ".py",
   "mimetype": "text/x-python",
   "name": "python",
   "nbconvert_exporter": "python",
   "pygments_lexer": "ipython3",
   "version": "3.11.5"
  }
 },
 "nbformat": 4,
 "nbformat_minor": 5
}
