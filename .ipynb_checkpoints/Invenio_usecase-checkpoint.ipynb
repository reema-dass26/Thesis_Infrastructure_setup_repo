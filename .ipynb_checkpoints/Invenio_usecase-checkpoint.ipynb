{
 "cells": [
  {
   "cell_type": "code",
   "execution_count": 1,
   "id": "fe39662a-4090-4e86-b966-256a2cfce616",
   "metadata": {},
   "outputs": [
    {
     "name": "stdout",
     "output_type": "stream",
     "text": [
      "Model saved as iris_model.pkl\n"
     ]
    }
   ],
   "source": [
    "import pickle\n",
    "from sklearn.datasets import load_iris\n",
    "from sklearn.model_selection import train_test_split\n",
    "from sklearn.tree import DecisionTreeClassifier\n",
    "\n",
    "# Load a sample dataset\n",
    "data = load_iris()\n",
    "X = data.data\n",
    "y = data.target\n",
    "\n",
    "# Split the dataset into training and test sets\n",
    "X_train, X_test, y_train, y_test = train_test_split(X, y, test_size=0.3, random_state=42)\n",
    "\n",
    "# Train a simple Decision Tree model\n",
    "model = DecisionTreeClassifier(random_state=42)\n",
    "model.fit(X_train, y_train)\n",
    "\n",
    "# Save the trained model to a file using pickle\n",
    "model_filename = 'iris_model.pkl'\n",
    "with open(model_filename, 'wb') as model_file:\n",
    "    pickle.dump(model, model_file)\n",
    "\n",
    "print(f\"Model saved as {model_filename}\")\n"
   ]
  },
  {
   "cell_type": "code",
   "execution_count": 5,
   "id": "c2639811-cfbc-473e-9ca4-934073e2f94c",
   "metadata": {},
   "outputs": [
    {
     "name": "stdout",
     "output_type": "stream",
     "text": [
      "201\n",
      "{'id': '4t77w-a4p21', 'created': '2025-01-20T11:17:40.207838+00:00', 'updated': '2025-01-20T11:17:40.239908+00:00', 'links': {'self': 'https://127.0.0.1:5000/api/records/4t77w-a4p21/draft', 'self_html': 'https://127.0.0.1:5000/uploads/4t77w-a4p21', 'self_iiif_manifest': 'https://127.0.0.1:5000/api/iiif/draft:4t77w-a4p21/manifest', 'self_iiif_sequence': 'https://127.0.0.1:5000/api/iiif/draft:4t77w-a4p21/sequence/default', 'files': 'https://127.0.0.1:5000/api/records/4t77w-a4p21/draft/files', 'media_files': 'https://127.0.0.1:5000/api/records/4t77w-a4p21/draft/media-files', 'archive': 'https://127.0.0.1:5000/api/records/4t77w-a4p21/draft/files-archive', 'archive_media': 'https://127.0.0.1:5000/api/records/4t77w-a4p21/draft/media-files-archive', 'record': 'https://127.0.0.1:5000/api/records/4t77w-a4p21', 'record_html': 'https://127.0.0.1:5000/records/4t77w-a4p21', 'publish': 'https://127.0.0.1:5000/api/records/4t77w-a4p21/draft/actions/publish', 'review': 'https://127.0.0.1:5000/api/records/4t77w-a4p21/draft/review', 'versions': 'https://127.0.0.1:5000/api/records/4t77w-a4p21/versions', 'access_links': 'https://127.0.0.1:5000/api/records/4t77w-a4p21/access/links', 'access_grants': 'https://127.0.0.1:5000/api/records/4t77w-a4p21/access/grants', 'access_users': 'https://127.0.0.1:5000/api/records/4t77w-a4p21/access/users', 'access_groups': 'https://127.0.0.1:5000/api/records/4t77w-a4p21/access/groups', 'access_request': 'https://127.0.0.1:5000/api/records/4t77w-a4p21/access/request', 'access': 'https://127.0.0.1:5000/api/records/4t77w-a4p21/access', 'reserve_doi': 'https://127.0.0.1:5000/api/records/4t77w-a4p21/draft/pids/doi', 'communities': 'https://127.0.0.1:5000/api/records/4t77w-a4p21/communities', 'communities-suggestions': 'https://127.0.0.1:5000/api/records/4t77w-a4p21/communities-suggestions', 'requests': 'https://127.0.0.1:5000/api/records/4t77w-a4p21/requests'}, 'revision_id': 4, 'parent': {'id': 'nwtap-n0z53', 'access': {'grants': [], 'owned_by': {'user': '3'}, 'links': [], 'settings': {'allow_user_requests': False, 'allow_guest_requests': False, 'accept_conditions_text': None, 'secret_link_expiration': 0}}, 'communities': {}, 'pids': {}}, 'versions': {'is_latest': False, 'is_latest_draft': True, 'index': 1}, 'is_published': False, 'is_draft': True, 'expires_at': '2025-01-20 11:17:40.207873', 'pids': {}, 'metadata': {}, 'custom_fields': {}, 'access': {'record': 'public', 'files': 'public', 'embargo': {'active': False, 'reason': None}, 'status': 'metadata-only'}, 'files': {'enabled': True, 'order': [], 'count': 0, 'total_bytes': 0, 'entries': {}}, 'media_files': {'enabled': False, 'order': [], 'count': 0, 'total_bytes': 0, 'entries': {}}, 'status': 'draft'}\n"
     ]
    },
    {
     "name": "stderr",
     "output_type": "stream",
     "text": [
      "C:\\Users\\reema\\anaconda3\\Lib\\site-packages\\urllib3\\connectionpool.py:1056: InsecureRequestWarning: Unverified HTTPS request is being made to host '127.0.0.1'. Adding certificate verification is strongly advised. See: https://urllib3.readthedocs.io/en/1.26.x/advanced-usage.html#ssl-warnings\n",
      "  warnings.warn(\n"
     ]
    }
   ],
   "source": [
    "import requests\n",
    "import json\n",
    "\n",
    "# Define the URL and token\n",
    "url = \"https://127.0.0.1:5000/api/records\"\n",
    "token = \"j66RscNftV77c28t3eNidKkkKPPQpgsLnXLcPXEHoPGxoD8FTxwtBcMFc0fC\"  \n",
    "\n",
    "# Define the headers\n",
    "headers = {\n",
    "    \"Content-Type\": \"application/json\",\n",
    "    \"Authorization\": f\"Bearer {token}\"\n",
    "}\n",
    "\n",
    "# Define the data to be sent in the request\n",
    "data = {\n",
    "    \"title\": \"My trined ML model\",\n",
    "    \"description\": \"This is a sample unstructed data of a simple trained ML model\",\n",
    "    \"creator\": \"Reema Dass\"\n",
    "}\n",
    "\n",
    "# Send the POST request\n",
    "response = requests.post(url, headers=headers, data=json.dumps(data), verify=False)\n",
    "\n",
    "# Print the response\n",
    "print(response.status_code)\n",
    "print(response.json())\n",
    "# print(json.dumps(response, indent=4, ensure_ascii=False))\n"
   ]
  },
  {
   "cell_type": "code",
   "execution_count": 6,
   "id": "42cc0dcf-3c28-4c3a-8a9a-4076b27e5b8b",
   "metadata": {},
   "outputs": [
    {
     "name": "stdout",
     "output_type": "stream",
     "text": [
      "201\n",
      "{'enabled': True, 'links': {'self': 'https://127.0.0.1:5000/api/records/4t77w-a4p21/draft/files', 'archive': 'https://127.0.0.1:5000/api/records/4t77w-a4p21/draft/files-archive'}, 'entries': [{'key': 'ML_model', 'created': '2025-01-20T11:19:01.405858+00:00', 'updated': '2025-01-20T11:19:01.414540+00:00', 'status': 'pending', 'metadata': None, 'access': {'hidden': False}, 'links': {'self': 'https://127.0.0.1:5000/api/records/4t77w-a4p21/draft/files/ML_model', 'content': 'https://127.0.0.1:5000/api/records/4t77w-a4p21/draft/files/ML_model/content', 'commit': 'https://127.0.0.1:5000/api/records/4t77w-a4p21/draft/files/ML_model/commit'}}], 'default_preview': None, 'order': []}\n"
     ]
    },
    {
     "name": "stderr",
     "output_type": "stream",
     "text": [
      "C:\\Users\\reema\\anaconda3\\Lib\\site-packages\\urllib3\\connectionpool.py:1056: InsecureRequestWarning: Unverified HTTPS request is being made to host '127.0.0.1'. Adding certificate verification is strongly advised. See: https://urllib3.readthedocs.io/en/1.26.x/advanced-usage.html#ssl-warnings\n",
      "  warnings.warn(\n"
     ]
    }
   ],
   "source": [
    "import requests\n",
    "import json\n",
    "\n",
    "# Define the URL and token\n",
    "url = \"https://127.0.0.1:5000/api/records/4t77w-a4p21/draft/files\"\n",
    "token = \"j66RscNftV77c28t3eNidKkkKPPQpgsLnXLcPXEHoPGxoD8FTxwtBcMFc0fC\"  \n",
    "\n",
    "# Define the headers\n",
    "headers = {\n",
    "    \"Content-Type\": \"application/json\",\n",
    "    \"Authorization\": f\"Bearer {token}\"\n",
    "}\n",
    "\n",
    "# Define the data to be sent in the request\n",
    "data = [\n",
    "    {\"key\": \"ML_model\"}\n",
    "]\n",
    "\n",
    "# Send the POST request\n",
    "response = requests.post(url, headers=headers, data=json.dumps(data), verify=False)\n",
    "\n",
    "# Print the response\n",
    "print(response.status_code)\n",
    "print(response.json())\n"
   ]
  },
  {
   "cell_type": "code",
   "execution_count": 7,
   "id": "4140a3a6-4056-4a5f-b075-9f97362b11d6",
   "metadata": {},
   "outputs": [
    {
     "name": "stdout",
     "output_type": "stream",
     "text": [
      "200\n",
      "{'key': 'ML_model', 'created': '2025-01-20T11:19:01.405858+00:00', 'updated': '2025-01-20T11:19:01.414540+00:00', 'status': 'pending', 'metadata': None, 'access': {'hidden': False}, 'links': {'self': 'https://127.0.0.1:5000/api/records/4t77w-a4p21/draft/files/ML_model', 'content': 'https://127.0.0.1:5000/api/records/4t77w-a4p21/draft/files/ML_model/content', 'commit': 'https://127.0.0.1:5000/api/records/4t77w-a4p21/draft/files/ML_model/commit'}}\n"
     ]
    },
    {
     "name": "stderr",
     "output_type": "stream",
     "text": [
      "C:\\Users\\reema\\anaconda3\\Lib\\site-packages\\urllib3\\connectionpool.py:1056: InsecureRequestWarning: Unverified HTTPS request is being made to host '127.0.0.1'. Adding certificate verification is strongly advised. See: https://urllib3.readthedocs.io/en/1.26.x/advanced-usage.html#ssl-warnings\n",
      "  warnings.warn(\n"
     ]
    }
   ],
   "source": [
    "import requests\n",
    "\n",
    "# Define the URL and token\n",
    "url = \"https://127.0.0.1:5000/api/records/4t77w-a4p21/draft/files/ML_model/content\"\n",
    "token = \"j66RscNftV77c28t3eNidKkkKPPQpgsLnXLcPXEHoPGxoD8FTxwtBcMFc0fC\"  \n",
    "\n",
    "# Define the headers\n",
    "headers = {\n",
    "    \"Content-Type\": \"application/octet-stream\",\n",
    "    \"Authorization\": f\"Bearer {token}\"\n",
    "}\n",
    "\n",
    "# Open the file you want to upload in binary mode\n",
    "with open('iris_model.pkl', 'rb') as file:  # Replace with the actual .pkl file name\n",
    "    # Send the PUT request\n",
    "    response = requests.put(url, headers=headers, data=file, verify=False)\n",
    "\n",
    "# Print the response\n",
    "print(response.status_code)\n",
    "print(response.json())\n"
   ]
  },
  {
   "cell_type": "code",
   "execution_count": 8,
   "id": "ca7b0a45-12b7-4d1d-aa79-4568ff5c8fbd",
   "metadata": {},
   "outputs": [
    {
     "name": "stderr",
     "output_type": "stream",
     "text": [
      "C:\\Users\\reema\\anaconda3\\Lib\\site-packages\\urllib3\\connectionpool.py:1056: InsecureRequestWarning: Unverified HTTPS request is being made to host '127.0.0.1'. Adding certificate verification is strongly advised. See: https://urllib3.readthedocs.io/en/1.26.x/advanced-usage.html#ssl-warnings\n",
      "  warnings.warn(\n"
     ]
    },
    {
     "name": "stdout",
     "output_type": "stream",
     "text": [
      "200\n",
      "{'key': 'ML_model', 'storage_class': 'L', 'checksum': 'md5:e99d10a6109248d9103fac13c10a62cf', 'size': 2794, 'created': '2025-01-20T11:19:01.405858+00:00', 'updated': '2025-01-20T11:24:40.839244+00:00', 'status': 'completed', 'mimetype': 'application/octet-stream', 'version_id': '2f028edf-9f82-4af8-9fce-992af210b7cb', 'file_id': '39a7c4ff-c45c-4776-a5d9-9f4279c305cc', 'bucket_id': '09a894f5-ce18-4d11-b9f3-e8cc108ccabb', 'metadata': None, 'access': {'hidden': False}, 'links': {'self': 'https://127.0.0.1:5000/api/records/4t77w-a4p21/draft/files/ML_model', 'content': 'https://127.0.0.1:5000/api/records/4t77w-a4p21/draft/files/ML_model/content', 'commit': 'https://127.0.0.1:5000/api/records/4t77w-a4p21/draft/files/ML_model/commit'}}\n"
     ]
    }
   ],
   "source": [
    "import requests\n",
    "\n",
    "# Define the URL and token\n",
    "url = \"https://127.0.0.1:5000/api/records/4t77w-a4p21/draft/files/ML_model/commit\"\n",
    "token = \"j66RscNftV77c28t3eNidKkkKPPQpgsLnXLcPXEHoPGxoD8FTxwtBcMFc0fC\"  \n",
    "\n",
    "# Define the headers\n",
    "headers = {\n",
    "    \"Authorization\": f\"Bearer {token}\"\n",
    "}\n",
    "\n",
    "# Send the POST request\n",
    "response = requests.post(url, headers=headers, verify=False)\n",
    "\n",
    "# Print the response\n",
    "print(response.status_code)\n",
    "print(response.json())\n"
   ]
  },
  {
   "cell_type": "code",
   "execution_count": 9,
   "id": "ec1aa9de-38d0-4aca-99b5-43fd7d164906",
   "metadata": {},
   "outputs": [
    {
     "name": "stdout",
     "output_type": "stream",
     "text": [
      "400\n",
      "{'status': 400, 'message': 'A validation error occurred.', 'errors': [{'field': 'metadata.resource_type', 'messages': ['Missing data for required field.']}, {'field': 'metadata.creators', 'messages': ['Missing data for required field.']}, {'field': 'metadata.title', 'messages': ['Missing data for required field.']}, {'field': 'metadata.publication_date', 'messages': ['Missing data for required field.']}]}\n"
     ]
    },
    {
     "name": "stderr",
     "output_type": "stream",
     "text": [
      "C:\\Users\\reema\\anaconda3\\Lib\\site-packages\\urllib3\\connectionpool.py:1056: InsecureRequestWarning: Unverified HTTPS request is being made to host '127.0.0.1'. Adding certificate verification is strongly advised. See: https://urllib3.readthedocs.io/en/1.26.x/advanced-usage.html#ssl-warnings\n",
      "  warnings.warn(\n"
     ]
    }
   ],
   "source": [
    "# import requests\n",
    "\n",
    "# # Define the URL and token\n",
    "# url = \"https://127.0.0.1:5000/api/records/4t77w-a4p21/draft/actions/publish\"\n",
    "# # curl -k -XPOST -H \"Authorization: Bearer <TOKEN>\" https://127.0.0.1:5000/api/records/jnmmp-51n47/draft/actions/publish\n",
    "# token = \"j66RscNftV77c28t3eNidKkkKPPQpgsLnXLcPXEHoPGxoD8FTxwtBcMFc0fC\"  \n",
    "\n",
    "# # Define the headers\n",
    "# headers = {\n",
    "#     \"Authorization\": f\"Bearer {token}\"\n",
    "# }\n",
    "\n",
    "# # Send the POST request\n",
    "# response = requests.post(url, headers=headers, verify=False)\n",
    "\n",
    "# # Print the response\n",
    "# print(response.status_code)\n",
    "# print(response.json())\n"
   ]
  },
  {
   "cell_type": "markdown",
   "id": "9334811b-c10d-4652-a559-cffa74c2c6a9",
   "metadata": {},
   "source": [
    "import requests\n",
    "import json\n",
    "\n",
    "# Define the URL and token\n",
    "url = \"https://127.0.0.1:5000/api/records/4t77w-a4p21/draft/actions/publish\"\n",
    "token = \"j66RscNftV77c28t3eNidKkkKPPQpgsLnXLcPXEHoPGxoD8FTxwtBcMFc0fC\"  \n",
    "\n",
    "# Define the headers\n",
    "headers = {\n",
    "    \"Authorization\": f\"Bearer {token}\",\n",
    "    \"Content-Type\": \"application/json\"\n",
    "}\n",
    "\n",
    "# Define the payload with the required fields\n",
    "payload = {\n",
    "    \"metadata\": {\n",
    "        \"resource_type\": \"ML model in .pkl format\",  \n",
    "        \"creators\": [{\"name\": \"Reema Dass\"}],  \n",
    "        \"title\": \"My sample Published Record\",  \n",
    "        \"publication_date\": \"2025-01-20\"  \n",
    "    }\n",
    "}\n",
    "\n",
    "# Send the POST request with the metadata\n",
    "response = requests.post(url, headers=headers, data=json.dumps(payload), verify=False)\n",
    "\n",
    "# Print the response\n",
    "print(response.status_code)\n",
    "print(\"Response Text:\", response.text)  # This will give a more detailed error message\n"
   ]
  },
  {
   "cell_type": "code",
   "execution_count": null,
   "id": "cae66f9d-6b61-4ab1-988c-a888c7c11b97",
   "metadata": {},
   "outputs": [],
   "source": [
    "followed steps from :https://inveniordm.docs.cern.ch/install/run/#upload-a-file-to-a-record\n",
    "\n",
    "But, i get the above error:\n",
    "400\n",
    "{'status': 400, 'message': 'A validation error occurred.', 'errors': [{'field': 'metadata.resource_type', 'messages': ['Missing data for required field.']}, {'field': 'metadata.creators', 'messages': ['Missing data for required field.']}, {'field': 'metadata.title', 'messages': ['Missing data for required field.']}, {'field': 'metadata.publication_date', 'messages': ['Missing data for required field.']}]}\n",
    "\n",
    "\n",
    "Which i understand as i also see the same warning on the UI but i am unable to understand how to set them through python code. alternate is to test it by manually inputting them on the UI and publishing#\n",
    "\n",
    "\n",
    "the last step is to publish.\n",
    "\n"
   ]
  },
  {
   "cell_type": "markdown",
   "id": "2d0d69cb-4c71-4035-9eec-fbd92d6db47b",
   "metadata": {},
   "source": [
    "#TODO figure how to update metadata , Relevant and important!!"
   ]
  },
  {
   "cell_type": "code",
   "execution_count": null,
   "id": "b0c9d3d6-e82c-485d-8542-fa6344701eb5",
   "metadata": {},
   "outputs": [],
   "source": []
  },
  {
   "cell_type": "code",
   "execution_count": null,
   "id": "c84ab1d8-58dd-42cc-81db-ea09528fd0a1",
   "metadata": {},
   "outputs": [],
   "source": []
  },
  {
   "cell_type": "markdown",
   "id": "0f2a64c0-f74f-4375-979d-5994f24d400a",
   "metadata": {},
   "source": [
    "retrieve metadata"
   ]
  },
  {
   "cell_type": "code",
   "execution_count": 12,
   "id": "0fce39f1-ef89-47d9-be5a-05e2709335b8",
   "metadata": {},
   "outputs": [
    {
     "name": "stdout",
     "output_type": "stream",
     "text": [
      "Metadata Retrieved Successfully!\n",
      "{'id': '4t77w-a4p21', 'created': '2025-01-20T11:40:49.472971+00:00', 'updated': '2025-01-20T11:40:49.634611+00:00', 'links': {'self': 'https://127.0.0.1:5000/api/records/4t77w-a4p21', 'self_html': 'https://127.0.0.1:5000/records/4t77w-a4p21', 'parent': 'https://127.0.0.1:5000/api/records/nwtap-n0z53', 'parent_html': 'https://127.0.0.1:5000/records/nwtap-n0z53', 'self_iiif_manifest': 'https://127.0.0.1:5000/api/iiif/record:4t77w-a4p21/manifest', 'self_iiif_sequence': 'https://127.0.0.1:5000/api/iiif/record:4t77w-a4p21/sequence/default', 'files': 'https://127.0.0.1:5000/api/records/4t77w-a4p21/files', 'media_files': 'https://127.0.0.1:5000/api/records/4t77w-a4p21/media-files', 'archive': 'https://127.0.0.1:5000/api/records/4t77w-a4p21/files-archive', 'archive_media': 'https://127.0.0.1:5000/api/records/4t77w-a4p21/media-files-archive', 'latest': 'https://127.0.0.1:5000/api/records/4t77w-a4p21/versions/latest', 'latest_html': 'https://127.0.0.1:5000/records/4t77w-a4p21/latest', 'draft': 'https://127.0.0.1:5000/api/records/4t77w-a4p21/draft', 'versions': 'https://127.0.0.1:5000/api/records/4t77w-a4p21/versions', 'access_links': 'https://127.0.0.1:5000/api/records/4t77w-a4p21/access/links', 'access_grants': 'https://127.0.0.1:5000/api/records/4t77w-a4p21/access/grants', 'access_users': 'https://127.0.0.1:5000/api/records/4t77w-a4p21/access/users', 'access_groups': 'https://127.0.0.1:5000/api/records/4t77w-a4p21/access/groups', 'access_request': 'https://127.0.0.1:5000/api/records/4t77w-a4p21/access/request', 'access': 'https://127.0.0.1:5000/api/records/4t77w-a4p21/access', 'reserve_doi': 'https://127.0.0.1:5000/api/records/4t77w-a4p21/draft/pids/doi', 'communities': 'https://127.0.0.1:5000/api/records/4t77w-a4p21/communities', 'communities-suggestions': 'https://127.0.0.1:5000/api/records/4t77w-a4p21/communities-suggestions', 'requests': 'https://127.0.0.1:5000/api/records/4t77w-a4p21/requests'}, 'revision_id': 4, 'parent': {'id': 'nwtap-n0z53', 'access': {'grants': [], 'owned_by': {'user': '3'}, 'links': [], 'settings': {'allow_user_requests': False, 'allow_guest_requests': False, 'accept_conditions_text': None, 'secret_link_expiration': 0}}, 'communities': {}, 'pids': {}}, 'versions': {'is_latest': True, 'is_latest_draft': True, 'index': 1}, 'is_published': True, 'is_draft': False, 'pids': {'oai': {'identifier': 'oai:my-site.com:4t77w-a4p21', 'provider': 'oai'}}, 'metadata': {'resource_type': {'id': 'model', 'title': {'de': 'Modell', 'en': 'Model', 'sv': 'Modell'}}, 'creators': [{'person_or_org': {'type': 'personal', 'name': 'Dass, Reema', 'given_name': 'Reema', 'family_name': 'Dass'}, 'role': {'id': 'researcher', 'title': {'de': 'WissenschaftlerIn', 'en': 'Researcher', 'sv': 'Forskare'}}}], 'title': 'ML_Model', 'publication_date': '2025-01-20'}, 'custom_fields': {}, 'access': {'record': 'public', 'files': 'public', 'embargo': {'active': False, 'reason': None}, 'status': 'open'}, 'files': {'enabled': True, 'order': [], 'count': 1, 'total_bytes': 2794, 'entries': {'ML_model': {'id': '39a7c4ff-c45c-4776-a5d9-9f4279c305cc', 'checksum': 'md5:e99d10a6109248d9103fac13c10a62cf', 'ext': 'bin', 'size': 2794, 'mimetype': 'application/octet-stream', 'storage_class': 'L', 'key': 'ML_model', 'metadata': {}, 'access': {'hidden': False}, 'links': {'self': 'https://127.0.0.1:5000/api/records/4t77w-a4p21/files/ML_model', 'content': 'https://127.0.0.1:5000/api/records/4t77w-a4p21/files/ML_model/content'}}}}, 'media_files': {'enabled': False, 'order': [], 'count': 0, 'total_bytes': 0, 'entries': {}}, 'status': 'published', 'deletion_status': {'is_deleted': False, 'status': 'P'}, 'stats': {'this_version': {'views': 0, 'unique_views': 0, 'downloads': 0, 'unique_downloads': 0, 'data_volume': 0.0}, 'all_versions': {'views': 0, 'unique_views': 0, 'downloads': 0, 'unique_downloads': 0, 'data_volume': 0.0}}}\n"
     ]
    },
    {
     "name": "stderr",
     "output_type": "stream",
     "text": [
      "C:\\Users\\reema\\anaconda3\\Lib\\site-packages\\urllib3\\connectionpool.py:1056: InsecureRequestWarning: Unverified HTTPS request is being made to host '127.0.0.1'. Adding certificate verification is strongly advised. See: https://urllib3.readthedocs.io/en/1.26.x/advanced-usage.html#ssl-warnings\n",
      "  warnings.warn(\n"
     ]
    }
   ],
   "source": [
    "import requests\n",
    "\n",
    "# Define the URL to retrieve metadata\n",
    "record_id = \"4t77w-a4p21\"  # Replace with your actual record ID\n",
    "url = f\"https://127.0.0.1:5000/api/records/{record_id}\"\n",
    "\n",
    "# Your authorization token\n",
    "token = \"j66RscNftV77c28t3eNidKkkKPPQpgsLnXLcPXEHoPGxoD8FTxwtBcMFc0fC\"\n",
    "\n",
    "# Define the headers\n",
    "headers = {\n",
    "    \"Authorization\": f\"Bearer {token}\"\n",
    "}\n",
    "\n",
    "# Send the GET request to retrieve metadata\n",
    "response = requests.get(url, headers=headers, verify=False)\n",
    "\n",
    "# Check if the request was successful\n",
    "if response.status_code == 200:\n",
    "    metadata = response.json()\n",
    "    print(\"Metadata Retrieved Successfully!\")\n",
    "    print(metadata)\n",
    "else:\n",
    "    print(\"Error:\", response.status_code)\n",
    "    print(response.text)\n"
   ]
  },
  {
   "cell_type": "code",
   "execution_count": null,
   "id": "d53465a7-90c6-4cca-9e66-c60e2f8be1da",
   "metadata": {},
   "outputs": [],
   "source": [
    "import requests\n",
    "\n",
    "# Define the URL to retrieve metadata\n",
    "record_id = \"4t77w-a4p21\"  # Replace with your actual record ID\n",
    "url = f\"https://127.0.0.1:5000/api/records/{record_id}\"\n",
    "\n",
    "# Your authorization token\n",
    "token = \"j66RscNftV77c28t3eNidKkkKPPQpgsLnXLcPXEHoPGxoD8FTxwtBcMFc0fC\"\n",
    "\n",
    "# Define the headers\n",
    "headers = {\n",
    "    \"Authorization\": f\"Bearer {token}\"\n",
    "}\n",
    "\n",
    "# Send the GET request to retrieve metadata\n",
    "response = requests.get(url, headers=headers, verify=False)\n",
    "\n",
    "if response.status_code == 200:\n",
    "    record = response.json()\n",
    "    print(\"Detailed Metadata:\")\n",
    "    metadata = record.get('metadata', {})\n",
    "    print(json.dumps(metadata, indent=4, ensure_ascii=False))\n",
    "    print('metadata keys')\n",
    "    for key in metadata.keys(): print (key)\n",
    "else:\n",
    "    print(f\"Failed to fetch metadata. Status code: {response.status_code}\")\n",
    "    print(response.text)\n",
    "\n"
   ]
  }
 ],
 "metadata": {
  "kernelspec": {
   "display_name": "Python 3 (ipykernel)",
   "language": "python",
   "name": "python3"
  },
  "language_info": {
   "codemirror_mode": {
    "name": "ipython",
    "version": 3
   },
   "file_extension": ".py",
   "mimetype": "text/x-python",
   "name": "python",
   "nbconvert_exporter": "python",
   "pygments_lexer": "ipython3",
   "version": "3.11.5"
  }
 },
 "nbformat": 4,
 "nbformat_minor": 5
}
