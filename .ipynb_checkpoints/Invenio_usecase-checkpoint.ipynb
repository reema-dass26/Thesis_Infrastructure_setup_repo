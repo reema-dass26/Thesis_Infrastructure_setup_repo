{
 "cells": [
  {
   "cell_type": "code",
   "execution_count": 1,
   "id": "fe39662a-4090-4e86-b966-256a2cfce616",
   "metadata": {},
   "outputs": [
    {
     "name": "stdout",
     "output_type": "stream",
     "text": [
      "Model saved as iris_model.pkl\n"
     ]
    }
   ],
   "source": [
    "import pickle\n",
    "from sklearn.datasets import load_iris\n",
    "from sklearn.model_selection import train_test_split\n",
    "from sklearn.tree import DecisionTreeClassifier\n",
    "\n",
    "# Load a sample dataset\n",
    "data = load_iris()\n",
    "X = data.data\n",
    "y = data.target\n",
    "\n",
    "# Split the dataset into training and test sets\n",
    "X_train, X_test, y_train, y_test = train_test_split(X, y, test_size=0.3, random_state=42)\n",
    "\n",
    "# Train a simple Decision Tree model\n",
    "model = DecisionTreeClassifier(random_state=42)\n",
    "model.fit(X_train, y_train)\n",
    "\n",
    "# Save the trained model to a file using pickle\n",
    "model_filename = 'iris_model.pkl'\n",
    "with open(model_filename, 'wb') as model_file:\n",
    "    pickle.dump(model, model_file)\n",
    "\n",
    "print(f\"Model saved as {model_filename}\")\n"
   ]
  },
  {
   "cell_type": "code",
   "execution_count": 11,
   "id": "e2620c88-7a7a-4303-8e2f-79eb015048a5",
   "metadata": {
    "collapsed": true,
    "jupyter": {
     "outputs_hidden": true
    }
   },
   "outputs": [
    {
     "name": "stdout",
     "output_type": "stream",
     "text": [
      "201\n",
      "{'id': '2vrm1-w9756', 'created': '2025-03-17T13:17:44.514847+00:00', 'updated': '2025-03-17T13:17:44.550012+00:00', 'links': {'self': 'https://127.0.0.1:5000/api/records/2vrm1-w9756/draft', 'self_html': 'https://127.0.0.1:5000/uploads/2vrm1-w9756', 'self_iiif_manifest': 'https://127.0.0.1:5000/api/iiif/draft:2vrm1-w9756/manifest', 'self_iiif_sequence': 'https://127.0.0.1:5000/api/iiif/draft:2vrm1-w9756/sequence/default', 'files': 'https://127.0.0.1:5000/api/records/2vrm1-w9756/draft/files', 'media_files': 'https://127.0.0.1:5000/api/records/2vrm1-w9756/draft/media-files', 'archive': 'https://127.0.0.1:5000/api/records/2vrm1-w9756/draft/files-archive', 'archive_media': 'https://127.0.0.1:5000/api/records/2vrm1-w9756/draft/media-files-archive', 'record': 'https://127.0.0.1:5000/api/records/2vrm1-w9756', 'record_html': 'https://127.0.0.1:5000/records/2vrm1-w9756', 'publish': 'https://127.0.0.1:5000/api/records/2vrm1-w9756/draft/actions/publish', 'review': 'https://127.0.0.1:5000/api/records/2vrm1-w9756/draft/review', 'versions': 'https://127.0.0.1:5000/api/records/2vrm1-w9756/versions', 'access_links': 'https://127.0.0.1:5000/api/records/2vrm1-w9756/access/links', 'access_grants': 'https://127.0.0.1:5000/api/records/2vrm1-w9756/access/grants', 'access_users': 'https://127.0.0.1:5000/api/records/2vrm1-w9756/access/users', 'access_groups': 'https://127.0.0.1:5000/api/records/2vrm1-w9756/access/groups', 'access_request': 'https://127.0.0.1:5000/api/records/2vrm1-w9756/access/request', 'access': 'https://127.0.0.1:5000/api/records/2vrm1-w9756/access', 'reserve_doi': 'https://127.0.0.1:5000/api/records/2vrm1-w9756/draft/pids/doi', 'communities': 'https://127.0.0.1:5000/api/records/2vrm1-w9756/communities', 'communities-suggestions': 'https://127.0.0.1:5000/api/records/2vrm1-w9756/communities-suggestions', 'requests': 'https://127.0.0.1:5000/api/records/2vrm1-w9756/requests'}, 'revision_id': 4, 'parent': {'id': 'n3r0h-xbs92', 'access': {'grants': [], 'owned_by': {'user': '4'}, 'links': [], 'settings': {'allow_user_requests': False, 'allow_guest_requests': False, 'accept_conditions_text': None, 'secret_link_expiration': 0}}, 'communities': {}, 'pids': {}}, 'versions': {'is_latest': False, 'is_latest_draft': True, 'index': 1}, 'is_published': False, 'is_draft': True, 'expires_at': '2025-03-17 13:17:44.514878', 'pids': {}, 'metadata': {}, 'custom_fields': {}, 'access': {'record': 'public', 'files': 'public', 'embargo': {'active': False, 'reason': None}, 'status': 'metadata-only'}, 'files': {'enabled': True, 'order': [], 'count': 0, 'total_bytes': 0, 'entries': {}}, 'media_files': {'enabled': False, 'order': [], 'count': 0, 'total_bytes': 0, 'entries': {}}, 'status': 'draft'}\n",
      "201\n",
      "{'id': '2vrm1-w9756', 'created': '2025-03-17T13:17:44.514847+00:00', 'updated': '2025-03-17T13:17:44.550012+00:00', 'links': {'self': 'https://127.0.0.1:5000/api/records/2vrm1-w9756/draft', 'self_html': 'https://127.0.0.1:5000/uploads/2vrm1-w9756', 'self_iiif_manifest': 'https://127.0.0.1:5000/api/iiif/draft:2vrm1-w9756/manifest', 'self_iiif_sequence': 'https://127.0.0.1:5000/api/iiif/draft:2vrm1-w9756/sequence/default', 'files': 'https://127.0.0.1:5000/api/records/2vrm1-w9756/draft/files', 'media_files': 'https://127.0.0.1:5000/api/records/2vrm1-w9756/draft/media-files', 'archive': 'https://127.0.0.1:5000/api/records/2vrm1-w9756/draft/files-archive', 'archive_media': 'https://127.0.0.1:5000/api/records/2vrm1-w9756/draft/media-files-archive', 'record': 'https://127.0.0.1:5000/api/records/2vrm1-w9756', 'record_html': 'https://127.0.0.1:5000/records/2vrm1-w9756', 'publish': 'https://127.0.0.1:5000/api/records/2vrm1-w9756/draft/actions/publish', 'review': 'https://127.0.0.1:5000/api/records/2vrm1-w9756/draft/review', 'versions': 'https://127.0.0.1:5000/api/records/2vrm1-w9756/versions', 'access_links': 'https://127.0.0.1:5000/api/records/2vrm1-w9756/access/links', 'access_grants': 'https://127.0.0.1:5000/api/records/2vrm1-w9756/access/grants', 'access_users': 'https://127.0.0.1:5000/api/records/2vrm1-w9756/access/users', 'access_groups': 'https://127.0.0.1:5000/api/records/2vrm1-w9756/access/groups', 'access_request': 'https://127.0.0.1:5000/api/records/2vrm1-w9756/access/request', 'access': 'https://127.0.0.1:5000/api/records/2vrm1-w9756/access', 'reserve_doi': 'https://127.0.0.1:5000/api/records/2vrm1-w9756/draft/pids/doi', 'communities': 'https://127.0.0.1:5000/api/records/2vrm1-w9756/communities', 'communities-suggestions': 'https://127.0.0.1:5000/api/records/2vrm1-w9756/communities-suggestions', 'requests': 'https://127.0.0.1:5000/api/records/2vrm1-w9756/requests'}, 'revision_id': 4, 'parent': {'id': 'n3r0h-xbs92', 'access': {'grants': [], 'owned_by': {'user': '4'}, 'links': [], 'settings': {'allow_user_requests': False, 'allow_guest_requests': False, 'accept_conditions_text': None, 'secret_link_expiration': 0}}, 'communities': {}, 'pids': {}}, 'versions': {'is_latest': False, 'is_latest_draft': True, 'index': 1}, 'is_published': False, 'is_draft': True, 'expires_at': '2025-03-17 13:17:44.514878', 'pids': {}, 'metadata': {}, 'custom_fields': {}, 'access': {'record': 'public', 'files': 'public', 'embargo': {'active': False, 'reason': None}, 'status': 'metadata-only'}, 'files': {'enabled': True, 'order': [], 'count': 0, 'total_bytes': 0, 'entries': {}}, 'media_files': {'enabled': False, 'order': [], 'count': 0, 'total_bytes': 0, 'entries': {}}, 'status': 'draft'}\n",
      "API response saved to Code_fetched_metadata_invenio\\api_response_1.json\n"
     ]
    },
    {
     "name": "stderr",
     "output_type": "stream",
     "text": [
      "C:\\Users\\reema\\anaconda3\\Lib\\site-packages\\urllib3\\connectionpool.py:1056: InsecureRequestWarning: Unverified HTTPS request is being made to host '127.0.0.1'. Adding certificate verification is strongly advised. See: https://urllib3.readthedocs.io/en/1.26.x/advanced-usage.html#ssl-warnings\n",
      "  warnings.warn(\n"
     ]
    }
   ],
   "source": [
    "import json\n",
    "\n",
    "# Define the URL and token\n",
    "url = \"https://127.0.0.1:5000/api/records\"\n",
    "token = \"MsJlkuteT0jDcjo36aePjivvgYVwyFpGUtPZ6FPVCfjbcTzDcWwcsTD3NLGj\"  \n",
    "\n",
    "# Define the headers\n",
    "headers = {\n",
    "    \"Content-Type\": \"application/json\",\n",
    "    \"Authorization\": f\"Bearer {token}\"\n",
    "}\n",
    "\n",
    "# Define the data to be sent in the request\n",
    "data = {\n",
    "    \"title\": \"My trined ML model\",\n",
    "    \"description\": \"This is a sample unstructed data of a simple trained ML model\",\n",
    "    \"creator\": \"Reema Dass\"\n",
    "}\n",
    "\n",
    "# Send the POST request\n",
    "response = requests.post(url, headers=headers, data=json.dumps(data), verify=False)\n",
    "\n",
    "# Print the response\n",
    "print(response.status_code)\n",
    "print(response.json())\n",
    "data = response.json()\n",
    "\n",
    "\n",
    "\n",
    "        # Define the folder path to save the JSON file\n",
    "folder_path = \"Code_fetched_metadata_invenio\"\n",
    "os.makedirs(folder_path, exist_ok=True)\n",
    "\n",
    "        # Define the filename for the JSON file\n",
    "json_filename = os.path.join(folder_path, \"api_response_1.json\")\n",
    "\n",
    "        # Save the entire response as a JSON file\n",
    "with open(json_filename, \"w\") as json_file:\n",
    "        json.dump(data, json_file, indent=4)\n",
    "\n",
    "print(f\"API response saved to {json_filename}\")\n",
    "   \n",
    "\n",
    "# print(json.dumps(response, indent=4, ensure_ascii=False))"
   ]
  },
  {
   "cell_type": "code",
   "execution_count": 17,
   "id": "42cc0dcf-3c28-4c3a-8a9a-4076b27e5b8b",
   "metadata": {},
   "outputs": [
    {
     "name": "stdout",
     "output_type": "stream",
     "text": [
      "201\n",
      "{'enabled': True, 'links': {'self': 'https://127.0.0.1:5000/api/records/2vrm1-w9756/draft/files', 'archive': 'https://127.0.0.1:5000/api/records/2vrm1-w9756/draft/files-archive'}, 'entries': [{'key': 'ML_model', 'created': '2025-03-17T13:18:37.007854+00:00', 'updated': '2025-03-17T13:18:37.012851+00:00', 'status': 'pending', 'metadata': None, 'access': {'hidden': False}, 'links': {'self': 'https://127.0.0.1:5000/api/records/2vrm1-w9756/draft/files/ML_model', 'content': 'https://127.0.0.1:5000/api/records/2vrm1-w9756/draft/files/ML_model/content', 'commit': 'https://127.0.0.1:5000/api/records/2vrm1-w9756/draft/files/ML_model/commit'}}], 'default_preview': None, 'order': []}\n",
      "API response saved to Code_fetched_metadata_invenio\\api_response_2.json\n"
     ]
    },
    {
     "name": "stderr",
     "output_type": "stream",
     "text": [
      "C:\\Users\\reema\\anaconda3\\Lib\\site-packages\\urllib3\\connectionpool.py:1056: InsecureRequestWarning: Unverified HTTPS request is being made to host '127.0.0.1'. Adding certificate verification is strongly advised. See: https://urllib3.readthedocs.io/en/1.26.x/advanced-usage.html#ssl-warnings\n",
      "  warnings.warn(\n"
     ]
    }
   ],
   "source": [
    "\n",
    "   \n",
    "import requests\n",
    "import json\n",
    "import os\n",
    "\n",
    "# Define the URL and token\n",
    "url = \"https://127.0.0.1:5000/api/records/2vrm1-w9756/draft/files\"\n",
    "token = \"MsJlkuteT0jDcjo36aePjivvgYVwyFpGUtPZ6FPVCfjbcTzDcWwcsTD3NLGj\"  \n",
    "\n",
    "# Define the headers\n",
    "headers = {\n",
    "    \"Content-Type\": \"application/json\",\n",
    "    \"Authorization\": f\"Bearer {token}\"\n",
    "}\n",
    "\n",
    "# Define the data to be sent in the request\n",
    "# data = [\n",
    "#     {\"key\": \"ML_model\"}\n",
    "# ]\n",
    "\n",
    "# Send the POST request\n",
    "response = requests.post(url, headers=headers, verify=False)\n",
    "\n",
    "# Print the response\n",
    "print(response.status_code)\n",
    "print(response.json())\n",
    "\n",
    "# Define the folder path to save the JSON file\n",
    "folder_path = \"Code_fetched_metadata_invenio\"\n",
    "os.makedirs(folder_path, exist_ok=True)\n",
    "data=response.json()\n",
    "# Define the filename for the JSON file\n",
    "json_filename = os.path.join(folder_path, \"api_response_2.json\")\n",
    "\n",
    "# Save the entire response as a JSON file\n",
    "with open(json_filename, \"w\") as json_file:\n",
    "    json.dump(data, json_file, indent=4)\n",
    "\n",
    "print(f\"API response saved to {json_filename}\")\n"
   ]
  },
  {
   "cell_type": "code",
   "execution_count": 18,
   "id": "4140a3a6-4056-4a5f-b075-9f97362b11d6",
   "metadata": {},
   "outputs": [
    {
     "name": "stdout",
     "output_type": "stream",
     "text": [
      "200\n",
      "{'key': 'ML_model', 'created': '2025-03-17T13:18:37.007854+00:00', 'updated': '2025-03-17T13:18:37.012851+00:00', 'status': 'pending', 'metadata': None, 'access': {'hidden': False}, 'links': {'self': 'https://127.0.0.1:5000/api/records/2vrm1-w9756/draft/files/ML_model', 'content': 'https://127.0.0.1:5000/api/records/2vrm1-w9756/draft/files/ML_model/content', 'commit': 'https://127.0.0.1:5000/api/records/2vrm1-w9756/draft/files/ML_model/commit'}}\n",
      "API response saved to Code_fetched_metadata_invenio\\api_response_3.json\n"
     ]
    },
    {
     "name": "stderr",
     "output_type": "stream",
     "text": [
      "C:\\Users\\reema\\anaconda3\\Lib\\site-packages\\urllib3\\connectionpool.py:1056: InsecureRequestWarning: Unverified HTTPS request is being made to host '127.0.0.1'. Adding certificate verification is strongly advised. See: https://urllib3.readthedocs.io/en/1.26.x/advanced-usage.html#ssl-warnings\n",
      "  warnings.warn(\n"
     ]
    }
   ],
   "source": [
    "import requests\n",
    "\n",
    "# Define the URL and token\n",
    "url = \"https://127.0.0.1:5000/api/records/2vrm1-w9756/draft/files/ML_model/content\"\n",
    "token = \"MsJlkuteT0jDcjo36aePjivvgYVwyFpGUtPZ6FPVCfjbcTzDcWwcsTD3NLGj\"  \n",
    "\n",
    "# Define the headers\n",
    "headers = {\n",
    "    \"Content-Type\": \"application/octet-stream\",\n",
    "    \"Authorization\": f\"Bearer {token}\"\n",
    "}\n",
    "\n",
    "# Open the file you want to upload in binary mode\n",
    "with open('iris_model.pkl', 'rb') as file:  # Replace with the actual .pkl file name\n",
    "    # Send the PUT request\n",
    "    response = requests.put(url, headers=headers, data=file, verify=False)\n",
    "\n",
    "# Print the response\n",
    "print(response.status_code)\n",
    "print(response.json())\n",
    "# Define the folder path to save the JSON file\n",
    "folder_path = \"Code_fetched_metadata_invenio\"\n",
    "os.makedirs(folder_path, exist_ok=True)\n",
    "data=response.json()\n",
    "# Define the filename for the JSON file\n",
    "json_filename = os.path.join(folder_path, \"api_response_3.json\")\n",
    "\n",
    "# Save the entire response as a JSON file\n",
    "with open(json_filename, \"w\") as json_file:\n",
    "    json.dump(data, json_file, indent=4)\n",
    "\n",
    "print(f\"API response saved to {json_filename}\")\n",
    "\n"
   ]
  },
  {
   "cell_type": "code",
   "execution_count": 19,
   "id": "ca7b0a45-12b7-4d1d-aa79-4568ff5c8fbd",
   "metadata": {},
   "outputs": [
    {
     "name": "stderr",
     "output_type": "stream",
     "text": [
      "C:\\Users\\reema\\anaconda3\\Lib\\site-packages\\urllib3\\connectionpool.py:1056: InsecureRequestWarning: Unverified HTTPS request is being made to host '127.0.0.1'. Adding certificate verification is strongly advised. See: https://urllib3.readthedocs.io/en/1.26.x/advanced-usage.html#ssl-warnings\n",
      "  warnings.warn(\n"
     ]
    },
    {
     "name": "stdout",
     "output_type": "stream",
     "text": [
      "200\n",
      "{'key': 'ML_model', 'storage_class': 'L', 'checksum': 'md5:fbbe18e660d09604fc91ab9282795600', 'size': 2794, 'created': '2025-03-17T13:18:37.007854+00:00', 'updated': '2025-03-17T13:27:46.204339+00:00', 'status': 'completed', 'mimetype': 'application/octet-stream', 'version_id': '041dd488-3582-4196-bcbe-bd782067a59d', 'file_id': '560f094b-956b-4980-af5e-133505b6e9a6', 'bucket_id': 'd694ddeb-9079-475b-963f-55ef5f7f54ca', 'metadata': None, 'access': {'hidden': False}, 'links': {'self': 'https://127.0.0.1:5000/api/records/2vrm1-w9756/draft/files/ML_model', 'content': 'https://127.0.0.1:5000/api/records/2vrm1-w9756/draft/files/ML_model/content', 'commit': 'https://127.0.0.1:5000/api/records/2vrm1-w9756/draft/files/ML_model/commit'}}\n",
      "API response saved to Code_fetched_metadata_invenio\\api_response_4.json\n"
     ]
    }
   ],
   "source": [
    "import requests\n",
    "\n",
    "# Define the URL and token\n",
    "url = \"https://127.0.0.1:5000/api/records/2vrm1-w9756/draft/files/ML_model/commit\"\n",
    "token = \"MsJlkuteT0jDcjo36aePjivvgYVwyFpGUtPZ6FPVCfjbcTzDcWwcsTD3NLGj\"  \n",
    "\n",
    "# Define the headers\n",
    "headers = {\n",
    "    \"Authorization\": f\"Bearer {token}\"\n",
    "}\n",
    "\n",
    "# Send the POST request\n",
    "response = requests.post(url, headers=headers, verify=False)\n",
    "\n",
    "# Print the response\n",
    "print(response.status_code)\n",
    "print(response.json())\n",
    "# Define the folder path to save the JSON file\n",
    "folder_path = \"Code_fetched_metadata_invenio\"\n",
    "os.makedirs(folder_path, exist_ok=True)\n",
    "data=response.json()\n",
    "# Define the filename for the JSON file\n",
    "json_filename = os.path.join(folder_path, \"api_response_4.json\")\n",
    "\n",
    "# Save the entire response as a JSON file\n",
    "with open(json_filename, \"w\") as json_file:\n",
    "    json.dump(data, json_file, indent=4)\n",
    "\n",
    "print(f\"API response saved to {json_filename}\")\n"
   ]
  },
  {
   "cell_type": "markdown",
   "id": "29396e7c-e148-4981-9068-9fa4fe1e6b62",
   "metadata": {},
   "source": [
    "publish_programatically has some issues"
   ]
  },
  {
   "cell_type": "code",
   "execution_count": 20,
   "id": "ec1aa9de-38d0-4aca-99b5-43fd7d164906",
   "metadata": {},
   "outputs": [
    {
     "name": "stdout",
     "output_type": "stream",
     "text": [
      "400\n",
      "{'status': 400, 'message': 'A validation error occurred.', 'errors': [{'field': 'metadata.resource_type', 'messages': ['Missing data for required field.']}, {'field': 'metadata.creators', 'messages': ['Missing data for required field.']}, {'field': 'metadata.title', 'messages': ['Missing data for required field.']}, {'field': 'metadata.publication_date', 'messages': ['Missing data for required field.']}]}\n",
      "API response saved to Code_fetched_metadata_invenio\\api_response_5.json\n"
     ]
    },
    {
     "name": "stderr",
     "output_type": "stream",
     "text": [
      "C:\\Users\\reema\\anaconda3\\Lib\\site-packages\\urllib3\\connectionpool.py:1056: InsecureRequestWarning: Unverified HTTPS request is being made to host '127.0.0.1'. Adding certificate verification is strongly advised. See: https://urllib3.readthedocs.io/en/1.26.x/advanced-usage.html#ssl-warnings\n",
      "  warnings.warn(\n"
     ]
    }
   ],
   "source": [
    "# import requests\n",
    "\n",
    "# # Define the URL and token\n",
    "# url = \"https://127.0.0.1:5000/api/records/4t77w-a4p21/draft/actions/publish\"\n",
    "# # curl -k -XPOST -H \"Authorization: Bearer <TOKEN>\" https://127.0.0.1:5000/api/records/jnmmp-51n47/draft/actions/publish\n",
    "# token = \"j66RscNftV77c28t3eNidKkkKPPQpgsLnXLcPXEHoPGxoD8FTxwtBcMFc0fC\"  \n",
    "\n",
    "# # Define the headers\n",
    "# headers = {\n",
    "#     \"Authorization\": f\"Bearer {token}\"\n",
    "# }\n",
    "\n",
    "# # Send the POST request\n",
    "# response = requests.post(url, headers=headers, verify=False)\n",
    "\n",
    "# # Print the response\n",
    "# print(response.status_code)\n",
    "# print(response.json())\n",
    "import requests\n",
    "\n",
    "# Define the URL and token\n",
    "url = \"https://127.0.0.1:5000/api/records/2vrm1-w9756/draft/actions/publish\"  # Update this URL as per your requirement\n",
    "token = \"MsJlkuteT0jDcjo36aePjivvgYVwyFpGUtPZ6FPVCfjbcTzDcWwcsTD3NLGj\"  # Your token\n",
    "\n",
    "# Define the headers\n",
    "headers = {\n",
    "    \"Authorization\": f\"Bearer {token}\"\n",
    "}\n",
    "\n",
    "# Send the POST request\n",
    "response = requests.post(url, headers=headers, verify=False)\n",
    "\n",
    "# Print the response\n",
    "print(response.status_code)\n",
    "print(response.json())\n",
    "# Define the folder path to save the JSON file\n",
    "folder_path = \"Code_fetched_metadata_invenio\"\n",
    "os.makedirs(folder_path, exist_ok=True)\n",
    "data=response.json()\n",
    "# Define the filename for the JSON file\n",
    "json_filename = os.path.join(folder_path, \"api_response_5.json\")\n",
    "\n",
    "# Save the entire response as a JSON file\n",
    "with open(json_filename, \"w\") as json_file:\n",
    "    json.dump(data, json_file, indent=4)\n",
    "\n",
    "print(f\"API response saved to {json_filename}\")"
   ]
  },
  {
   "cell_type": "code",
   "execution_count": 28,
   "id": "0a19442c-36a3-4fce-b0d5-d5f7ce0e7776",
   "metadata": {},
   "outputs": [
    {
     "name": "stdout",
     "output_type": "stream",
     "text": [
      "400\n",
      "{'status': 400, 'message': 'A validation error occurred.', 'errors': [{'field': 'metadata.resource_type', 'messages': ['Missing data for required field.']}, {'field': 'metadata.creators', 'messages': ['Missing data for required field.']}, {'field': 'metadata.title', 'messages': ['Missing data for required field.']}, {'field': 'metadata.publication_date', 'messages': ['Missing data for required field.']}]}\n",
      "API response saved to Code_fetched_metadata_invenio\\bad_meta_5.json\n"
     ]
    },
    {
     "name": "stderr",
     "output_type": "stream",
     "text": [
      "C:\\Users\\reema\\anaconda3\\Lib\\site-packages\\urllib3\\connectionpool.py:1056: InsecureRequestWarning: Unverified HTTPS request is being made to host '127.0.0.1'. Adding certificate verification is strongly advised. See: https://urllib3.readthedocs.io/en/1.26.x/advanced-usage.html#ssl-warnings\n",
      "  warnings.warn(\n"
     ]
    }
   ],
   "source": [
    "import requests\n",
    "import json\n",
    "import os\n",
    "\n",
    "# Define the URL and token\n",
    "url = \"https://127.0.0.1:5000/api/records/2vrm1-w9756/draft/actions/publish\"  # Update this URL as per your requirement\n",
    "token = \"MsJlkuteT0jDcjo36aePjivvgYVwyFpGUtPZ6FPVCfjbcTzDcWwcsTD3NLGj\"  # Your token\n",
    "\n",
    "# Define the headers\n",
    "headers = {\n",
    "    \"Authorization\": f\"Bearer {token}\",\n",
    "    \"Content-Type\": \"application/json\"\n",
    "}\n",
    "\n",
    "# Define the data to be sent in the request, following the provided structure\n",
    "data = {\n",
    "  \"metadata\": {\n",
    "    \"creators\": [\n",
    "      {\n",
    "        \"person_or_org\": {\n",
    "          \"name\": \"Nielsen, Lars Holm\",\n",
    "          \"type\": \"personal\",\n",
    "          \"given_name\": \"Lars Holm\",\n",
    "          \"family_name\": \"Nielsen\",\n",
    "          \"identifiers\": [\n",
    "            {\n",
    "              \"scheme\": \"orcid\",\n",
    "              \"identifier\": \"0000-0001-8135-3489\"\n",
    "            }\n",
    "          ]\n",
    "        },\n",
    "        \"affiliations\": [\n",
    "          {\n",
    "            \"id\": \"01ggx4157\",\n",
    "            \"name\": \"CERN\"\n",
    "          }\n",
    "        ]\n",
    "      }\n",
    "    ],\n",
    "    \"title\": \"InvenioRDM\",\n",
    "    \"publication_date\":  \"2018/2020-09\",  # Correct date format\n",
    "    \"additional_titles\": [\n",
    "      {\n",
    "        \"title\": \"A research data management platform\",\n",
    "        \"type\": {\n",
    "          \"id\": \"alternative-title\",\n",
    "          \"title\": {\n",
    "            \"en\": \"Alternative Title\"\n",
    "          }\n",
    "        },\n",
    "        \"lang\": {\n",
    "          \"id\": \"eng\"\n",
    "        }\n",
    "      }\n",
    "    ]\n",
    "  }\n",
    "}\n",
    "\n",
    "\n",
    "# Send the POST request\n",
    "response = requests.post(url, headers=headers, data=json.dumps(data), verify=False)\n",
    "\n",
    "# Print the response\n",
    "print(response.status_code)\n",
    "print(response.json())\n",
    "\n",
    "# Save the response to a file\n",
    "folder_path = \"Code_fetched_metadata_invenio\"\n",
    "os.makedirs(folder_path, exist_ok=True)\n",
    "\n",
    "# Define the filename for the JSON file\n",
    "json_filename = os.path.join(folder_path, \"bad_meta_5.json\")\n",
    "\n",
    "# Save the entire response as a JSON file\n",
    "with open(json_filename, \"w\") as json_file:\n",
    "    json.dump(response.json(), json_file, indent=4)\n",
    "\n",
    "print(f\"API response saved to {json_filename}\")\n"
   ]
  },
  {
   "cell_type": "markdown",
   "id": "9334811b-c10d-4652-a559-cffa74c2c6a9",
   "metadata": {},
   "source": [
    "import requests\n",
    "import json\n",
    "\n",
    "# Define the URL and token\n",
    "url = \"https://127.0.0.1:5000/api/records/4t77w-a4p21/draft/actions/publish\"\n",
    "token = \"j66RscNftV77c28t3eNidKkkKPPQpgsLnXLcPXEHoPGxoD8FTxwtBcMFc0fC\"  \n",
    "\n",
    "# Define the headers\n",
    "headers = {\n",
    "    \"Authorization\": f\"Bearer {token}\",\n",
    "    \"Content-Type\": \"application/json\"\n",
    "}\n",
    "\n",
    "# Define the payload with the required fields\n",
    "payload = {\n",
    "    \"metadata\": {\n",
    "        \"resource_type\": \"ML model in .pkl format\",  \n",
    "        \"creators\": [{\"name\": \"Reema Dass\"}],  \n",
    "        \"title\": \"My sample Published Record\",  \n",
    "        \"publication_date\": \"2025-01-20\"  \n",
    "    }\n",
    "}\n",
    "\n",
    "# Send the POST request with the metadata\n",
    "response = requests.post(url, headers=headers, data=json.dumps(payload), verify=False)\n",
    "\n",
    "# Print the response\n",
    "print(response.status_code)\n",
    "print(\"Response Text:\", response.text)  # This will give a more detailed error message\n"
   ]
  },
  {
   "cell_type": "markdown",
   "id": "6ddd018f-e938-4d5a-a78f-ae65e0134183",
   "metadata": {},
   "source": [
    "followed steps from :https://inveniordm.docs.cern.ch/install/run/#upload-a-file-to-a-record\n",
    "\n",
    "But, i get the above error:\n",
    "400\n",
    "{'status': 400, 'message': 'A validation error occurred.', 'errors': [{'field': 'metadata.resource_type', 'messages': ['Missing data for required field.']}, {'field': 'metadata.creators', 'messages': ['Missing data for required field.']}, {'field': 'metadata.title', 'messages': ['Missing data for required field.']}, {'field': 'metadata.publication_date', 'messages': ['Missing data for required field.']}]}\n",
    "\n",
    "\n",
    "Which i understand as i also see the same warning on the UI but i am unable to understand how to set them through python code. alternate is to test it by manually inputting them on the UI and publishing#\n",
    "\n",
    "\n",
    "the last step is to publish.\n",
    "\n"
   ]
  },
  {
   "cell_type": "markdown",
   "id": "2d0d69cb-4c71-4035-9eec-fbd92d6db47b",
   "metadata": {},
   "source": [
    "#TODO figure how to update metadata , Relevant and important!!"
   ]
  },
  {
   "cell_type": "code",
   "execution_count": null,
   "id": "b0c9d3d6-e82c-485d-8542-fa6344701eb5",
   "metadata": {},
   "outputs": [],
   "source": []
  },
  {
   "cell_type": "code",
   "execution_count": null,
   "id": "c84ab1d8-58dd-42cc-81db-ea09528fd0a1",
   "metadata": {},
   "outputs": [],
   "source": []
  },
  {
   "cell_type": "markdown",
   "id": "0f2a64c0-f74f-4375-979d-5994f24d400a",
   "metadata": {},
   "source": [
    "retrieve metadata"
   ]
  },
  {
   "cell_type": "code",
   "execution_count": 29,
   "id": "0fce39f1-ef89-47d9-be5a-05e2709335b8",
   "metadata": {},
   "outputs": [
    {
     "name": "stdout",
     "output_type": "stream",
     "text": [
      "Metadata Retrieved Successfully!\n",
      "{'id': '2vrm1-w9756', 'created': '2025-03-17T13:44:20.010634+00:00', 'updated': '2025-03-17T13:44:20.123504+00:00', 'links': {'self': 'https://127.0.0.1:5000/api/records/2vrm1-w9756', 'self_html': 'https://127.0.0.1:5000/records/2vrm1-w9756', 'parent': 'https://127.0.0.1:5000/api/records/n3r0h-xbs92', 'parent_html': 'https://127.0.0.1:5000/records/n3r0h-xbs92', 'self_iiif_manifest': 'https://127.0.0.1:5000/api/iiif/record:2vrm1-w9756/manifest', 'self_iiif_sequence': 'https://127.0.0.1:5000/api/iiif/record:2vrm1-w9756/sequence/default', 'files': 'https://127.0.0.1:5000/api/records/2vrm1-w9756/files', 'media_files': 'https://127.0.0.1:5000/api/records/2vrm1-w9756/media-files', 'archive': 'https://127.0.0.1:5000/api/records/2vrm1-w9756/files-archive', 'archive_media': 'https://127.0.0.1:5000/api/records/2vrm1-w9756/media-files-archive', 'latest': 'https://127.0.0.1:5000/api/records/2vrm1-w9756/versions/latest', 'latest_html': 'https://127.0.0.1:5000/records/2vrm1-w9756/latest', 'draft': 'https://127.0.0.1:5000/api/records/2vrm1-w9756/draft', 'versions': 'https://127.0.0.1:5000/api/records/2vrm1-w9756/versions', 'access_links': 'https://127.0.0.1:5000/api/records/2vrm1-w9756/access/links', 'access_grants': 'https://127.0.0.1:5000/api/records/2vrm1-w9756/access/grants', 'access_users': 'https://127.0.0.1:5000/api/records/2vrm1-w9756/access/users', 'access_groups': 'https://127.0.0.1:5000/api/records/2vrm1-w9756/access/groups', 'access_request': 'https://127.0.0.1:5000/api/records/2vrm1-w9756/access/request', 'access': 'https://127.0.0.1:5000/api/records/2vrm1-w9756/access', 'reserve_doi': 'https://127.0.0.1:5000/api/records/2vrm1-w9756/draft/pids/doi', 'communities': 'https://127.0.0.1:5000/api/records/2vrm1-w9756/communities', 'communities-suggestions': 'https://127.0.0.1:5000/api/records/2vrm1-w9756/communities-suggestions', 'requests': 'https://127.0.0.1:5000/api/records/2vrm1-w9756/requests'}, 'revision_id': 4, 'parent': {'id': 'n3r0h-xbs92', 'access': {'grants': [], 'owned_by': {'user': '4'}, 'links': [], 'settings': {'allow_user_requests': False, 'allow_guest_requests': False, 'accept_conditions_text': None, 'secret_link_expiration': 0}}, 'communities': {}, 'pids': {}}, 'versions': {'is_latest': True, 'is_latest_draft': True, 'index': 1}, 'is_published': True, 'is_draft': False, 'pids': {'oai': {'identifier': 'oai:my-site.com:2vrm1-w9756', 'provider': 'oai'}}, 'metadata': {'resource_type': {'id': 'model', 'title': {'de': 'Modell', 'en': 'Model', 'sv': 'Modell'}}, 'creators': [{'person_or_org': {'type': 'personal', 'name': 'Dass, Reema', 'given_name': 'Reema', 'family_name': 'Dass'}, 'role': {'id': 'other', 'title': {'de': 'Andere', 'en': 'Other', 'sv': 'Övriga'}}}], 'title': 'ML model', 'publication_date': '2025'}, 'custom_fields': {}, 'access': {'record': 'public', 'files': 'public', 'embargo': {'active': False, 'reason': None}, 'status': 'open'}, 'files': {'enabled': True, 'default_preview': 'ML_model', 'order': [], 'count': 1, 'total_bytes': 2794, 'entries': {'ML_model': {'id': '560f094b-956b-4980-af5e-133505b6e9a6', 'checksum': 'md5:fbbe18e660d09604fc91ab9282795600', 'ext': 'bin', 'size': 2794, 'mimetype': 'application/octet-stream', 'storage_class': 'L', 'key': 'ML_model', 'metadata': {}, 'access': {'hidden': False}, 'links': {'self': 'https://127.0.0.1:5000/api/records/2vrm1-w9756/files/ML_model', 'content': 'https://127.0.0.1:5000/api/records/2vrm1-w9756/files/ML_model/content'}}}}, 'media_files': {'enabled': False, 'order': [], 'count': 0, 'total_bytes': 0, 'entries': {}}, 'status': 'published', 'deletion_status': {'is_deleted': False, 'status': 'P'}, 'stats': {'this_version': {'views': 0, 'unique_views': 0, 'downloads': 0, 'unique_downloads': 0, 'data_volume': 0.0}, 'all_versions': {'views': 0, 'unique_views': 0, 'downloads': 0, 'unique_downloads': 0, 'data_volume': 0.0}}}\n",
      "API response saved to Code_fetched_metadata_invenio\\api_response_6.json\n"
     ]
    },
    {
     "name": "stderr",
     "output_type": "stream",
     "text": [
      "C:\\Users\\reema\\anaconda3\\Lib\\site-packages\\urllib3\\connectionpool.py:1056: InsecureRequestWarning: Unverified HTTPS request is being made to host '127.0.0.1'. Adding certificate verification is strongly advised. See: https://urllib3.readthedocs.io/en/1.26.x/advanced-usage.html#ssl-warnings\n",
      "  warnings.warn(\n"
     ]
    }
   ],
   "source": [
    "import requests\n",
    "\n",
    "# Define the URL to retrieve metadata\n",
    "record_id = \"2vrm1-w9756\"  # Replace with your actual record ID\n",
    "url = f\"https://127.0.0.1:5000/api/records/{record_id}\"\n",
    "\n",
    "# Your authorization token\n",
    "token = \"MsJlkuteT0jDcjo36aePjivvgYVwyFpGUtPZ6FPVCfjbcTzDcWwcsTD3NLGj\"\n",
    "\n",
    "# Define the headers\n",
    "headers = {\n",
    "    \"Authorization\": f\"Bearer {token}\"\n",
    "}\n",
    "\n",
    "# Send the GET request to retrieve metadata\n",
    "response = requests.get(url, headers=headers, verify=False)\n",
    "\n",
    "# Check if the request was successful\n",
    "if response.status_code == 200:\n",
    "    metadata = response.json()\n",
    "    print(\"Metadata Retrieved Successfully!\")\n",
    "    print(metadata)\n",
    "else:\n",
    "    print(\"Error:\", response.status_code)\n",
    "    print(response.text)\n",
    "\n",
    "# Save the response to a file\n",
    "folder_path = \"Code_fetched_metadata_invenio\"\n",
    "os.makedirs(folder_path, exist_ok=True)\n",
    "\n",
    "# Define the filename for the JSON file\n",
    "json_filename = os.path.join(folder_path, \"api_response_6.json\")\n",
    "\n",
    "# Save the entire response as a JSON file\n",
    "with open(json_filename, \"w\") as json_file:\n",
    "    json.dump(response.json(), json_file, indent=4)\n",
    "\n",
    "print(f\"API response saved to {json_filename}\")\n"
   ]
  },
  {
   "cell_type": "code",
   "execution_count": 31,
   "id": "d53465a7-90c6-4cca-9e66-c60e2f8be1da",
   "metadata": {},
   "outputs": [
    {
     "name": "stdout",
     "output_type": "stream",
     "text": [
      "Detailed Metadata:\n",
      "{\n",
      "    \"resource_type\": {\n",
      "        \"id\": \"model\",\n",
      "        \"title\": {\n",
      "            \"de\": \"Modell\",\n",
      "            \"en\": \"Model\",\n",
      "            \"sv\": \"Modell\"\n",
      "        }\n",
      "    },\n",
      "    \"creators\": [\n",
      "        {\n",
      "            \"person_or_org\": {\n",
      "                \"type\": \"personal\",\n",
      "                \"name\": \"Dass, Reema\",\n",
      "                \"given_name\": \"Reema\",\n",
      "                \"family_name\": \"Dass\"\n",
      "            },\n",
      "            \"role\": {\n",
      "                \"id\": \"other\",\n",
      "                \"title\": {\n",
      "                    \"de\": \"Andere\",\n",
      "                    \"en\": \"Other\",\n",
      "                    \"sv\": \"Övriga\"\n",
      "                }\n",
      "            }\n",
      "        }\n",
      "    ],\n",
      "    \"title\": \"ML model\",\n",
      "    \"publication_date\": \"2025\"\n",
      "}\n",
      "metadata keys\n",
      "resource_type\n",
      "creators\n",
      "title\n",
      "publication_date\n",
      "API response saved to Code_fetched_metadata_invenio\\Final_metadata_7.json\n"
     ]
    },
    {
     "name": "stderr",
     "output_type": "stream",
     "text": [
      "C:\\Users\\reema\\anaconda3\\Lib\\site-packages\\urllib3\\connectionpool.py:1056: InsecureRequestWarning: Unverified HTTPS request is being made to host '127.0.0.1'. Adding certificate verification is strongly advised. See: https://urllib3.readthedocs.io/en/1.26.x/advanced-usage.html#ssl-warnings\n",
      "  warnings.warn(\n"
     ]
    }
   ],
   "source": [
    "import requests\n",
    "import json\n",
    "# Define the URL to retrieve metadata\n",
    "record_id = \"2vrm1-w9756\"  \n",
    "url = f\"https://127.0.0.1:5000/api/records/{record_id}\"\n",
    "\n",
    "# Your authorization token\n",
    "token = \"MsJlkuteT0jDcjo36aePjivvgYVwyFpGUtPZ6FPVCfjbcTzDcWwcsTD3NLGj\"\n",
    "\n",
    "# Define the headers\n",
    "headers = {\n",
    "    \"Authorization\": f\"Bearer {token}\"\n",
    "}\n",
    "\n",
    "# Send the GET request to retrieve metadata\n",
    "response = requests.get(url, headers=headers, verify=False)\n",
    "\n",
    "if response.status_code == 200:\n",
    "    record = response.json()\n",
    "    print(\"Detailed Metadata:\")\n",
    "    metadata = record.get('metadata', {})\n",
    "    print(json.dumps(metadata, indent=4, ensure_ascii=False))\n",
    "    print('metadata keys')\n",
    "    for key in metadata.keys(): print (key)\n",
    "else:\n",
    "    print(f\"Failed to fetch metadata. Status code: {response.status_code}\")\n",
    "    print(response.text)\n",
    "\n",
    "# Save the response to a file\n",
    "folder_path = \"Code_fetched_metadata_invenio\"\n",
    "os.makedirs(folder_path, exist_ok=True)\n",
    "\n",
    "# Define the filename for the JSON file\n",
    "json_filename = os.path.join(folder_path, \"Final_metadata_7.json\")\n",
    "\n",
    "# Save the entire response as a JSON file\n",
    "with open(json_filename, \"w\") as json_file:\n",
    "    json.dump(response.json(), json_file, indent=4)\n",
    "\n",
    "print(f\"API response saved to {json_filename}\")\n"
   ]
  },
  {
   "cell_type": "code",
   "execution_count": null,
   "id": "cfd3a3bd-cacb-434a-8f88-f83e8df1eb73",
   "metadata": {},
   "outputs": [],
   "source": []
  }
 ],
 "metadata": {
  "kernelspec": {
   "display_name": "Python 3 (ipykernel)",
   "language": "python",
   "name": "python3"
  },
  "language_info": {
   "codemirror_mode": {
    "name": "ipython",
    "version": 3
   },
   "file_extension": ".py",
   "mimetype": "text/x-python",
   "name": "python",
   "nbconvert_exporter": "python",
   "pygments_lexer": "ipython3",
   "version": "3.11.5"
  }
 },
 "nbformat": 4,
 "nbformat_minor": 5
}
