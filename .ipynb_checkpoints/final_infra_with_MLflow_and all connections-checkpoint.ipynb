{
 "cells": [
  {
   "cell_type": "code",
   "execution_count": 5,
   "id": "763bbdcc-cf64-40b0-a81c-068ab27d7602",
   "metadata": {
    "scrolled": true
   },
   "outputs": [
    {
     "name": "stdout",
     "output_type": "stream",
     "text": [
      "Requirement already satisfied: mlflow in c:\\users\\reema\\anaconda3\\lib\\site-packages (2.20.3)"
     ]
    },
    {
     "name": "stderr",
     "output_type": "stream",
     "text": [
      "\n",
      "[notice] A new release of pip is available: 24.3.1 -> 25.0.1\n",
      "[notice] To update, run: python.exe -m pip install --upgrade pip\n"
     ]
    },
    {
     "name": "stdout",
     "output_type": "stream",
     "text": [
      "\n",
      "Requirement already satisfied: mlflow-skinny==2.20.3 in c:\\users\\reema\\anaconda3\\lib\\site-packages (from mlflow) (2.20.3)\n",
      "Requirement already satisfied: Flask<4 in c:\\users\\reema\\anaconda3\\lib\\site-packages (from mlflow) (3.1.0)\n",
      "Requirement already satisfied: Jinja2<4,>=3.0 in c:\\users\\reema\\anaconda3\\lib\\site-packages (from mlflow) (3.1.2)\n",
      "Requirement already satisfied: alembic!=1.10.0,<2 in c:\\users\\reema\\anaconda3\\lib\\site-packages (from mlflow) (1.14.0)\n",
      "Requirement already satisfied: docker<8,>=4.0.0 in c:\\users\\reema\\anaconda3\\lib\\site-packages (from mlflow) (7.1.0)\n",
      "Requirement already satisfied: graphene<4 in c:\\users\\reema\\anaconda3\\lib\\site-packages (from mlflow) (3.4.3)\n",
      "Requirement already satisfied: markdown<4,>=3.3 in c:\\users\\reema\\anaconda3\\lib\\site-packages (from mlflow) (3.7)\n",
      "Requirement already satisfied: matplotlib<4 in c:\\users\\reema\\anaconda3\\lib\\site-packages (from mlflow) (3.7.2)\n",
      "Requirement already satisfied: numpy<3 in c:\\users\\reema\\anaconda3\\lib\\site-packages (from mlflow) (1.24.3)\n",
      "Requirement already satisfied: pandas<3 in c:\\users\\reema\\anaconda3\\lib\\site-packages (from mlflow) (2.0.3)\n",
      "Requirement already satisfied: pyarrow<20,>=4.0.0 in c:\\users\\reema\\anaconda3\\lib\\site-packages (from mlflow) (11.0.0)\n",
      "Requirement already satisfied: scikit-learn<2 in c:\\users\\reema\\anaconda3\\lib\\site-packages (from mlflow) (1.3.0)\n",
      "Requirement already satisfied: scipy<2 in c:\\users\\reema\\anaconda3\\lib\\site-packages (from mlflow) (1.11.1)\n",
      "Requirement already satisfied: sqlalchemy<3,>=1.4.0 in c:\\users\\reema\\anaconda3\\lib\\site-packages (from mlflow) (2.0.37)\n",
      "Requirement already satisfied: waitress<4 in c:\\users\\reema\\anaconda3\\lib\\site-packages (from mlflow) (3.0.2)\n",
      "Requirement already satisfied: cachetools<6,>=5.0.0 in c:\\users\\reema\\anaconda3\\lib\\site-packages (from mlflow-skinny==2.20.3->mlflow) (5.5.2)\n",
      "Requirement already satisfied: click<9,>=7.0 in c:\\users\\reema\\anaconda3\\lib\\site-packages (from mlflow-skinny==2.20.3->mlflow) (8.1.8)\n",
      "Requirement already satisfied: cloudpickle<4 in c:\\users\\reema\\anaconda3\\lib\\site-packages (from mlflow-skinny==2.20.3->mlflow) (2.2.1)\n",
      "Requirement already satisfied: databricks-sdk<1,>=0.20.0 in c:\\users\\reema\\anaconda3\\lib\\site-packages (from mlflow-skinny==2.20.3->mlflow) (0.45.0)\n",
      "Requirement already satisfied: gitpython<4,>=3.1.9 in c:\\users\\reema\\anaconda3\\lib\\site-packages (from mlflow-skinny==2.20.3->mlflow) (3.1.43)\n",
      "Requirement already satisfied: importlib_metadata!=4.7.0,<9,>=3.7.0 in c:\\users\\reema\\anaconda3\\lib\\site-packages (from mlflow-skinny==2.20.3->mlflow) (6.0.0)\n",
      "Requirement already satisfied: opentelemetry-api<3,>=1.9.0 in c:\\users\\reema\\anaconda3\\lib\\site-packages (from mlflow-skinny==2.20.3->mlflow) (1.30.0)\n",
      "Requirement already satisfied: opentelemetry-sdk<3,>=1.9.0 in c:\\users\\reema\\anaconda3\\lib\\site-packages (from mlflow-skinny==2.20.3->mlflow) (1.30.0)\n",
      "Requirement already satisfied: packaging<25 in c:\\users\\reema\\anaconda3\\lib\\site-packages (from mlflow-skinny==2.20.3->mlflow) (23.1)\n",
      "Requirement already satisfied: protobuf<6,>=3.12.0 in c:\\users\\reema\\anaconda3\\lib\\site-packages (from mlflow-skinny==2.20.3->mlflow) (5.29.3)\n",
      "Requirement already satisfied: pydantic<3,>=1.10.8 in c:\\users\\reema\\anaconda3\\lib\\site-packages (from mlflow-skinny==2.20.3->mlflow) (2.10.3)\n",
      "Requirement already satisfied: pyyaml<7,>=5.1 in c:\\users\\reema\\anaconda3\\lib\\site-packages (from mlflow-skinny==2.20.3->mlflow) (6.0)\n",
      "Requirement already satisfied: requests<3,>=2.17.3 in c:\\users\\reema\\anaconda3\\lib\\site-packages (from mlflow-skinny==2.20.3->mlflow) (2.31.0)\n",
      "Requirement already satisfied: sqlparse<1,>=0.4.0 in c:\\users\\reema\\anaconda3\\lib\\site-packages (from mlflow-skinny==2.20.3->mlflow) (0.5.3)\n",
      "Requirement already satisfied: typing-extensions<5,>=4.0.0 in c:\\users\\reema\\anaconda3\\lib\\site-packages (from mlflow-skinny==2.20.3->mlflow) (4.12.2)\n",
      "Requirement already satisfied: Mako in c:\\users\\reema\\anaconda3\\lib\\site-packages (from alembic!=1.10.0,<2->mlflow) (1.3.8)\n",
      "Requirement already satisfied: pywin32>=304 in c:\\users\\reema\\appdata\\roaming\\python\\python311\\site-packages (from docker<8,>=4.0.0->mlflow) (306)\n",
      "Requirement already satisfied: urllib3>=1.26.0 in c:\\users\\reema\\anaconda3\\lib\\site-packages (from docker<8,>=4.0.0->mlflow) (1.26.16)\n",
      "Requirement already satisfied: Werkzeug>=3.1 in c:\\users\\reema\\anaconda3\\lib\\site-packages (from Flask<4->mlflow) (3.1.3)\n",
      "Requirement already satisfied: itsdangerous>=2.2 in c:\\users\\reema\\anaconda3\\lib\\site-packages (from Flask<4->mlflow) (2.2.0)\n",
      "Requirement already satisfied: blinker>=1.9 in c:\\users\\reema\\anaconda3\\lib\\site-packages (from Flask<4->mlflow) (1.9.0)\n",
      "Requirement already satisfied: graphql-core<3.3,>=3.1 in c:\\users\\reema\\anaconda3\\lib\\site-packages (from graphene<4->mlflow) (3.2.6)\n",
      "Requirement already satisfied: graphql-relay<3.3,>=3.1 in c:\\users\\reema\\anaconda3\\lib\\site-packages (from graphene<4->mlflow) (3.2.0)\n",
      "Requirement already satisfied: python-dateutil<3,>=2.7.0 in c:\\users\\reema\\anaconda3\\lib\\site-packages (from graphene<4->mlflow) (2.8.2)\n",
      "Requirement already satisfied: MarkupSafe>=2.0 in c:\\users\\reema\\anaconda3\\lib\\site-packages (from Jinja2<4,>=3.0->mlflow) (2.1.1)\n",
      "Requirement already satisfied: contourpy>=1.0.1 in c:\\users\\reema\\anaconda3\\lib\\site-packages (from matplotlib<4->mlflow) (1.0.5)\n",
      "Requirement already satisfied: cycler>=0.10 in c:\\users\\reema\\anaconda3\\lib\\site-packages (from matplotlib<4->mlflow) (0.11.0)\n",
      "Requirement already satisfied: fonttools>=4.22.0 in c:\\users\\reema\\anaconda3\\lib\\site-packages (from matplotlib<4->mlflow) (4.25.0)\n",
      "Requirement already satisfied: kiwisolver>=1.0.1 in c:\\users\\reema\\anaconda3\\lib\\site-packages (from matplotlib<4->mlflow) (1.4.4)\n",
      "Requirement already satisfied: pillow>=6.2.0 in c:\\users\\reema\\anaconda3\\lib\\site-packages (from matplotlib<4->mlflow) (9.4.0)\n",
      "Requirement already satisfied: pyparsing<3.1,>=2.3.1 in c:\\users\\reema\\anaconda3\\lib\\site-packages (from matplotlib<4->mlflow) (3.0.9)\n",
      "Requirement already satisfied: pytz>=2020.1 in c:\\users\\reema\\anaconda3\\lib\\site-packages (from pandas<3->mlflow) (2023.3.post1)\n",
      "Requirement already satisfied: tzdata>=2022.1 in c:\\users\\reema\\anaconda3\\lib\\site-packages (from pandas<3->mlflow) (2023.3)\n",
      "Requirement already satisfied: joblib>=1.1.1 in c:\\users\\reema\\anaconda3\\lib\\site-packages (from scikit-learn<2->mlflow) (1.2.0)\n",
      "Requirement already satisfied: threadpoolctl>=2.0.0 in c:\\users\\reema\\anaconda3\\lib\\site-packages (from scikit-learn<2->mlflow) (2.2.0)\n",
      "Requirement already satisfied: greenlet!=0.4.17 in c:\\users\\reema\\anaconda3\\lib\\site-packages (from sqlalchemy<3,>=1.4.0->mlflow) (2.0.1)\n",
      "Requirement already satisfied: colorama in c:\\users\\reema\\appdata\\roaming\\python\\python311\\site-packages (from click<9,>=7.0->mlflow-skinny==2.20.3->mlflow) (0.4.6)\n",
      "Requirement already satisfied: google-auth~=2.0 in c:\\users\\reema\\anaconda3\\lib\\site-packages (from databricks-sdk<1,>=0.20.0->mlflow-skinny==2.20.3->mlflow) (2.38.0)\n",
      "Requirement already satisfied: gitdb<5,>=4.0.1 in c:\\users\\reema\\anaconda3\\lib\\site-packages (from gitpython<4,>=3.1.9->mlflow-skinny==2.20.3->mlflow) (4.0.11)\n",
      "Requirement already satisfied: zipp>=0.5 in c:\\users\\reema\\anaconda3\\lib\\site-packages (from importlib_metadata!=4.7.0,<9,>=3.7.0->mlflow-skinny==2.20.3->mlflow) (3.11.0)\n",
      "Requirement already satisfied: deprecated>=1.2.6 in c:\\users\\reema\\anaconda3\\lib\\site-packages (from opentelemetry-api<3,>=1.9.0->mlflow-skinny==2.20.3->mlflow) (1.2.18)\n",
      "Requirement already satisfied: opentelemetry-semantic-conventions==0.51b0 in c:\\users\\reema\\anaconda3\\lib\\site-packages (from opentelemetry-sdk<3,>=1.9.0->mlflow-skinny==2.20.3->mlflow) (0.51b0)\n",
      "Requirement already satisfied: annotated-types>=0.6.0 in c:\\users\\reema\\anaconda3\\lib\\site-packages (from pydantic<3,>=1.10.8->mlflow-skinny==2.20.3->mlflow) (0.7.0)\n",
      "Requirement already satisfied: pydantic-core==2.27.1 in c:\\users\\reema\\anaconda3\\lib\\site-packages (from pydantic<3,>=1.10.8->mlflow-skinny==2.20.3->mlflow) (2.27.1)\n",
      "Requirement already satisfied: six>=1.5 in c:\\users\\reema\\anaconda3\\lib\\site-packages (from python-dateutil<3,>=2.7.0->graphene<4->mlflow) (1.16.0)\n",
      "Requirement already satisfied: charset-normalizer<4,>=2 in c:\\users\\reema\\anaconda3\\lib\\site-packages (from requests<3,>=2.17.3->mlflow-skinny==2.20.3->mlflow) (2.0.4)\n",
      "Requirement already satisfied: idna<4,>=2.5 in c:\\users\\reema\\anaconda3\\lib\\site-packages (from requests<3,>=2.17.3->mlflow-skinny==2.20.3->mlflow) (3.4)\n",
      "Requirement already satisfied: certifi>=2017.4.17 in c:\\users\\reema\\anaconda3\\lib\\site-packages (from requests<3,>=2.17.3->mlflow-skinny==2.20.3->mlflow) (2023.7.22)\n",
      "Requirement already satisfied: wrapt<2,>=1.10 in c:\\users\\reema\\anaconda3\\lib\\site-packages (from deprecated>=1.2.6->opentelemetry-api<3,>=1.9.0->mlflow-skinny==2.20.3->mlflow) (1.14.1)\n",
      "Requirement already satisfied: smmap<6,>=3.0.1 in c:\\users\\reema\\anaconda3\\lib\\site-packages (from gitdb<5,>=4.0.1->gitpython<4,>=3.1.9->mlflow-skinny==2.20.3->mlflow) (5.0.1)\n",
      "Requirement already satisfied: pyasn1-modules>=0.2.1 in c:\\users\\reema\\anaconda3\\lib\\site-packages (from google-auth~=2.0->databricks-sdk<1,>=0.20.0->mlflow-skinny==2.20.3->mlflow) (0.2.8)\n",
      "Requirement already satisfied: rsa<5,>=3.1.4 in c:\\users\\reema\\anaconda3\\lib\\site-packages (from google-auth~=2.0->databricks-sdk<1,>=0.20.0->mlflow-skinny==2.20.3->mlflow) (4.9)\n",
      "Requirement already satisfied: pyasn1<0.5.0,>=0.4.6 in c:\\users\\reema\\anaconda3\\lib\\site-packages (from pyasn1-modules>=0.2.1->google-auth~=2.0->databricks-sdk<1,>=0.20.0->mlflow-skinny==2.20.3->mlflow) (0.4.8)\n"
     ]
    }
   ],
   "source": [
    "!pip install mlflow"
   ]
  },
  {
   "cell_type": "code",
   "execution_count": 3,
   "id": "51bf1853-aa0e-41f3-b035-a2f0a16bffc8",
   "metadata": {},
   "outputs": [],
   "source": [
    "import mlflow\n",
    "from mlflow.models import infer_signature\n",
    "\n",
    "import pandas as pd\n",
    "from sklearn import datasets\n",
    "from sklearn.model_selection import train_test_split\n",
    "from sklearn.linear_model import LogisticRegression\n",
    "from sklearn.metrics import accuracy_score, precision_score, recall_score, f1_score\n",
    "mlflow.set_tracking_uri(\"http://127.0.0.1:5000\")\n"
   ]
  },
  {
   "cell_type": "code",
   "execution_count": 7,
   "id": "437d265a-d0d7-4fb3-93a0-961707968748",
   "metadata": {},
   "outputs": [
    {
     "name": "stdout",
     "output_type": "stream",
     "text": [
      "API Response: [{'id': '1', 'sepallengthcm': '5.100000000000000000', 'sepalwidthcm': '3.500000000000000000', 'petallengthcm': '1.400000000000000000', 'petalwidthcm': '0.200000000000000000', 'species': 'Iris-setosa'}, {'id': '2', 'sepallengthcm': '4.900000000000000000', 'sepalwidthcm': '3.000000000000000000', 'petallengthcm': '1.400000000000000000', 'petalwidthcm': '0.200000000000000000', 'species': 'Iris-setosa'}, {'id': '3', 'sepallengthcm': '4.700000000000000000', 'sepalwidthcm': '3.200000000000000000', 'petallengthcm': '1.300000000000000000', 'petalwidthcm': '0.200000000000000000', 'species': 'Iris-setosa'}, {'id': '4', 'sepallengthcm': '4.600000000000000000', 'sepalwidthcm': '3.100000000000000000', 'petallengthcm': '1.500000000000000000', 'petalwidthcm': '0.200000000000000000', 'species': 'Iris-setosa'}, {'id': '5', 'sepallengthcm': '5.000000000000000000', 'sepalwidthcm': '3.600000000000000000', 'petallengthcm': '1.400000000000000000', 'petalwidthcm': '0.200000000000000000', 'species': 'Iris-setosa'}, {'id': '6', 'sepallengthcm': '5.400000000000000000', 'sepalwidthcm': '3.900000000000000000', 'petallengthcm': '1.700000000000000000', 'petalwidthcm': '0.400000000000000000', 'species': 'Iris-setosa'}, {'id': '7', 'sepallengthcm': '4.600000000000000000', 'sepalwidthcm': '3.400000000000000000', 'petallengthcm': '1.400000000000000000', 'petalwidthcm': '0.300000000000000000', 'species': 'Iris-setosa'}, {'id': '8', 'sepallengthcm': '5.000000000000000000', 'sepalwidthcm': '3.400000000000000000', 'petallengthcm': '1.500000000000000000', 'petalwidthcm': '0.200000000000000000', 'species': 'Iris-setosa'}, {'id': '9', 'sepallengthcm': '4.400000000000000000', 'sepalwidthcm': '2.900000000000000000', 'petallengthcm': '1.400000000000000000', 'petalwidthcm': '0.200000000000000000', 'species': 'Iris-setosa'}, {'id': '10', 'sepallengthcm': '4.900000000000000000', 'sepalwidthcm': '3.100000000000000000', 'petallengthcm': '1.500000000000000000', 'petalwidthcm': '0.100000000000000000', 'species': 'Iris-setosa'}]\n",
      "<built-in method count of list object at 0x000001E65D14ED40>\n"
     ]
    }
   ],
   "source": [
    "# import requests\n",
    "\n",
    "# # API endpoint URL\n",
    "# url = \"http://localhost/api/database/204a70a0-3dc2-4b8a-b36f-7c266d6d750e/table/183c11ba-3e3b-4d39-835d-f33d03393802/data\"\n",
    "\n",
    "# # Define the headers\n",
    "# headers = {\n",
    "#     \"Accept\": \"application/json\"  # Specify the expected response format\n",
    "# }\n",
    "\n",
    "# try:\n",
    "#     # Send a GET request to the API with the Accept header\n",
    "#     response = requests.get(url, headers=headers)\n",
    "\n",
    "#     # Check if the request was successful\n",
    "#     if response.status_code == 200:\n",
    "#         # Parse the JSON response\n",
    "#         data = response.json()\n",
    "#         print(\"API Response:\", data)\n",
    "#         print( data.count)\n",
    "#     else:\n",
    "#         print(f\"Error: Received status code {response.status_code}\")\n",
    "#         print(\"Response content:\", response.text)\n",
    "       \n",
    "\n",
    "# except requests.exceptions.RequestException as e:\n",
    "#     print(f\"Request failed: {e}\")\n"
   ]
  },
  {
   "cell_type": "code",
   "execution_count": 7,
   "id": "5da1d216-406d-4193-9ba4-4402e9cedb8b",
   "metadata": {
    "scrolled": true
   },
   "outputs": [
    {
     "name": "stdout",
     "output_type": "stream",
     "text": [
      "Requesting page 1... (URL: http://localhost/api/database/204a70a0-3dc2-4b8a-b36f-7c266d6d750e/table/183c11ba-3e3b-4d39-835d-f33d03393802/data?limit=10&offset=0)\n",
      "Received 10 records on page 1.\n",
      "Requesting page 2... (URL: http://localhost/api/database/204a70a0-3dc2-4b8a-b36f-7c266d6d750e/table/183c11ba-3e3b-4d39-835d-f33d03393802/data?limit=10&offset=10)\n",
      "Received 10 records on page 2.\n",
      "Total records fetched: 20\n"
     ]
    }
   ],
   "source": [
    "# import requests\n",
    "\n",
    "# # API endpoint URL\n",
    "# base_url = \"http://localhost/api/database/204a70a0-3dc2-4b8a-b36f-7c266d6d750e/table/183c11ba-3e3b-4d39-835d-f33d03393802/data\"\n",
    "\n",
    "# # Define the headers\n",
    "# headers = {\n",
    "#     \"Accept\": \"application/json\"  # Specify the expected response format\n",
    "# }\n",
    "\n",
    "# # Initialize pagination variables\n",
    "# page = 1\n",
    "# limit = 10  # Number of records per request\n",
    "# all_data = []\n",
    "\n",
    "# # Set target number of records to fetch\n",
    "# target_records = 20\n",
    "\n",
    "# # Fetch data with pagination until we reach the target records\n",
    "# while len(all_data) < target_records:\n",
    "#     # Construct the URL with the current page and limit\n",
    "#     url = f\"{base_url}?limit={limit}&offset={limit * (page - 1)}\"\n",
    "#     print(f\"Requesting page {page}... (URL: {url})\")\n",
    "    \n",
    "#     try:\n",
    "#         # Send a GET request to the API with the Accept header\n",
    "#         response = requests.get(url, headers=headers)\n",
    "\n",
    "#         # Check if the request was successful\n",
    "#         if response.status_code == 200:\n",
    "#             # Parse the JSON response\n",
    "#             data = response.json()\n",
    "\n",
    "#             # Debugging: Print response data length and check if it's empty\n",
    "#             print(f\"Received {len(data)} records on page {page}.\")\n",
    "            \n",
    "#             if not data:\n",
    "#                 print(\"No more data to fetch. Breaking the loop.\")\n",
    "#                 break\n",
    "\n",
    "#             # Add the fetched data to the all_data list\n",
    "#             all_data.extend(data)\n",
    "\n",
    "#             # Increment the page number for the next request\n",
    "#             page += 1\n",
    "\n",
    "#             # If we've reached the target number of records, stop\n",
    "#             if len(all_data) >= target_records:\n",
    "#                 break\n",
    "\n",
    "#         else:\n",
    "#             print(f\"Error: Received status code {response.status_code}\")\n",
    "#             print(\"Response content:\", response.text)\n",
    "#             break\n",
    "\n",
    "#     except requests.exceptions.RequestException as e:\n",
    "#         print(f\"Request failed: {e}\")\n",
    "#         break\n",
    "\n",
    "# # After the loop, all_data will contain all records fetched\n",
    "# print(f\"Total records fetched: {len(all_data)}\")\n"
   ]
  },
  {
   "cell_type": "code",
   "execution_count": 8,
   "id": "ee725a8b-dd0a-4b9b-af9a-9f8c35b67c04",
   "metadata": {
    "scrolled": true
   },
   "outputs": [
    {
     "name": "stdout",
     "output_type": "stream",
     "text": [
      "id               10\n",
      "sepallengthcm    10\n",
      "sepalwidthcm     10\n",
      "petallengthcm    10\n",
      "petalwidthcm     10\n",
      "species          10\n",
      "dtype: int64\n"
     ]
    }
   ],
   "source": [
    "# Load the Iris dataset\n",
    "X, y = datasets.load_iris(return_X_y=True)\n",
    "# df = pd.DataFrame(data)\n",
    "\n",
    "# # Convert the columns with measurements from strings to float type\n",
    "# df['sepallengthcm'] = df['sepallengthcm'].astype(float)\n",
    "# df['sepalwidthcm'] = df['sepalwidthcm'].astype(float)\n",
    "# df['petallengthcm'] = df['petallengthcm'].astype(float)\n",
    "# df['petalwidthcm'] = df['petalwidthcm'].astype(float)\n",
    "\n",
    "# # Display the dataframe to verify\n",
    "# print(df.count())"
   ]
  },
  {
   "cell_type": "code",
   "execution_count": 9,
   "id": "227518c5-1ba7-4ff4-8979-111b43e723cf",
   "metadata": {},
   "outputs": [],
   "source": [
    "# # Features (X) - all columns except 'species'\n",
    "# X = df[['sepallengthcm', 'sepalwidthcm', 'petallengthcm', 'petalwidthcm']]\n",
    "\n",
    "# # Labels (y) - the 'species' column\n",
    "# y = df['species']\n"
   ]
  },
  {
   "cell_type": "code",
   "execution_count": 10,
   "id": "3e5ffc6a-793d-47c4-8223-344b374e1d37",
   "metadata": {},
   "outputs": [
    {
     "name": "stdout",
     "output_type": "stream",
     "text": [
      "species\n",
      "Iris-setosa    10\n",
      "Name: count, dtype: int64\n"
     ]
    }
   ],
   "source": [
    "# print(y.value_counts())\n"
   ]
  },
  {
   "cell_type": "code",
   "execution_count": 21,
   "id": "931415d6-f42a-4892-91a5-b487462377e8",
   "metadata": {
    "scrolled": true
   },
   "outputs": [
    {
     "ename": "ValueError",
     "evalue": "This solver needs samples of at least 2 classes in the data, but the data contains only one class: 'Iris-setosa'",
     "output_type": "error",
     "traceback": [
      "\u001b[1;31m---------------------------------------------------------------------------\u001b[0m",
      "\u001b[1;31mValueError\u001b[0m                                Traceback (most recent call last)",
      "Cell \u001b[1;32mIn[21], line 15\u001b[0m\n\u001b[0;32m     13\u001b[0m \u001b[38;5;66;03m# Train the model\u001b[39;00m\n\u001b[0;32m     14\u001b[0m lr \u001b[38;5;241m=\u001b[39m LogisticRegression(\u001b[38;5;241m*\u001b[39m\u001b[38;5;241m*\u001b[39mparams)\n\u001b[1;32m---> 15\u001b[0m \u001b[43mlr\u001b[49m\u001b[38;5;241;43m.\u001b[39;49m\u001b[43mfit\u001b[49m\u001b[43m(\u001b[49m\u001b[43mX_train\u001b[49m\u001b[43m,\u001b[49m\u001b[43m \u001b[49m\u001b[43my_train\u001b[49m\u001b[43m)\u001b[49m\n\u001b[0;32m     17\u001b[0m \u001b[38;5;66;03m# Predict on the test set\u001b[39;00m\n\u001b[0;32m     18\u001b[0m y_pred \u001b[38;5;241m=\u001b[39m lr\u001b[38;5;241m.\u001b[39mpredict(X_test)\n",
      "File \u001b[1;32m~\\anaconda3\\Lib\\site-packages\\sklearn\\base.py:1151\u001b[0m, in \u001b[0;36m_fit_context.<locals>.decorator.<locals>.wrapper\u001b[1;34m(estimator, *args, **kwargs)\u001b[0m\n\u001b[0;32m   1144\u001b[0m     estimator\u001b[38;5;241m.\u001b[39m_validate_params()\n\u001b[0;32m   1146\u001b[0m \u001b[38;5;28;01mwith\u001b[39;00m config_context(\n\u001b[0;32m   1147\u001b[0m     skip_parameter_validation\u001b[38;5;241m=\u001b[39m(\n\u001b[0;32m   1148\u001b[0m         prefer_skip_nested_validation \u001b[38;5;129;01mor\u001b[39;00m global_skip_validation\n\u001b[0;32m   1149\u001b[0m     )\n\u001b[0;32m   1150\u001b[0m ):\n\u001b[1;32m-> 1151\u001b[0m     \u001b[38;5;28;01mreturn\u001b[39;00m \u001b[43mfit_method\u001b[49m\u001b[43m(\u001b[49m\u001b[43mestimator\u001b[49m\u001b[43m,\u001b[49m\u001b[43m \u001b[49m\u001b[38;5;241;43m*\u001b[39;49m\u001b[43margs\u001b[49m\u001b[43m,\u001b[49m\u001b[43m \u001b[49m\u001b[38;5;241;43m*\u001b[39;49m\u001b[38;5;241;43m*\u001b[39;49m\u001b[43mkwargs\u001b[49m\u001b[43m)\u001b[49m\n",
      "File \u001b[1;32m~\\anaconda3\\Lib\\site-packages\\sklearn\\linear_model\\_logistic.py:1252\u001b[0m, in \u001b[0;36mLogisticRegression.fit\u001b[1;34m(self, X, y, sample_weight)\u001b[0m\n\u001b[0;32m   1250\u001b[0m classes_ \u001b[38;5;241m=\u001b[39m \u001b[38;5;28mself\u001b[39m\u001b[38;5;241m.\u001b[39mclasses_\n\u001b[0;32m   1251\u001b[0m \u001b[38;5;28;01mif\u001b[39;00m n_classes \u001b[38;5;241m<\u001b[39m \u001b[38;5;241m2\u001b[39m:\n\u001b[1;32m-> 1252\u001b[0m     \u001b[38;5;28;01mraise\u001b[39;00m \u001b[38;5;167;01mValueError\u001b[39;00m(\n\u001b[0;32m   1253\u001b[0m         \u001b[38;5;124m\"\u001b[39m\u001b[38;5;124mThis solver needs samples of at least 2 classes\u001b[39m\u001b[38;5;124m\"\u001b[39m\n\u001b[0;32m   1254\u001b[0m         \u001b[38;5;124m\"\u001b[39m\u001b[38;5;124m in the data, but the data contains only one\u001b[39m\u001b[38;5;124m\"\u001b[39m\n\u001b[0;32m   1255\u001b[0m         \u001b[38;5;124m\"\u001b[39m\u001b[38;5;124m class: \u001b[39m\u001b[38;5;132;01m%r\u001b[39;00m\u001b[38;5;124m\"\u001b[39m\n\u001b[0;32m   1256\u001b[0m         \u001b[38;5;241m%\u001b[39m classes_[\u001b[38;5;241m0\u001b[39m]\n\u001b[0;32m   1257\u001b[0m     )\n\u001b[0;32m   1259\u001b[0m \u001b[38;5;28;01mif\u001b[39;00m \u001b[38;5;28mlen\u001b[39m(\u001b[38;5;28mself\u001b[39m\u001b[38;5;241m.\u001b[39mclasses_) \u001b[38;5;241m==\u001b[39m \u001b[38;5;241m2\u001b[39m:\n\u001b[0;32m   1260\u001b[0m     n_classes \u001b[38;5;241m=\u001b[39m \u001b[38;5;241m1\u001b[39m\n",
      "\u001b[1;31mValueError\u001b[0m: This solver needs samples of at least 2 classes in the data, but the data contains only one class: 'Iris-setosa'"
     ]
    }
   ],
   "source": [
    "\n",
    "\n",
    "# Split the data into training and test sets\n",
    "X_train, X_test, y_train, y_test = train_test_split(\n",
    "    X, y, test_size=0.2, random_state=42\n",
    ")\n",
    "# Define the model hyperparameters\n",
    "params = {\n",
    "    \"solver\": \"lbfgs\",\n",
    "    \"max_iter\": 1000,\n",
    "    \"multi_class\": \"auto\",\n",
    "    \"random_state\": 8888,\n",
    "}\n",
    "\n",
    "# Train the model\n",
    "lr = LogisticRegression(**params)\n",
    "lr.fit(X_train, y_train)\n",
    "\n",
    "# Predict on the test set\n",
    "y_pred = lr.predict(X_test)\n",
    "\n",
    "# Calculate metrics\n",
    "accuracy = accuracy_score(y_test, y_pred)\n"
   ]
  },
  {
   "cell_type": "code",
   "execution_count": null,
   "id": "a9e84b51-4e11-41f5-b491-0e88fb75c7f7",
   "metadata": {},
   "outputs": [],
   "source": [
    "# Set our tracking server uri for logging\n",
    "mlflow.set_tracking_uri(uri=\"http://127.0.0.1:5000\")\n",
    "\n",
    "# Create a new MLflow Experiment\n",
    "mlflow.set_experiment(\"MLflow Quickstart\")\n",
    "\n",
    "# Start an MLflow run\n",
    "with mlflow.start_run():\n",
    "    # Log the hyperparameters\n",
    "    mlflow.log_params(params)\n",
    "\n",
    "    # Log the loss metric\n",
    "    mlflow.log_metric(\"accuracy\", accuracy)\n",
    "\n",
    "    # Set a tag that we can use to remind ourselves what this run was for\n",
    "    mlflow.set_tag(\"Training Info\", \"Basic LR model for iris data\")\n",
    "\n",
    "    # Infer the model signature\n",
    "    signature = infer_signature(X_train, lr.predict(X_train))\n",
    "\n",
    "    # Log the model\n",
    "    model_info = mlflow.sklearn.log_model(\n",
    "        sk_model=lr,\n",
    "        artifact_path=\"iris_model\",\n",
    "        signature=signature,\n",
    "        input_example=X_train,\n",
    "        registered_model_name=\"tracking-quickstart\",\n",
    "    )"
   ]
  },
  {
   "cell_type": "code",
   "execution_count": null,
   "id": "989e23f9-9767-4c93-beb7-a02fd998c21f",
   "metadata": {},
   "outputs": [],
   "source": [
    "# Load the model back for predictions as a generic Python Function model\n",
    "loaded_model = mlflow.pyfunc.load_model(model_info.model_uri)\n",
    "\n",
    "predictions = loaded_model.predict(X_test)\n",
    "\n",
    "iris_feature_names = datasets.load_iris().feature_names\n",
    "\n",
    "result = pd.DataFrame(X_test, columns=iris_feature_names)\n",
    "result[\"actual_class\"] = y_test\n",
    "result[\"predicted_class\"] = predictions\n",
    "\n",
    "result[:4]"
   ]
  },
  {
   "cell_type": "code",
   "execution_count": 15,
   "id": "c0d9a330-70d0-4282-a547-10a8ebab2ae6",
   "metadata": {},
   "outputs": [
    {
     "name": "stdout",
     "output_type": "stream",
     "text": [
      "Model saved as 'iris_classifier.pkl'\n"
     ]
    }
   ],
   "source": [
    "import joblib\n",
    "\n",
    "# Save the trained model to a .pkl file\n",
    "joblib.dump(model, 'iris_classifier.pkl')\n",
    "\n",
    "print(\"Model saved as 'iris_classifier.pkl'\")\n"
   ]
  },
  {
   "cell_type": "code",
   "execution_count": 1,
   "id": "480a5efc-de30-4d5a-81d7-bc9427be298c",
   "metadata": {},
   "outputs": [
    {
     "name": "stderr",
     "output_type": "stream",
     "text": [
      "C:\\Users\\reema\\anaconda3\\Lib\\site-packages\\urllib3\\connectionpool.py:1056: InsecureRequestWarning: Unverified HTTPS request is being made to host '127.0.0.1'. Adding certificate verification is strongly advised. See: https://urllib3.readthedocs.io/en/1.26.x/advanced-usage.html#ssl-warnings\n",
      "  warnings.warn(\n"
     ]
    },
    {
     "name": "stdout",
     "output_type": "stream",
     "text": [
      "201\n",
      "{'id': '3m20n-wwx06', 'created': '2025-03-01T14:48:25.197185+00:00', 'updated': '2025-03-01T14:48:25.231340+00:00', 'links': {'self': 'https://127.0.0.1:5000/api/records/3m20n-wwx06/draft', 'self_html': 'https://127.0.0.1:5000/uploads/3m20n-wwx06', 'self_iiif_manifest': 'https://127.0.0.1:5000/api/iiif/draft:3m20n-wwx06/manifest', 'self_iiif_sequence': 'https://127.0.0.1:5000/api/iiif/draft:3m20n-wwx06/sequence/default', 'files': 'https://127.0.0.1:5000/api/records/3m20n-wwx06/draft/files', 'record': 'https://127.0.0.1:5000/api/records/3m20n-wwx06', 'record_html': 'https://127.0.0.1:5000/records/3m20n-wwx06', 'publish': 'https://127.0.0.1:5000/api/records/3m20n-wwx06/draft/actions/publish', 'review': 'https://127.0.0.1:5000/api/records/3m20n-wwx06/draft/review', 'versions': 'https://127.0.0.1:5000/api/records/3m20n-wwx06/versions', 'access_links': 'https://127.0.0.1:5000/api/records/3m20n-wwx06/access/links', 'reserve_doi': 'https://127.0.0.1:5000/api/records/3m20n-wwx06/draft/pids/doi'}, 'revision_id': 3, 'parent': {'id': 'q31fy-70d64', 'access': {'owned_by': [{'user': 4}], 'links': []}, 'communities': {}}, 'versions': {'is_latest': False, 'is_latest_draft': True, 'index': 1}, 'is_published': False, 'is_draft': True, 'expires_at': '2025-03-01 14:48:25.197237', 'pids': {}, 'metadata': {}, 'access': {'record': 'public', 'files': 'public', 'embargo': {'active': False, 'reason': None}, 'status': 'metadata-only'}, 'files': {'enabled': True, 'order': []}, 'status': 'draft'}\n"
     ]
    }
   ],
   "source": [
    "import requests\n",
    "import json\n",
    "\n",
    "# Define the URL and token\n",
    "url = \"https://127.0.0.1:5000/api/records\"\n",
    "token = \"FGIxr9BpYjRNO5MFhxcRAnLeIqvlLmXxtoA9qNcrLKw9lkCrIj29CplQkFzk\"  \n",
    "\n",
    "# Define the headers\n",
    "headers = {\n",
    "    \"Content-Type\": \"application/json\",\n",
    "    \"Authorization\": f\"Bearer {token}\"\n",
    "}\n",
    "\n",
    "# Define the data to be sent in the request\n",
    "data = {\n",
    "    \"title\": \"My trined ML model\",\n",
    "    \"description\": \"This is a sample unstructed data of a simple trained ML model\",\n",
    "    \"creator\": \"Reema Dass\"\n",
    "}\n",
    "\n",
    "# Send the POST request\n",
    "response = requests.post(url, headers=headers, data=json.dumps(data), verify=False)\n",
    "\n",
    "# Print the response\n",
    "print(response.status_code)\n",
    "print(response.json())\n",
    "# print(json.dumps(response, indent=4, ensure_ascii=False))"
   ]
  },
  {
   "cell_type": "code",
   "execution_count": 2,
   "id": "bac96023-bd43-4147-804c-af45c69dc04e",
   "metadata": {},
   "outputs": [
    {
     "name": "stdout",
     "output_type": "stream",
     "text": [
      "201\n",
      "{'enabled': True, 'links': {'self': 'https://127.0.0.1:5000/api/records/3m20n-wwx06/draft/files'}, 'entries': [{'key': 'ML_model', 'created': '2025-03-01T14:49:49.575608+00:00', 'updated': '2025-03-01T14:49:49.580532+00:00', 'status': 'pending', 'metadata': None, 'links': {'self': 'https://127.0.0.1:5000/api/records/3m20n-wwx06/draft/files/ML_model', 'content': 'https://127.0.0.1:5000/api/records/3m20n-wwx06/draft/files/ML_model/content', 'commit': 'https://127.0.0.1:5000/api/records/3m20n-wwx06/draft/files/ML_model/commit'}}], 'default_preview': None, 'order': []}\n"
     ]
    },
    {
     "name": "stderr",
     "output_type": "stream",
     "text": [
      "C:\\Users\\reema\\anaconda3\\Lib\\site-packages\\urllib3\\connectionpool.py:1056: InsecureRequestWarning: Unverified HTTPS request is being made to host '127.0.0.1'. Adding certificate verification is strongly advised. See: https://urllib3.readthedocs.io/en/1.26.x/advanced-usage.html#ssl-warnings\n",
      "  warnings.warn(\n"
     ]
    }
   ],
   "source": [
    "import requests\n",
    "import json\n",
    "\n",
    "# Define the URL and token\n",
    "url = \"https://127.0.0.1:5000/api/records/3m20n-wwx06/draft/files\"\n",
    "token = \"FGIxr9BpYjRNO5MFhxcRAnLeIqvlLmXxtoA9qNcrLKw9lkCrIj29CplQkFzk\"  \n",
    "\n",
    "# Define the headers\n",
    "headers = {\n",
    "    \"Content-Type\": \"application/json\",\n",
    "    \"Authorization\": f\"Bearer {token}\"\n",
    "}\n",
    "\n",
    "# Define the data to be sent in the request\n",
    "data = [\n",
    "    {\"key\": \"ML_model\"}\n",
    "]\n",
    "\n",
    "# Send the POST request\n",
    "response = requests.post(url, headers=headers, data=json.dumps(data), verify=False)\n",
    "\n",
    "# Print the response\n",
    "print(response.status_code)\n",
    "print(response.json())\n"
   ]
  },
  {
   "cell_type": "code",
   "execution_count": 3,
   "id": "b955d7ab-192e-423a-8697-f32396d30170",
   "metadata": {},
   "outputs": [
    {
     "name": "stdout",
     "output_type": "stream",
     "text": [
      "200\n",
      "{'key': 'ML_model', 'created': '2025-03-01T14:49:49.575608+00:00', 'updated': '2025-03-01T14:49:49.580532+00:00', 'status': 'pending', 'metadata': None, 'links': {'self': 'https://127.0.0.1:5000/api/records/3m20n-wwx06/draft/files/ML_model', 'content': 'https://127.0.0.1:5000/api/records/3m20n-wwx06/draft/files/ML_model/content', 'commit': 'https://127.0.0.1:5000/api/records/3m20n-wwx06/draft/files/ML_model/commit'}}\n"
     ]
    },
    {
     "name": "stderr",
     "output_type": "stream",
     "text": [
      "C:\\Users\\reema\\anaconda3\\Lib\\site-packages\\urllib3\\connectionpool.py:1056: InsecureRequestWarning: Unverified HTTPS request is being made to host '127.0.0.1'. Adding certificate verification is strongly advised. See: https://urllib3.readthedocs.io/en/1.26.x/advanced-usage.html#ssl-warnings\n",
      "  warnings.warn(\n"
     ]
    }
   ],
   "source": [
    "import requests\n",
    "\n",
    "# Define the URL and token\n",
    "url = \"https://127.0.0.1:5000/api/records/3m20n-wwx06/draft/files/ML_model/content\"\n",
    "token = \"FGIxr9BpYjRNO5MFhxcRAnLeIqvlLmXxtoA9qNcrLKw9lkCrIj29CplQkFzk\"  \n",
    "\n",
    "# Define the headers\n",
    "headers = {\n",
    "    \"Content-Type\": \"application/octet-stream\",\n",
    "    \"Authorization\": f\"Bearer {token}\"\n",
    "}\n",
    "\n",
    "# Open the file you want to upload in binary mode\n",
    "with open('iris_classifier.pkl', 'rb') as file:  # Replace with the actual .pkl file name\n",
    "    # Send the PUT request\n",
    "    response = requests.put(url, headers=headers, data=file, verify=False)\n",
    "\n",
    "# Print the response\n",
    "print(response.status_code)\n",
    "print(response.json())\n"
   ]
  },
  {
   "cell_type": "code",
   "execution_count": 4,
   "id": "f8c0ff04-2382-4cdc-a291-7bdb6c5efba1",
   "metadata": {},
   "outputs": [
    {
     "name": "stdout",
     "output_type": "stream",
     "text": [
      "200\n",
      "{'key': 'ML_model', 'created': '2025-03-01T14:49:49.575608+00:00', 'updated': '2025-03-01T14:55:32.327577+00:00', 'status': 'completed', 'metadata': None, 'checksum': 'md5:be46b8705399e18cfebe756edb30c567', 'storage_class': 'S', 'mimetype': 'application/octet-stream', 'size': 184273, 'version_id': 'dfd693b5-b532-498a-8523-b2c4856fd258', 'file_id': '7e51da7e-8842-43b5-8aef-79de584e93bd', 'bucket_id': 'e897e7ae-0e0e-4b3b-aea0-78cadbfe5226', 'links': {'self': 'https://127.0.0.1:5000/api/records/3m20n-wwx06/draft/files/ML_model', 'content': 'https://127.0.0.1:5000/api/records/3m20n-wwx06/draft/files/ML_model/content', 'commit': 'https://127.0.0.1:5000/api/records/3m20n-wwx06/draft/files/ML_model/commit'}}\n"
     ]
    },
    {
     "name": "stderr",
     "output_type": "stream",
     "text": [
      "C:\\Users\\reema\\anaconda3\\Lib\\site-packages\\urllib3\\connectionpool.py:1056: InsecureRequestWarning: Unverified HTTPS request is being made to host '127.0.0.1'. Adding certificate verification is strongly advised. See: https://urllib3.readthedocs.io/en/1.26.x/advanced-usage.html#ssl-warnings\n",
      "  warnings.warn(\n"
     ]
    }
   ],
   "source": [
    "import requests\n",
    "\n",
    "# Define the URL and token\n",
    "url = \"https://127.0.0.1:5000/api/records/3m20n-wwx06/draft/files/ML_model/commit\"\n",
    "token = \"FGIxr9BpYjRNO5MFhxcRAnLeIqvlLmXxtoA9qNcrLKw9lkCrIj29CplQkFzk\"  \n",
    "\n",
    "# Define the headers\n",
    "headers = {\n",
    "    \"Authorization\": f\"Bearer {token}\"\n",
    "}\n",
    "\n",
    "# Send the POST request\n",
    "response = requests.post(url, headers=headers, verify=False)\n",
    "\n",
    "# Print the response\n",
    "print(response.status_code)\n",
    "print(response.json())\n"
   ]
  },
  {
   "cell_type": "code",
   "execution_count": null,
   "id": "a100d9bc-e61a-48de-9b22-cf5284cd6e26",
   "metadata": {},
   "outputs": [],
   "source": [
    "\n",
    "\n",
    "\n",
    "\n"
   ]
  },
  {
   "cell_type": "code",
   "execution_count": null,
   "id": "8232c742-2412-4164-ad75-80202a6aa039",
   "metadata": {},
   "outputs": [],
   "source": []
  },
  {
   "cell_type": "code",
   "execution_count": null,
   "id": "e6cdaf82-23f3-4708-aee0-5f396b63879e",
   "metadata": {},
   "outputs": [],
   "source": []
  },
  {
   "cell_type": "code",
   "execution_count": null,
   "id": "6cc91adb-9a6c-41ab-b209-58d7a078b144",
   "metadata": {},
   "outputs": [],
   "source": []
  },
  {
   "cell_type": "code",
   "execution_count": null,
   "id": "334939d2-c0e0-4429-8f81-d7e8b686f558",
   "metadata": {},
   "outputs": [],
   "source": []
  },
  {
   "cell_type": "code",
   "execution_count": 5,
   "id": "854768b2-25ca-45ad-a182-eb1b50570874",
   "metadata": {},
   "outputs": [
    {
     "name": "stdout",
     "output_type": "stream",
     "text": [
      "Metadata Retrieved Successfully!\n",
      "{'id': '3m20n-wwx06', 'created': '2025-03-01T15:02:49.883528+00:00', 'updated': '2025-03-01T15:02:49.996396+00:00', 'links': {'self': 'https://127.0.0.1:5000/api/records/3m20n-wwx06', 'self_html': 'https://127.0.0.1:5000/records/3m20n-wwx06', 'self_iiif_manifest': 'https://127.0.0.1:5000/api/iiif/record:3m20n-wwx06/manifest', 'self_iiif_sequence': 'https://127.0.0.1:5000/api/iiif/record:3m20n-wwx06/sequence/default', 'files': 'https://127.0.0.1:5000/api/records/3m20n-wwx06/files', 'latest': 'https://127.0.0.1:5000/api/records/3m20n-wwx06/versions/latest', 'latest_html': 'https://127.0.0.1:5000/records/3m20n-wwx06/latest', 'draft': 'https://127.0.0.1:5000/api/records/3m20n-wwx06/draft', 'versions': 'https://127.0.0.1:5000/api/records/3m20n-wwx06/versions', 'access_links': 'https://127.0.0.1:5000/api/records/3m20n-wwx06/access/links', 'reserve_doi': 'https://127.0.0.1:5000/api/records/3m20n-wwx06/draft/pids/doi'}, 'revision_id': 3, 'parent': {'id': 'q31fy-70d64', 'access': {'owned_by': [{'user': 4}], 'links': []}, 'communities': {}}, 'versions': {'is_latest': True, 'is_latest_draft': True, 'index': 1}, 'is_published': True, 'is_draft': False, 'pids': {'oai': {'identifier': 'oai:thesis.com:3m20n-wwx06', 'provider': 'oai'}}, 'metadata': {'resource_type': {'id': 'publication-other', 'title': {'de': 'Sonstige', 'en': 'Other'}}, 'creators': [{'person_or_org': {'type': 'personal', 'name': 'Dass, Reema George', 'given_name': 'Reema George', 'family_name': 'Dass'}, 'role': {'id': 'other', 'title': {'en': 'Other'}}}], 'title': 'ML model', 'publication_date': '2025', 'dates': [{'date': '2025-02', 'type': {'id': 'created', 'title': {'de': 'Erstellt', 'en': 'Created'}}}], 'description': '<p>This a trained ml model upload</p>'}, 'access': {'record': 'public', 'files': 'public', 'embargo': {'active': False, 'reason': None}, 'status': 'open'}, 'files': {'enabled': True, 'default_preview': 'ML_model', 'order': []}, 'status': 'published'}\n"
     ]
    },
    {
     "name": "stderr",
     "output_type": "stream",
     "text": [
      "C:\\Users\\reema\\anaconda3\\Lib\\site-packages\\urllib3\\connectionpool.py:1056: InsecureRequestWarning: Unverified HTTPS request is being made to host '127.0.0.1'. Adding certificate verification is strongly advised. See: https://urllib3.readthedocs.io/en/1.26.x/advanced-usage.html#ssl-warnings\n",
      "  warnings.warn(\n"
     ]
    }
   ],
   "source": [
    "import requests\n",
    "\n",
    "# Define the URL to retrieve metadata\n",
    "record_id = \"3m20n-wwx06\"  # Replace with your actual record ID\n",
    "url = f\"https://127.0.0.1:5000/api/records/{record_id}\"\n",
    "\n",
    "# Your authorization token\n",
    "token = \"FGIxr9BpYjRNO5MFhxcRAnLeIqvlLmXxtoA9qNcrLKw9lkCrIj29CplQkFzk\"\n",
    "\n",
    "# Define the headers\n",
    "headers = {\n",
    "    \"Authorization\": f\"Bearer {token}\"\n",
    "}\n",
    "\n",
    "# Send the GET request to retrieve metadata\n",
    "response = requests.get(url, headers=headers, verify=False)\n",
    "\n",
    "# Check if the request was successful\n",
    "if response.status_code == 200:\n",
    "    metadata = response.json()\n",
    "    print(\"Metadata Retrieved Successfully!\")\n",
    "    print(metadata)\n",
    "else:\n",
    "    print(\"Error:\", response.status_code)\n",
    "    print(response.text)\n"
   ]
  },
  {
   "cell_type": "code",
   "execution_count": 6,
   "id": "caaabf61-c625-483d-8bdb-8696cb729c15",
   "metadata": {},
   "outputs": [
    {
     "name": "stdout",
     "output_type": "stream",
     "text": [
      "Detailed Metadata:\n",
      "{\n",
      "    \"resource_type\": {\n",
      "        \"id\": \"publication-other\",\n",
      "        \"title\": {\n",
      "            \"de\": \"Sonstige\",\n",
      "            \"en\": \"Other\"\n",
      "        }\n",
      "    },\n",
      "    \"creators\": [\n",
      "        {\n",
      "            \"person_or_org\": {\n",
      "                \"type\": \"personal\",\n",
      "                \"name\": \"Dass, Reema George\",\n",
      "                \"given_name\": \"Reema George\",\n",
      "                \"family_name\": \"Dass\"\n",
      "            },\n",
      "            \"role\": {\n",
      "                \"id\": \"other\",\n",
      "                \"title\": {\n",
      "                    \"en\": \"Other\"\n",
      "                }\n",
      "            }\n",
      "        }\n",
      "    ],\n",
      "    \"title\": \"ML model\",\n",
      "    \"publication_date\": \"2025\",\n",
      "    \"dates\": [\n",
      "        {\n",
      "            \"date\": \"2025-02\",\n",
      "            \"type\": {\n",
      "                \"id\": \"created\",\n",
      "                \"title\": {\n",
      "                    \"de\": \"Erstellt\",\n",
      "                    \"en\": \"Created\"\n",
      "                }\n",
      "            }\n",
      "        }\n",
      "    ],\n",
      "    \"description\": \"<p>This a trained ml model upload</p>\"\n",
      "}\n",
      "metadata keys\n",
      "resource_type\n",
      "creators\n",
      "title\n",
      "publication_date\n",
      "dates\n",
      "description\n"
     ]
    },
    {
     "name": "stderr",
     "output_type": "stream",
     "text": [
      "C:\\Users\\reema\\anaconda3\\Lib\\site-packages\\urllib3\\connectionpool.py:1056: InsecureRequestWarning: Unverified HTTPS request is being made to host '127.0.0.1'. Adding certificate verification is strongly advised. See: https://urllib3.readthedocs.io/en/1.26.x/advanced-usage.html#ssl-warnings\n",
      "  warnings.warn(\n"
     ]
    }
   ],
   "source": [
    "import requests\n",
    "\n",
    "# Define the URL to retrieve metadata\n",
    "record_id = \"3m20n-wwx06\"  \n",
    "url = f\"https://127.0.0.1:5000/api/records/{record_id}\"\n",
    "\n",
    "# Your authorization token\n",
    "token = \"FGIxr9BpYjRNO5MFhxcRAnLeIqvlLmXxtoA9qNcrLKw9lkCrIj29CplQkFzk\"\n",
    "\n",
    "# Define the headers\n",
    "headers = {\n",
    "    \"Authorization\": f\"Bearer {token}\"\n",
    "}\n",
    "\n",
    "# Send the GET request to retrieve metadata\n",
    "response = requests.get(url, headers=headers, verify=False)\n",
    "\n",
    "if response.status_code == 200:\n",
    "    record = response.json()\n",
    "    print(\"Detailed Metadata:\")\n",
    "    metadata = record.get('metadata', {})\n",
    "    print(json.dumps(metadata, indent=4, ensure_ascii=False))\n",
    "    print('metadata keys')\n",
    "    for key in metadata.keys(): print (key)\n",
    "else:\n",
    "    print(f\"Failed to fetch metadata. Status code: {response.status_code}\")\n",
    "    print(response.text)\n",
    "\n"
   ]
  },
  {
   "cell_type": "code",
   "execution_count": null,
   "id": "4a6a37f8-7f27-4d2c-afb0-f98345703a18",
   "metadata": {},
   "outputs": [],
   "source": []
  }
 ],
 "metadata": {
  "kernelspec": {
   "display_name": "Python 3 (ipykernel)",
   "language": "python",
   "name": "python3"
  },
  "language_info": {
   "codemirror_mode": {
    "name": "ipython",
    "version": 3
   },
   "file_extension": ".py",
   "mimetype": "text/x-python",
   "name": "python",
   "nbconvert_exporter": "python",
   "pygments_lexer": "ipython3",
   "version": "3.11.5"
  }
 },
 "nbformat": 4,
 "nbformat_minor": 5
}
