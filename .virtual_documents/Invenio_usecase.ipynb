import pickle
from sklearn.datasets import load_iris
from sklearn.model_selection import train_test_split
from sklearn.tree import DecisionTreeClassifier

# Load a sample dataset
data = load_iris()
X = data.data
y = data.target

# Split the dataset into training and test sets
X_train, X_test, y_train, y_test = train_test_split(X, y, test_size=0.3, random_state=42)

# Train a simple Decision Tree model
model = DecisionTreeClassifier(random_state=42)
model.fit(X_train, y_train)

# Save the trained model to a file using pickle
model_filename = 'iris_model.pkl'
with open(model_filename, 'wb') as model_file:
    pickle.dump(model, model_file)

print(f"Model saved as {model_filename}")



import requests
import json

# Define the URL and token
url = "https://127.0.0.1:5000/api/records"
token = "j66RscNftV77c28t3eNidKkkKPPQpgsLnXLcPXEHoPGxoD8FTxwtBcMFc0fC"  

# Define the headers
headers = {
    "Content-Type": "application/json",
    "Authorization": f"Bearer {token}"
}

# Define the data to be sent in the request
data = {
    "title": "My trined ML model",
    "description": "This is a sample unstructed data of a simple trained ML model",
    "creator": "Reema Dass"
}

# Send the POST request
response = requests.post(url, headers=headers, data=json.dumps(data), verify=False)

# Print the response
print(response.status_code)
print(response.json())
# print(json.dumps(response, indent=4, ensure_ascii=False))



import requests
import json

# Define the URL and token
url = "https://127.0.0.1:5000/api/records/4t77w-a4p21/draft/files"
token = "j66RscNftV77c28t3eNidKkkKPPQpgsLnXLcPXEHoPGxoD8FTxwtBcMFc0fC"  

# Define the headers
headers = {
    "Content-Type": "application/json",
    "Authorization": f"Bearer {token}"
}

# Define the data to be sent in the request
data = [
    {"key": "ML_model"}
]

# Send the POST request
response = requests.post(url, headers=headers, data=json.dumps(data), verify=False)

# Print the response
print(response.status_code)
print(response.json())



import requests

# Define the URL and token
url = "https://127.0.0.1:5000/api/records/4t77w-a4p21/draft/files/ML_model/content"
token = "j66RscNftV77c28t3eNidKkkKPPQpgsLnXLcPXEHoPGxoD8FTxwtBcMFc0fC"  

# Define the headers
headers = {
    "Content-Type": "application/octet-stream",
    "Authorization": f"Bearer {token}"
}

# Open the file you want to upload in binary mode
with open('iris_model.pkl', 'rb') as file:  # Replace with the actual .pkl file name
    # Send the PUT request
    response = requests.put(url, headers=headers, data=file, verify=False)

# Print the response
print(response.status_code)
print(response.json())



import requests

# Define the URL and token
url = "https://127.0.0.1:5000/api/records/4t77w-a4p21/draft/files/ML_model/commit"
token = "j66RscNftV77c28t3eNidKkkKPPQpgsLnXLcPXEHoPGxoD8FTxwtBcMFc0fC"  

# Define the headers
headers = {
    "Authorization": f"Bearer {token}"
}

# Send the POST request
response = requests.post(url, headers=headers, verify=False)

# Print the response
print(response.status_code)
print(response.json())



# import requests

# # Define the URL and token
# url = "https://127.0.0.1:5000/api/records/4t77w-a4p21/draft/actions/publish"
# # curl -k -XPOST -H "Authorization: Bearer <TOKEN>" https://127.0.0.1:5000/api/records/jnmmp-51n47/draft/actions/publish
# token = "j66RscNftV77c28t3eNidKkkKPPQpgsLnXLcPXEHoPGxoD8FTxwtBcMFc0fC"  

# # Define the headers
# headers = {
#     "Authorization": f"Bearer {token}"
# }

# # Send the POST request
# response = requests.post(url, headers=headers, verify=False)

# # Print the response
# print(response.status_code)
# print(response.json())






followed steps from :https://inveniordm.docs.cern.ch/install/run/#upload-a-file-to-a-record

But, i get the above error:
400
{'status': 400, 'message': 'A validation error occurred.', 'errors': [{'field': 'metadata.resource_type', 'messages': ['Missing data for required field.']}, {'field': 'metadata.creators', 'messages': ['Missing data for required field.']}, {'field': 'metadata.title', 'messages': ['Missing data for required field.']}, {'field': 'metadata.publication_date', 'messages': ['Missing data for required field.']}]}


Which i understand as i also see the same warning on the UI but i am unable to understand how to set them through python code. alternate is to test it by manually inputting them on the UI and publishing#


the last step is to publish.
















import requests

# Define the URL to retrieve metadata
record_id = "4t77w-a4p21"  # Replace with your actual record ID
url = f"https://127.0.0.1:5000/api/records/{record_id}"

# Your authorization token
token = "j66RscNftV77c28t3eNidKkkKPPQpgsLnXLcPXEHoPGxoD8FTxwtBcMFc0fC"

# Define the headers
headers = {
    "Authorization": f"Bearer {token}"
}

# Send the GET request to retrieve metadata
response = requests.get(url, headers=headers, verify=False)

# Check if the request was successful
if response.status_code == 200:
    metadata = response.json()
    print("Metadata Retrieved Successfully!")
    print(metadata)
else:
    print("Error:", response.status_code)
    print(response.text)



import requests
import json
# Define the URL to retrieve metadata
record_id = "x1awz-eth87"  
url = f"https://127.0.0.1:5000/api/records/{record_id}"

# Your authorization token
token = "DAgvJKVXgS06ujVtURzasaaFCX3sydFL9B94Mzg6tTp2AMEF7qBOrBVPrl27"

# Define the headers
headers = {
    "Authorization": f"Bearer {token}"
}

# Send the GET request to retrieve metadata
response = requests.get(url, headers=headers, verify=False)

if response.status_code == 200:
    record = response.json()
    print("Detailed Metadata:")
    metadata = record.get('metadata', {})
    print(json.dumps(metadata, indent=4, ensure_ascii=False))
    print('metadata keys')
    for key in metadata.keys(): print (key)
else:
    print(f"Failed to fetch metadata. Status code: {response.status_code}")
    print(response.text)





