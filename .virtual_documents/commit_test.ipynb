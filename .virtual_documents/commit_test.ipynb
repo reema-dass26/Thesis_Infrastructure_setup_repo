import random
import string

def generate_password(length=12):
    if length < 6:
        raise ValueError("Password length should be at least 6 characters")
    
    # Create a pool of characters: uppercase, lowercase, digits, and special characters
    characters = string.ascii_letters + string.digits + string.punctuation
    
    # Randomly select characters to form a password
    password = ''.join(random.choices(characters, k=length))
    return password

# Generate a random password of length 12
print("Your random password is:", generate_password())



import json

# Open the .ipynb file and load the JSON
with open('commit_test.ipynb', 'r') as f:
    notebook_data = json.load(f)

# Inspect the metadata for the notebook
print(json.dumps(notebook_data['metadata'], indent=2))

# Inspect metadata for each cell
for i, cell in enumerate(notebook_data['cells']):
    print(f"Cell {i+1} metadata: {cell.get('metadata', {})}")



# import requests

# # GraphQL endpoint
# url = "https://api.github.com/graphql"

# # Your GitHub personal access token
# token = "your-personal-access-token"

# # Define the query (replace `username` and `repo_name`)
# query = """
# {
#   repository(owner: "your-username", name: "your-repository") {
#     name
#     owner {
#       login
#     }
#     createdAt
#     stargazerCount
#     pullRequests(states: OPEN) {
#       totalCount
#     }
#     issues(states: OPEN) {
#       totalCount
#     }
#   }
# }
# """

# # Set up the request headers
# headers = {
#     "Authorization": f"Bearer {token}",
#     "Content-Type": "application/json",
# }

# # Send the request
# response = requests.post(url, json={'query': query}, headers=headers)

# # Check the response
# if response.status_code == 200:
#     data = response.json()
#     repo = data['data']['repository']
#     print(f"Repository Name: {repo['name']}")
#     print(f"Owner: {repo['owner']['login']}")
#     print(f"Created At: {repo['createdAt']}")
#     print(f"Stars: {repo['stargazerCount']}")
#     print(f"Open Pull Requests: {repo['pullRequests']['totalCount']}")
#     print(f"Open Issues: {repo['issues']['totalCount']}")
# else:
#     print(f"Failed to fetch data. Status code: {response.status_code}")



pip install pymysql


!pip install requests



!pip install pydantic

# from pydantic import T


pip freeze









%pip show pydantic 


%pip install --upgrade pydantic


%pip show pydantic 


# from dbrepo.RestClient import RestClient
# # https://test.dbrepo.tuwien.ac.at
# # http://gateway-service
# # Define connection details
# endpoint = "https://test.dbrepo.tuwien.ac.at"  # Replace with your endpoint
# username = "12144026"  # Replace with your username
# password = "Uninet26"  # Replace with your password
# secure = True  # Set to False if using self-signed certificates

# # Initialize the RestClient
# client = RestClient( username=username, password=password, secure=secure)

# print("Client initialized:", client)


# # Step 2: Fetch all databases
# try:
#     # This assumes there is a method like 'get_databases'
#     databases = client.get_databases()
#     print("Databases:", databases)
# except AttributeError:
#     print("The RestClient class does not have a 'get_databases' method.")
# except Exception as e:
#     print("An error occurred:", e)


print(dir(client))



pip install pymysql sqlalchemy



# import pymysql

# # Connection details
# host = "data-db"
# port = 3306
# database = "12144026_ndse"
# username = "12144026"
# password = "Uninet26"  # Replace with your actual password

# # Establish connection
# try:
#     connection = pymysql.connect(
#         host=host,
#         port=port,
#         user=username,
#         password=password,
#         database=database
#     )
#     print("Connection successful!")
    
#     # Fetch database metadata (tables, schema, etc.)
#     with connection.cursor() as cursor:
#         cursor.execute("SHOW TABLES;")
#         tables = cursor.fetchall()
#         print("Tables:", tables)
# finally:
#     connection.close()




