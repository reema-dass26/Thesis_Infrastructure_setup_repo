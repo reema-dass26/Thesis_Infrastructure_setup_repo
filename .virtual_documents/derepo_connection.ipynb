!pip install pika pandas scikit-learn



!pip install pymysql



http://localhost/api/oai?metadataPrefix=string&from=string&until=string&set=string&resumptionToken=string&fromDate=2025-01-25T06%3A57%3A17.255Z&untilDate=2025-01-25T06%3A57%3A17.255Z&parametersString=string


import requests

# API endpoint URL
url = "http://localhost/api/oai?metadataPrefix=test&from=1&until=2&set=1&resumptionToken=string&fromDate=2025-01-25T06%3A57%3A17.255Z&untilDate=2025-01-25T06%3A57%3A17.255Z&parametersString=0"
url="http://localhost/api/identifier/retrieve?url=https%3A%2F%2Fdoi.org%2F10.5281%2Fzenodo.1404173"
try:
    # Send a GET request to the APIz
    response = requests.get(url)

    # Print response status and content
    print(f"Status Code: {response.status_code}")
    print("Raw Response Content:", response.text)

    # Check if response contains valid JSON
    if response.status_code == 200:
        try:
            data = response.json()
            print("API Response (Parsed JSON):", data)
        except ValueError:
            print("Response is not valid JSON. Here's the raw response:")
            print(response.text)
    else:
        print(f"Error: Received status code {response.status_code}")

except requests.exceptions.RequestException as e:
    print(f"Request failed: {e}")



import requests

# API endpoint URL
url = "http://localhost/api/database/6c1c5dbd-d471-416f-997f-cf5bf72943e4/table/1d8801b0-05b8-4066-b7d1-e5c1da11768f/data"
url = "http://localhost/api/database/6c1c5dbd-d471-416f-997f-cf5bf72943e4"

try:
    # Send a GET request to the API
    response = requests.get(url)

    # Check if the request was successful
    if response.status_code == 200:
        # Parse the JSON response
        data = response.json()
        print("API Response:", data)
    else:
        print(f"Error: Received status code {response.status_code}")
        print("Response content:", response.text)

except requests.exceptions.RequestException as e:
    print(f"Request failed: {e}")


import requests

# API endpoint URL
# url = "http://localhost/api/database/6c1c5dbd-d471-416f-997f-cf5bf72943e4/table/1d8801b0-05b8-4066-b7d1-e5c1da11768f/data"
url = "http://localhost/api/identifier/retrieve?url=https%3A%2F%2Fdoi.org%2F10.5281%2Fzenodo.1404173"

try:
    # Send a GET request to the API
    response = requests.get(url)

    # Check if the request was successful
    if response.status_code == 200:
        # Parse the JSON response
        data = response.json()
        print("API Response:", data)
    else:
        print(f"Error: Received status code {response.status_code}")
        print("Response content:", response.text)

except requests.exceptions.RequestException as e:
    print(f"Request failed: {e}")



# API endpoint URL

# {
#   "metadataPrefix": "oai_dc",  
#   "from": "2025-03-01", 
#   "until": "2025-03-07",  
#   "set": "Databases/6c1c5dbd-d471-416f-997f-cf5bf72943e4/Tables/1d8801b0-05b8-4066-b7d1-e5c1da11768f",
#   "resumptionToken": "string",
#   "fromDate": "2025-03-07T18:48:43.749Z",
#   "untilDate": "2025-03-07T18:48:43.749Z",
#   "parametersString": "string"
# }
# url = "http://localhost/api/database/6c1c5dbd-d471-416f-997f-cf5bf72943e4/table/1d8801b0-05b8-4066-b7d1-e5c1da11768f/data"
import requests
import xml.etree.ElementTree as ET

# URL for the API request
url = "https://test.dbrepo.tuwien.ac.at/api/oai?metadataPrefix=string&from=string&until=string&set=string&resumptionToken=string&fromDate=2025-03-07T19%3A35%3A51.476Z&untilDate=2025-03-07T19%3A35%3A51.476Z&parametersString=string"
url ="https://test.dbrepo.tuwien.ac.at/api/oai?metadataPrefix=oai_dc&from=string&until=string&set=string&resumptionToken=string&fromDate=2025-03-07T19%3A35%3A51.476Z&untilDate=2025-03-07T19%3A35%3A51.476Z&parametersString=string"
url="http://localhost/api/oai?metadataPrefix=oai_dc&from=2025-03-01&until=2025-03-07&set=Databases%2F6c1c5dbd-d471-416f-997f-cf5bf72943e4%2FTables%2F1d8801b0-05b8-4066-b7d1-e5c1da11768f&resumptionToken=string&fromDate=2025-03-07T19%3A35%3A51.476Z&untilDate=2025-03-07T19%3A35%3A51.476Z&parametersString=string"



try:
    # Send a GET request to the API
    response = requests.get(url)

    # Check if the request was successful
    if response.status_code == 200:
        # Check if the content type is XML (text/xml or application/xml)
        if 'xml' in response.headers.get('Content-Type', ''):
            # Parse the XML response
            root = ET.fromstring(response.text)
            print("XML Response Parsed:")
            # Print the XML tree (raw XML response)
            print(ET.tostring(root, encoding='utf-8', method='xml').decode())
        else:
            print("Error: Response content is not in XML format. Content-Type:", response.headers.get('Content-Type'))
    else:
        print(f"Error: Received status code {response.status_code}")
        print("Response content:", response.text)

except requests.exceptions.RequestException as e:
    print(f"Request failed: {e}")




# Status Code: 200
# Raw Response Content: <?xml version="1.0" encoding="UTF-8"?>
# <OAI-PMH xmlns="http://www.openarchives.org/OAI/2.0/" xmlns:xsi="http://www.w3.org/2001/XMLSchema-instance"
#          xsi:schemaLocation="http://www.openarchives.org/OAI/2.0/ http://www.openarchives.org/OAI/2.0/OAI-PMH.xsd">
#     <responseDate>2025-01-25T07:07:35Z</responseDate>
#     <request verb="Identify">https://localhost/api/oai</request>
#     <Identify>
#     <repositoryName>Database Repository</repositoryName>
#     <baseURL>http://localhost</baseURL>
#     <protocolVersion>2.0</protocolVersion>
#     <adminEmail>noreply@localhost</adminEmail>
#     <earliestDatestamp></earliestDatestamp>
#     <deletedRecord>persistent</deletedRecord>
#     <granularity>YYYY-MM-DDThh:mm:ssZ</granularity>
# </Identify>
# </OAI-PMH>
# Response is not valid JSON. Here's the raw response:
# <?xml version="1.0" encoding="UTF-8"?>
# <OAI-PMH xmlns="http://www.openarchives.org/OAI/2.0/" xmlns:xsi="http://www.w3.org/2001/XMLSchema-instance"
#          xsi:schemaLocation="http://www.openarchives.org/OAI/2.0/ http://www.openarchives.org/OAI/2.0/OAI-PMH.xsd">
#     <responseDate>2025-01-25T07:07:35Z</responseDate>
#     <request verb="Identify">https://localhost/api/oai</request>
#     <Identify>
#     <repositoryName>Database Repository</repositoryName>
#     <baseURL>http://localhost</baseURL>
#     <protocolVersion>2.0</protocolVersion>
#     <adminEmail>noreply@localhost</adminEmail>
#     <earliestDatestamp></earliestDatestamp>
#     <deletedRecord>persistent</deletedRecord>
#     <granularity>YYYY-MM-DDThh:mm:ssZ</granularity>
# </Identify>
# </OAI-PMH>


import requests

# API endpoint URL
# url = "http://localhost/api/database/6c1c5dbd-d471-416f-997f-cf5bf72943e4/table/1d8801b0-05b8-4066-b7d1-e5c1da11768f/data"
url = "http://localhost/api/database/6c1c5dbd-d471-416f-997f-cf5bf72943e4/view"

try:
    # Send a GET request to the API
    response = requests.get(url)

    # Check if the request was successful
    if response.status_code == 200:
        # Parse the JSON response
        data = response.json()
        print("API Response:", data)
    else:
        print(f"Error: Received status code {response.status_code}")
        print("Response content:", response.text)

except requests.exceptions.RequestException as e:
    print(f"Request failed: {e}")


import requests

# API endpoint URL
# url = "http://localhost/api/database/6c1c5dbd-d471-416f-997f-cf5bf72943e4/table/1d8801b0-05b8-4066-b7d1-e5c1da11768f/data"
url = "http://localhost/api/database/6c1c5dbd-d471-416f-997f-cf5bf72943e4/table/1d8801b0-05b8-4066-b7d1-e5c1da11768f/statistic"

try:
    # Send a GET request to the API
    response = requests.get(url)

    # Check if the request was successful
    if response.status_code == 200:
        # Parse the JSON response
        data = response.json()
        print("API Response:", data)
    else:
        print(f"Error: Received status code {response.status_code}")
        print("Response content:", response.text)

except requests.exceptions.RequestException as e:
    print(f"Request failed: {e}")


import requests

# API endpoint URL
# url = "http://localhost/api/database/6c1c5dbd-d471-416f-997f-cf5bf72943e4/table/1d8801b0-05b8-4066-b7d1-e5c1da11768f/data"
url = "http://localhost/api/database/6c1c5dbd-d471-416f-997f-cf5bf72943e4/table/1d8801b0-05b8-4066-b7d1-e5c1da11768f/history"

try:
    # Send a GET request to the API
    response = requests.get(url)

    # Check if the request was successful
    if response.status_code == 200:
        # Parse the JSON response
        data = response.json()
        print("API Response:", data)
    else:
        print(f"Error: Received status code {response.status_code}")
        print("Response content:", response.text)

except requests.exceptions.RequestException as e:
    print(f"Request failed: {e}")


import requests

# API endpoint URL
# url = "http://localhost/api/database/6c1c5dbd-d471-416f-997f-cf5bf72943e4/table/1d8801b0-05b8-4066-b7d1-e5c1da11768f/data"
url = "http://localhost/api/database/6c1c5dbd-d471-416f-997f-cf5bf72943e4/table/1d8801b0-05b8-4066-b7d1-e5c1da11768f/export"

try:
    # Send a GET request to the API
    response = requests.get(url)

    # Check if the request was successful
    if response.status_code == 200:
        # Parse the JSON response
        data = response.json()
        print("API Response:", data)
    else:
        print(f"Error: Received status code {response.status_code}")
        print("Response content:", response.text)

except requests.exceptions.RequestException as e:
    print(f"Request failed: {e}")


import requests

# API endpoint URL
# url = "http://localhost/api/database/6c1c5dbd-d471-416f-997f-cf5bf72943e4/table/1d8801b0-05b8-4066-b7d1-e5c1da11768f/data"
url = "http://localhost/api/database/6c1c5dbd-d471-416f-997f-cf5bf72943e4/table/1d8801b0-05b8-4066-b7d1-e5c1da11768f/suggest"

try:
    # Send a GET request to the API
    response = requests.get(url)

    # Check if the request was successful
    if response.status_code == 200:
        # Parse the JSON response
        data = response.json()
        print("API Response:", data)
    else:
        print(f"Error: Received status code {response.status_code}")
        print("Response content:", response.text)

except requests.exceptions.RequestException as e:
    print(f"Request failed: {e}")


import requests

# API endpoint URL
# url = "http://localhost/api/database/6c1c5dbd-d471-416f-997f-cf5bf72943e4/table/1d8801b0-05b8-4066-b7d1-e5c1da11768f/data"
url = "http://localhost/api/database?internal_name=iris_ivce"

try:
    # Send a GET request to the API
    response = requests.get(url)

    # Check if the request was successful
    if response.status_code == 200:
        # Parse the JSON response
        data = response.json()
        print("API Response:", data)
    else:
        print(f"Error: Received status code {response.status_code}")
        print("Response content:", response.text)

except requests.exceptions.RequestException as e:
    print(f"Request failed: {e}")


import requests

# API endpoint URL
# url = "http://localhost/api/database/6c1c5dbd-d471-416f-997f-cf5bf72943e4/table/1d8801b0-05b8-4066-b7d1-e5c1da11768f/data"
url = "http://localhost/api/database/6c1c5dbd-d471-416f-997f-cf5bf72943e4"

try:
    # Send a GET request to the API
    response = requests.get(url)

    # Check if the request was successful
    if response.status_code == 200:
        # Parse the JSON response
        data = response.json()
        print("API Response:", data)
    else:
        print(f"Error: Received status code {response.status_code}")
        print("Response content:", response.text)

except requests.exceptions.RequestException as e:
    print(f"Request failed: {e}")
