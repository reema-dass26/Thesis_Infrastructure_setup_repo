!pip install paho-mqtt


import paho.mqtt.client as mqtt

MQTT_BROKER = "localhost"  # Broker address
MQTT_PORT = 1883  # Broker port
MQTT_TOPIC = "dbrepo.204a70a0-3dc2-4b8a-b36f-7c266d6d750e.183c11ba-3e3b-4d39-835d-f33d03393802"  # Topic to subscribe to

# MQTT Authentication details (if required)
MQTT_USERNAME = "reema"  # Replace with your MQTT username
MQTT_PASSWORD = "Toothless!26"  # Replace with your MQTT password

def on_connect(client, userdata, flags, rc):
    print(f"Connected with result code {rc}")
    if rc == 0:
        client.subscribe(MQTT_TOPIC)
    else:
        print(f"Connection failed with result code {rc}")

def on_message(client, userdata, msg):
    print(f"Received message: {msg.payload.decode()}")

client = mqtt.Client()

# Set the username and password for the connection
client.username_pw_set(MQTT_USERNAME, MQTT_PASSWORD)

# Assign the callback functions
client.on_connect = on_connect
client.on_message = on_message

client.connect(MQTT_BROKER, MQTT_PORT, 60)

client.loop_forever()




