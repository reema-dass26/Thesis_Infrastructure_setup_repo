import nbformat

# Load the notebook
with open('test file.ipynb', 'r', encoding='utf-8') as f:
    notebook = nbformat.read(f, as_version=4)

# Extract metadata
metadata = notebook.metadata
print("Metadata:", metadata)


import nbformat

# Load the notebook file
with open('test file.ipynb', 'r', encoding='utf-8') as f:
    notebook = nbformat.read(f, as_version=4)

# Extract the metadata of the entire notebook
notebook_metadata = notebook.metadata
print("Notebook Metadata:", notebook_metadata)

# Extract and analyze the execution metadata from each cell
for idx, cell in enumerate(notebook.cells):
    if cell.cell_type == 'code':
        execution_info = {
            "cell_number": idx,
            "execution_count": cell.execution_count,  # Execution count of the cell
            "outputs": cell.outputs,  # Outputs from the execution
            "source": cell.source  # Source code of the cell
        }
        print(f"Cell {idx}: {execution_info}")





import requests

# GitHub API URL for getting the commits
repo_api_url = "https://api.github.com/repos/reema-dass26/Thesis_Infrastructure_setup_repo/commits"

# Fetch the commit history
response = requests.get(repo_api_url)
if response.status_code == 200:
    commits = response.json()
    for commit in commits:
        commit_sha = commit['sha']
        commit_message = commit['commit']['message']
        commit_date = commit['commit']['author']['date']
        print(f"Commit SHA: {commit_sha}")
        print(f"Commit Message: {commit_message}")
        print(f"Commit Date: {commit_date}")
else:
    print("Failed to fetch commits.")


commit_sha = "9cf68d09c2835e83e70f2493c8f8174b67b1565c"  # Replace with the actual commit SHA
notebook_url = f"https://raw.githubusercontent.com/reema-dass26/Thesis_Infrastructure_setup_repo/{commit_sha}/test file.ipynb"

response = requests.get(notebook_url)
if response.status_code == 200:
    notebook_content = response.json()
    print("Detailed Metadata from Previous Version:")
    print(json.dumps(notebook_content.get('metadata', {}), indent=4))
else:
    print("Failed to fetch notebook from commit.")



GITHUBBBB



