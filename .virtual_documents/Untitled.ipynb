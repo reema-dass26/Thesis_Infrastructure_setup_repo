!pip install pika pandas scikit-learn



# from dbrepo.AmqpClient import AmqpClient

# # Define connection parameters
# client = AmqpClient(
#     broker_host="amqp://localhost:5672/dbrepo",  # RabbitMQ broker host
#     username="reema",                         # Your username
#     password="admin",                         # Your password
# )

# # Test publishing a message to verify connection
# try:
#     client.publish(
#         exchange="dbrepo",  # Exchange name
#         routing_key="dbrepo.database_feed.test",  # Routing key
#         data={'test': 2.4}
#     )
#     print("Message published successfully!")
# except Exception as e:
#     print(f"Failed to connect or publish message: {e}")



!pip install pymysql



from dbrepo.AmqpClient import AmqpClient

try:
    client = AmqpClient(broker_host="localhost:3306/iris_classification_jmio")
    print("Connected successfully!")
    print(client)

except Exception as e:
    print(f"Error connecting to the database: {e}")



from dbrepo.AmqpClient import AmqpClient
from dbrepo.RestClient import RestClient

import dbrepo

try:
    client = AmqpClient(broker_host="localhost:3306/iris_classification_jmio", 
                        username="reema",
                        password="admin")
    print("Connected successfully!")

    # Example query to fetch data
    # query = "SELECT * FROM your_table_name;"
    # result = client.execute_query(query)
    # client.

    # for row in result:
    #     print(row)

except Exception as e:
    print(f"Error retrieving data: {e}")



from dbrepo.RestClient import RestClient
from pydantic import BaseModel
from typing import List



client = RestClient(endpoint="http://localhost", username="reema",
            password="admin")
print('client created')
response = client.get_subset_data(database_id=1,subset_id=1 ,df=True)
print(response)



import pandas as pd
from dbrepo.RestClient import RestClient
import pydantic


client = RestClient(endpoint="http://localhost", username="reema", password="admin")
print('client created')

try:
    # Get data as a DataFrame
    count = client.get_databases_count()
    print(count)

except Exception as e:
    print(f"Error retrieving data: {e}")



from pydantic import BaseModel
from typing import List
from dbrepo.RestClient import RestClient

# Define the dictionary structure for the input_value with constraints
class InputValueItem(BaseModel):
    id: int = Field(..., ge=1)  # id must be greater than or equal to 1
    sepal_length: float = Field(..., ge=0)  # sepal_length must be a non-negative number
    sepal_width: float = Field(..., ge=0)  # sepal_width must be a non-negative number
    petal_length: float = Field(..., ge=0)  # petal_length must be a non-negative number
    petal_width: float = Field(..., ge=0)  # petal_width must be a non-negative number
    species: str = Field(..., min_length=3)  # species must have a minimum length of 3 characters


# Define the model for the list of InputValueItem
class ResultWithItems(BaseModel):
    type: str ='data'
    input_type: str ='data'
    input_value: List[InputValueItem]

        
# Handling the API response
client = RestClient(endpoint="http://localhost", username="reema", password="admin")
print('client created')

try:
    # result_data = ResultWithItems(
    #     type="model_type",  # Replace with actual type if available in the response
    #     input_type="list",  # Replace with actual input_type if available
    #     input_value=[]  # Start with an empty list
    # )

    # Get data from API (assuming df=True returns a list of dictionaries)
    result_data = client.get_subset_data(database_id=1, subset_id=1, df=True)

   # Now populate the input_value list with the API data
    # Convert response items into InputValueItem objects
    # result_data.input_value = [InputValueItem(**item) for item in response]

    # If everything is valid, this will return the validated data
    print("Valid results:", result_data)
    print(result_data.input_value)  # Print the list of InputValueItem objects

except ValidationError as exc:
    # If validation fails, print the validation errors
    print("Validation errors occurred:")
    for error in exc.errors():
        print(f"Field: {error['loc'][0]}, Error: {repr(error['type'])}, Message: {error.get('msg')}")
except Exception as e:
    print(f"Error retrieving data: {e}")


# from pydantic import BaseModel
# from typing import List
# from dbrepo.RestClient import RestClient

# # Define your Result model
# class Result(BaseModel):
#     type:str
#     input_value=[{
#         id: int
#         sepal_length: float
#         sepal_width: float
#         petal_length: float
#         petal_width: float
#         species: str
#     }]
#         input_type:str
# # Define a model for the response that will be a list of Result
# # class ResultList(BaseModel):
# #     results: List[Result]

# # Handling the API response
# client = RestClient(endpoint="http://localhost", username="reema", password="admin")
# print('client created')

# try:
#     # Get data from the client
#     response_data = client.get_subset_data(database_id=1, subset_id=1)
    
#     # Check if the response is a list of dictionaries
#     if isinstance(response_data, list):
#         # Create an instance of ResultList by passing the list of dictionaries directly
#         result_list = ResultList(results=[Result(**item) for item in response_data])
        
#         # Now result_list contains a validated list of Result objects
#         print("Valid results:", result_list)
#         print(result_list.results)  # Print the list of Result objects

#     else:
#         print("Received response is not a list. Actual type:", type(response_data))
    
# except Exception as e:
#     print(f"Error retrieving data: {e}")



from pydantic import BaseModel, Field, ValidationError
from typing import List



# Define the dictionary structure for the input_value with constraints
class InputValueItem(BaseModel):
    id: int = Field(..., ge=1)  # id must be greater than or equal to 1
    sepal_length: float = Field(..., ge=0)  # sepal_length must be a non-negative number
    sepal_width: float = Field(..., ge=0)  # sepal_width must be a non-negative number
    petal_length: float = Field(..., ge=0)  # petal_length must be a non-negative number
    petal_width: float = Field(..., ge=0)  # petal_width must be a non-negative number
    species: str = Field(..., min_length=3)  # species must have a minimum length of 3 characters


# Define the model for the list of InputValueItem
class ResultWithItems(BaseModel):
    type: str
    input_type: str
    input_value: List[InputValueItem]

# Test the model with validation error handling
try:
    # Trying to create an instance of ResultWithItems with invalid data
    result_data = ResultWithItems(
        type="model_type",
        input_type="list",
        input_value=[
            {"id": 1, "sepal_length": -5.0, "sepal_width": 2.0, "petal_length": 3.0, "petal_width": 4.0, "species": "Setosa"},
            {"id": 2, "sepal_length": 4.0, "sepal_width": -1.0, "petal_length": 3.0, "petal_width": 4.0, "species": "Versicolor"}
        ]
    )
except ValidationError as exc:
    # Handle the validation error
    print("Validation errors occurred:")
    for error in exc.errors():
        print(f"Field: {error['loc'][0]}, Error: {repr(error['type'])}, Message: {error.get('msg')}")



from pydantic import BaseModel, ValidationError
from typing import List
from dbrepo.RestClient import RestClient

# Define your Pydantic models
class InputValueItem(BaseModel):
    id: int
    sepal_length: float
    sepal_width: float
    petal_length: float
    petal_width: float
    species: str

class ResultWithItems(BaseModel):
    input_value: List[InputValueItem]

# Initialize the RestClient
client = RestClient(endpoint="http://localhost", username="reema", password="admin")
print('client created')

try:
    # Fetch data from the API
    df = client.get_subset_data(database_id=1, subset_id=1, df=False)
    
    # Print raw response to check if it's what you expect
    print("Raw API response:", df)
    
    # Check if the response is a list (expected data structure)
    if isinstance(df, list):
        try:
            # Print the first element of the response to inspect its structure
            print("First item in response:", df[0])

            # Assuming the response is a list of dictionaries, map each item to InputValueItem
            result_data = ResultWithItems(
                input_value=[InputValueItem(**item) for item in df]  # Create instances of InputValueItem
            )
            print("Validated result data:", result_data)
        except ValidationError as e:
            print(f"Validation error: {e}")
    else:
        print("API response is not in the expected list format.")
        
except Exception as e:
    print(f"Error retrieving data: {e}")



import requests

# API endpoint URL
url = "http://localhost/api/database/1/table/2/data"

try:
    # Send a GET request to the API
    response = requests.get(url)

    # Check if the request was successful
    if response.status_code == 200:
        # Parse the JSON response
        data = response.json()
        print("API Response:", data)
    else:
        print(f"Error: Received status code {response.status_code}")
        print("Response content:", response.text)

except requests.exceptions.RequestException as e:
    print(f"Request failed: {e}")



http://localhost/api/oai?metadataPrefix=string&from=string&until=string&set=string&resumptionToken=string&fromDate=2025-01-25T06%3A57%3A17.255Z&untilDate=2025-01-25T06%3A57%3A17.255Z&parametersString=string


import requests

# API endpoint URL
url = "http://localhost/api/oai"
try:
    # Send a GET request to the API
    response = requests.get(url)

    # Check if the request was successful
    if response.status_code == 200:
        # Parse the JSON response
        data = response.json()
        print("API Response:", data)
    else:
        print(f"Error: Received status code {response.status_code}")
        print("Response content:", response.text)

except requests.exceptions.RequestException as e:
    print(f"Request failed: {e}")







