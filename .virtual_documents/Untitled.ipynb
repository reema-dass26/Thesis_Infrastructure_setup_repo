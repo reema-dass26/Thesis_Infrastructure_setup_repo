import nbformat

# Load the notebook
with open('test file.ipynb', 'r', encoding='utf-8') as f:
    notebook = nbformat.read(f, as_version=4)

# Extract metadata
metadata = notebook.metadata
print("Metadata:", metadata)




