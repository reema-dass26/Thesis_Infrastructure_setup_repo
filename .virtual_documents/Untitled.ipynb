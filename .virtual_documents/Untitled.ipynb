print('test commit')


import logging
import pandas as pd
from sklearn.datasets import make_classification
from sklearn.model_selection import train_test_split
from sklearn.linear_model import LogisticRegression
from sklearn.metrics import accuracy_score, classification_report
import time

# Set up logging
logging.basicConfig(
    filename='ml_pipeline.log',
    level=logging.INFO,
    format='%(asctime)s - %(levelname)s - %(message)s'
)

def log_metadata(metadata: dict):
    """Log metadata to the console and file."""
    for key, value in metadata.items():
        logging.info(f"{key}: {value}")

# Generate a large synthetic dataset
logging.info("Generating synthetic dataset...")
X, y = make_classification(
    n_samples=100000,  # large dataset
    n_features=20,
    n_informative=15,
    n_redundant=5,
    random_state=42
)
logging.info("Dataset generated successfully.")

# Split dataset
logging.info("Splitting dataset into training and test sets...")
X_train, X_test, y_train, y_test = train_test_split(X, y, test_size=0.2, random_state=42)
logging.info("Dataset split completed.")

# Track metadata
metadata = {
    "Number of samples": X.shape[0],
    "Number of features": X.shape[1],
    "Train-test split ratio": "80:20",
    "Random state": 42,
}
log_metadata(metadata)

# Model training
logging.info("Training logistic regression model...")
start_time = time.time()
model = LogisticRegression(max_iter=1000, random_state=42)
model.fit(X_train, y_train)
training_time = time.time() - start_time
logging.info(f"Model training completed in {training_time:.2f} seconds.")

# Predictions and evaluation
logging.info("Evaluating the model...")
y_pred = model.predict(X_test)
accuracy = accuracy_score(y_test, y_pred)
logging.info(f"Accuracy: {accuracy:.4f}")

# Detailed evaluation metrics
report = classification_report(y_test, y_pred, output_dict=True)
logging.info("Classification report:")
for key, value in report.items():
    logging.info(f"{key}: {value}")

# Metadata logging
metadata.update({
    "Training time (s)": training_time,
    "Accuracy": accuracy,
    "Model": "Logistic Regression",
    "Max iterations": 1000,
})
log_metadata(metadata)

logging.info("ML pipeline completed.")



metadata



