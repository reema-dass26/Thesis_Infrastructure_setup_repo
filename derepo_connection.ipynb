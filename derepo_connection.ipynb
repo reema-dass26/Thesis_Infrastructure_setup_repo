{
 "cells": [
  {
   "cell_type": "code",
   "execution_count": null,
   "id": "1885d2d8-67c2-4400-bbb2-39c439d2ca0f",
   "metadata": {
    "scrolled": true
   },
   "outputs": [],
   "source": [
    "!pip install pika pandas scikit-learn\n"
   ]
  },
  {
   "cell_type": "code",
   "execution_count": 9,
   "id": "ae2239ab-0eea-49f3-b2c5-cd4fc7f19c53",
   "metadata": {
    "scrolled": true
   },
   "outputs": [
    {
     "name": "stdout",
     "output_type": "stream",
     "text": [
      "2025-01-24 18:26:12,852 pika.adapters.utils.selector_ioloop_adapter ERROR  Address resolution failed: gaierror(11001, 'getaddrinfo failed')\n",
      "2025-01-24 18:26:12,864 pika.adapters.utils.connection_workflow ERROR  getaddrinfo failed: gaierror(11001, 'getaddrinfo failed').\n",
      "2025-01-24 18:26:12,864 pika.adapters.utils.connection_workflow ERROR  AMQP connection workflow failed: AMQPConnectionWorkflowFailed: 1 exceptions in all; last exception - gaierror(11001, 'getaddrinfo failed'); first exception - None.\n",
      "2025-01-24 18:26:12,866 pika.adapters.utils.connection_workflow ERROR  AMQPConnectionWorkflow - reporting failure: AMQPConnectionWorkflowFailed: 1 exceptions in all; last exception - gaierror(11001, 'getaddrinfo failed'); first exception - None\n",
      "2025-01-24 18:26:12,866 pika.adapters.blocking_connection ERROR  Connection workflow failed: AMQPConnectionWorkflowFailed: 1 exceptions in all; last exception - gaierror(11001, 'getaddrinfo failed'); first exception - None\n",
      "2025-01-24 18:26:12,867 pika.adapters.blocking_connection ERROR  Error in _create_connection().\n",
      "Traceback (most recent call last):\n",
      "  File \"C:\\Users\\reema\\anaconda3\\Lib\\site-packages\\pika\\adapters\\blocking_connection.py\", line 451, in _create_connection\n",
      "    raise self._reap_last_connection_workflow_error(error)\n",
      "  File \"C:\\Users\\reema\\anaconda3\\Lib\\site-packages\\pika\\adapters\\utils\\selector_ioloop_adapter.py\", line 565, in _resolve\n",
      "    result = socket.getaddrinfo(self._host, self._port, self._family,\n",
      "             ^^^^^^^^^^^^^^^^^^^^^^^^^^^^^^^^^^^^^^^^^^^^^^^^^^^^^^^^\n",
      "  File \"C:\\Users\\reema\\anaconda3\\Lib\\socket.py\", line 962, in getaddrinfo\n",
      "    for res in _socket.getaddrinfo(host, port, family, type, proto, flags):\n",
      "               ^^^^^^^^^^^^^^^^^^^^^^^^^^^^^^^^^^^^^^^^^^^^^^^^^^^^^^^^^^^\n",
      "socket.gaierror: [Errno 11001] getaddrinfo failed\n",
      "Failed to connect or publish message: [Errno 11001] getaddrinfo failed\n"
     ]
    }
   ],
   "source": [
    "# from dbrepo.AmqpClient import AmqpClient\n",
    "\n",
    "# # Define connection parameters\n",
    "# client = AmqpClient(\n",
    "#     broker_host=\"amqp://localhost:5672/dbrepo\",  # RabbitMQ broker host\n",
    "#     username=\"reema\",                         # Your username\n",
    "#     password=\"admin\",                         # Your password\n",
    "# )\n",
    "\n",
    "# # Test publishing a message to verify connection\n",
    "# try:\n",
    "#     client.publish(\n",
    "#         exchange=\"dbrepo\",  # Exchange name\n",
    "#         routing_key=\"dbrepo.database_feed.test\",  # Routing key\n",
    "#         data={'test': 2.4}\n",
    "#     )\n",
    "#     print(\"Message published successfully!\")\n",
    "# except Exception as e:\n",
    "#     print(f\"Failed to connect or publish message: {e}\")\n"
   ]
  },
  {
   "cell_type": "code",
   "execution_count": 10,
   "id": "12026d31-eec8-4962-b3fe-b76d9404c7f1",
   "metadata": {},
   "outputs": [
    {
     "name": "stdout",
     "output_type": "stream",
     "text": [
      "Requirement already satisfied: pymysql in c:\\users\\reema\\anaconda3\\lib\\site-packages (1.1.1)\n"
     ]
    }
   ],
   "source": [
    "!pip install pymysql\n"
   ]
  },
  {
   "cell_type": "code",
   "execution_count": 20,
   "id": "9a7bdcdf-8fa4-443b-96d4-acc4cefec450",
   "metadata": {},
   "outputs": [
    {
     "name": "stdout",
     "output_type": "stream",
     "text": [
      "Connected successfully!\n",
      "<dbrepo.AmqpClient.AmqpClient object at 0x000001C48AA23DD0>\n"
     ]
    }
   ],
   "source": [
    "from dbrepo.AmqpClient import AmqpClient\n",
    "\n",
    "try:\n",
    "    client = AmqpClient(broker_host=\"localhost:3306/iris_classification_jmio\")\n",
    "    print(\"Connected successfully!\")\n",
    "    print(client)\n",
    "\n",
    "except Exception as e:\n",
    "    print(f\"Error connecting to the database: {e}\")\n"
   ]
  },
  {
   "cell_type": "code",
   "execution_count": 22,
   "id": "1139b6fb-22ed-4905-a682-354c59db3e6d",
   "metadata": {},
   "outputs": [
    {
     "name": "stdout",
     "output_type": "stream",
     "text": [
      "Connected successfully!\n"
     ]
    }
   ],
   "source": [
    "from dbrepo.AmqpClient import AmqpClient\n",
    "from dbrepo.RestClient import RestClient\n",
    "\n",
    "import dbrepo\n",
    "\n",
    "try:\n",
    "    client = AmqpClient(broker_host=\"localhost:3306/iris_classification_jmio\", \n",
    "                        username=\"reema\",\n",
    "                        password=\"admin\")\n",
    "    print(\"Connected successfully!\")\n",
    "\n",
    "    # Example query to fetch data\n",
    "    # query = \"SELECT * FROM your_table_name;\"\n",
    "    # result = client.execute_query(query)\n",
    "    # client.\n",
    "\n",
    "    # for row in result:\n",
    "    #     print(row)\n",
    "\n",
    "except Exception as e:\n",
    "    print(f\"Error retrieving data: {e}\")\n"
   ]
  },
  {
   "cell_type": "code",
   "execution_count": 42,
   "id": "bab93b15-d4bf-4463-8eae-631172e83894",
   "metadata": {},
   "outputs": [
    {
     "name": "stdout",
     "output_type": "stream",
     "text": [
      "client created\n"
     ]
    },
    {
     "ename": "ValidationError",
     "evalue": "1 validation error for Result\n  Input should be a valid dictionary or instance of Result [type=model_type, input_value=[{'id': '1', 'sepal_lengt...es': 'Iris-versicolor'}], input_type=list]\n    For further information visit https://errors.pydantic.dev/2.10/v/model_type",
     "output_type": "error",
     "traceback": [
      "\u001b[1;31m---------------------------------------------------------------------------\u001b[0m",
      "\u001b[1;31mValidationError\u001b[0m                           Traceback (most recent call last)",
      "Cell \u001b[1;32mIn[42], line 10\u001b[0m\n\u001b[0;32m      7\u001b[0m client \u001b[38;5;241m=\u001b[39m RestClient(endpoint\u001b[38;5;241m=\u001b[39m\u001b[38;5;124m\"\u001b[39m\u001b[38;5;124mhttp://localhost\u001b[39m\u001b[38;5;124m\"\u001b[39m, username\u001b[38;5;241m=\u001b[39m\u001b[38;5;124m\"\u001b[39m\u001b[38;5;124mreema\u001b[39m\u001b[38;5;124m\"\u001b[39m,\n\u001b[0;32m      8\u001b[0m             password\u001b[38;5;241m=\u001b[39m\u001b[38;5;124m\"\u001b[39m\u001b[38;5;124madmin\u001b[39m\u001b[38;5;124m\"\u001b[39m)\n\u001b[0;32m      9\u001b[0m \u001b[38;5;28mprint\u001b[39m(\u001b[38;5;124m'\u001b[39m\u001b[38;5;124mclient created\u001b[39m\u001b[38;5;124m'\u001b[39m)\n\u001b[1;32m---> 10\u001b[0m response \u001b[38;5;241m=\u001b[39m \u001b[43mclient\u001b[49m\u001b[38;5;241;43m.\u001b[39;49m\u001b[43mget_subset_data\u001b[49m\u001b[43m(\u001b[49m\u001b[43mdatabase_id\u001b[49m\u001b[38;5;241;43m=\u001b[39;49m\u001b[38;5;241;43m1\u001b[39;49m\u001b[43m,\u001b[49m\u001b[43msubset_id\u001b[49m\u001b[38;5;241;43m=\u001b[39;49m\u001b[38;5;241;43m1\u001b[39;49m\u001b[43m \u001b[49m\u001b[43m,\u001b[49m\u001b[43mdf\u001b[49m\u001b[38;5;241;43m=\u001b[39;49m\u001b[38;5;28;43;01mTrue\u001b[39;49;00m\u001b[43m)\u001b[49m\n\u001b[0;32m     11\u001b[0m \u001b[38;5;28mprint\u001b[39m(response)\n",
      "File \u001b[1;32m~\\anaconda3\\Lib\\site-packages\\dbrepo\\RestClient.py:1635\u001b[0m, in \u001b[0;36mRestClient.get_subset_data\u001b[1;34m(self, database_id, subset_id, page, size, df)\u001b[0m\n\u001b[0;32m   1633\u001b[0m \u001b[38;5;28;01mif\u001b[39;00m response\u001b[38;5;241m.\u001b[39mstatus_code \u001b[38;5;241m==\u001b[39m \u001b[38;5;241m200\u001b[39m:\n\u001b[0;32m   1634\u001b[0m     body \u001b[38;5;241m=\u001b[39m response\u001b[38;5;241m.\u001b[39mjson()\n\u001b[1;32m-> 1635\u001b[0m     res \u001b[38;5;241m=\u001b[39m \u001b[43mResult\u001b[49m\u001b[38;5;241;43m.\u001b[39;49m\u001b[43mmodel_validate\u001b[49m\u001b[43m(\u001b[49m\u001b[43mbody\u001b[49m\u001b[43m)\u001b[49m\n\u001b[0;32m   1636\u001b[0m     \u001b[38;5;28;01mif\u001b[39;00m df:\n\u001b[0;32m   1637\u001b[0m         \u001b[38;5;28;01mreturn\u001b[39;00m DataFrame\u001b[38;5;241m.\u001b[39mfrom_records(res\u001b[38;5;241m.\u001b[39mresult)\n",
      "File \u001b[1;32m~\\anaconda3\\Lib\\site-packages\\pydantic\\main.py:627\u001b[0m, in \u001b[0;36mBaseModel.model_validate\u001b[1;34m(cls, obj, strict, from_attributes, context)\u001b[0m\n\u001b[0;32m    625\u001b[0m \u001b[38;5;66;03m# `__tracebackhide__` tells pytest and some other tools to omit this function from tracebacks\u001b[39;00m\n\u001b[0;32m    626\u001b[0m __tracebackhide__ \u001b[38;5;241m=\u001b[39m \u001b[38;5;28;01mTrue\u001b[39;00m\n\u001b[1;32m--> 627\u001b[0m \u001b[38;5;28;01mreturn\u001b[39;00m \u001b[38;5;28;43mcls\u001b[39;49m\u001b[38;5;241;43m.\u001b[39;49m\u001b[43m__pydantic_validator__\u001b[49m\u001b[38;5;241;43m.\u001b[39;49m\u001b[43mvalidate_python\u001b[49m\u001b[43m(\u001b[49m\n\u001b[0;32m    628\u001b[0m \u001b[43m    \u001b[49m\u001b[43mobj\u001b[49m\u001b[43m,\u001b[49m\u001b[43m \u001b[49m\u001b[43mstrict\u001b[49m\u001b[38;5;241;43m=\u001b[39;49m\u001b[43mstrict\u001b[49m\u001b[43m,\u001b[49m\u001b[43m \u001b[49m\u001b[43mfrom_attributes\u001b[49m\u001b[38;5;241;43m=\u001b[39;49m\u001b[43mfrom_attributes\u001b[49m\u001b[43m,\u001b[49m\u001b[43m \u001b[49m\u001b[43mcontext\u001b[49m\u001b[38;5;241;43m=\u001b[39;49m\u001b[43mcontext\u001b[49m\n\u001b[0;32m    629\u001b[0m \u001b[43m\u001b[49m\u001b[43m)\u001b[49m\n",
      "\u001b[1;31mValidationError\u001b[0m: 1 validation error for Result\n  Input should be a valid dictionary or instance of Result [type=model_type, input_value=[{'id': '1', 'sepal_lengt...es': 'Iris-versicolor'}], input_type=list]\n    For further information visit https://errors.pydantic.dev/2.10/v/model_type"
     ]
    }
   ],
   "source": [
    "from dbrepo.RestClient import RestClient\n",
    "from pydantic import BaseModel\n",
    "from typing import List\n",
    "\n",
    "\n",
    "\n",
    "client = RestClient(endpoint=\"http://localhost\", username=\"reema\",\n",
    "            password=\"admin\")\n",
    "print('client created')\n",
    "response = client.get_subset_data(database_id=1,subset_id=1 ,df=True)\n",
    "print(response)\n"
   ]
  },
  {
   "cell_type": "code",
   "execution_count": 63,
   "id": "2383e64d-6f75-47a4-9976-90771afd46e1",
   "metadata": {},
   "outputs": [
    {
     "name": "stdout",
     "output_type": "stream",
     "text": [
      "client created\n",
      "1\n"
     ]
    }
   ],
   "source": [
    "import pandas as pd\n",
    "from dbrepo.RestClient import RestClient\n",
    "import pydantic\n",
    "\n",
    "\n",
    "client = RestClient(endpoint=\"http://localhost\", username=\"reema\", password=\"admin\")\n",
    "print('client created')\n",
    "\n",
    "try:\n",
    "    # Get data as a DataFrame\n",
    "    count = client.get_databases_count()\n",
    "    print(count)\n",
    "\n",
    "except Exception as e:\n",
    "    print(f\"Error retrieving data: {e}\")\n"
   ]
  },
  {
   "cell_type": "code",
   "execution_count": 71,
   "id": "d6bd8c6a-c4ef-4a98-a270-0fcc7691c2b7",
   "metadata": {
    "scrolled": true
   },
   "outputs": [
    {
     "name": "stdout",
     "output_type": "stream",
     "text": [
      "client created\n",
      "Validation errors occurred:\n"
     ]
    },
    {
     "ename": "IndexError",
     "evalue": "tuple index out of range",
     "output_type": "error",
     "traceback": [
      "\u001b[1;31m---------------------------------------------------------------------------\u001b[0m",
      "\u001b[1;31mValidationError\u001b[0m                           Traceback (most recent call last)",
      "Cell \u001b[1;32mIn[71], line 34\u001b[0m\n\u001b[0;32m     26\u001b[0m \u001b[38;5;28;01mtry\u001b[39;00m:\n\u001b[0;32m     27\u001b[0m     \u001b[38;5;66;03m# result_data = ResultWithItems(\u001b[39;00m\n\u001b[0;32m     28\u001b[0m     \u001b[38;5;66;03m#     type=\"model_type\",  # Replace with actual type if available in the response\u001b[39;00m\n\u001b[1;32m   (...)\u001b[0m\n\u001b[0;32m     32\u001b[0m \n\u001b[0;32m     33\u001b[0m     \u001b[38;5;66;03m# Get data from API (assuming df=True returns a list of dictionaries)\u001b[39;00m\n\u001b[1;32m---> 34\u001b[0m     result_data \u001b[38;5;241m=\u001b[39m \u001b[43mclient\u001b[49m\u001b[38;5;241;43m.\u001b[39;49m\u001b[43mget_subset_data\u001b[49m\u001b[43m(\u001b[49m\u001b[43mdatabase_id\u001b[49m\u001b[38;5;241;43m=\u001b[39;49m\u001b[38;5;241;43m1\u001b[39;49m\u001b[43m,\u001b[49m\u001b[43m \u001b[49m\u001b[43msubset_id\u001b[49m\u001b[38;5;241;43m=\u001b[39;49m\u001b[38;5;241;43m1\u001b[39;49m\u001b[43m,\u001b[49m\u001b[43m \u001b[49m\u001b[43mdf\u001b[49m\u001b[38;5;241;43m=\u001b[39;49m\u001b[38;5;28;43;01mTrue\u001b[39;49;00m\u001b[43m)\u001b[49m\n\u001b[0;32m     36\u001b[0m    \u001b[38;5;66;03m# Now populate the input_value list with the API data\u001b[39;00m\n\u001b[0;32m     37\u001b[0m     \u001b[38;5;66;03m# Convert response items into InputValueItem objects\u001b[39;00m\n\u001b[0;32m     38\u001b[0m     \u001b[38;5;66;03m# result_data.input_value = [InputValueItem(**item) for item in response]\u001b[39;00m\n\u001b[0;32m     39\u001b[0m \n\u001b[0;32m     40\u001b[0m     \u001b[38;5;66;03m# If everything is valid, this will return the validated data\u001b[39;00m\n",
      "File \u001b[1;32m~\\anaconda3\\Lib\\site-packages\\dbrepo\\RestClient.py:1635\u001b[0m, in \u001b[0;36mRestClient.get_subset_data\u001b[1;34m(self, database_id, subset_id, page, size, df)\u001b[0m\n\u001b[0;32m   1634\u001b[0m body \u001b[38;5;241m=\u001b[39m response\u001b[38;5;241m.\u001b[39mjson()\n\u001b[1;32m-> 1635\u001b[0m res \u001b[38;5;241m=\u001b[39m \u001b[43mResult\u001b[49m\u001b[38;5;241;43m.\u001b[39;49m\u001b[43mmodel_validate\u001b[49m\u001b[43m(\u001b[49m\u001b[43mbody\u001b[49m\u001b[43m)\u001b[49m\n\u001b[0;32m   1636\u001b[0m \u001b[38;5;28;01mif\u001b[39;00m df:\n",
      "File \u001b[1;32m~\\anaconda3\\Lib\\site-packages\\pydantic\\main.py:627\u001b[0m, in \u001b[0;36mBaseModel.model_validate\u001b[1;34m(cls, obj, strict, from_attributes, context)\u001b[0m\n\u001b[0;32m    626\u001b[0m __tracebackhide__ \u001b[38;5;241m=\u001b[39m \u001b[38;5;28;01mTrue\u001b[39;00m\n\u001b[1;32m--> 627\u001b[0m \u001b[38;5;28;01mreturn\u001b[39;00m \u001b[38;5;28;43mcls\u001b[39;49m\u001b[38;5;241;43m.\u001b[39;49m\u001b[43m__pydantic_validator__\u001b[49m\u001b[38;5;241;43m.\u001b[39;49m\u001b[43mvalidate_python\u001b[49m\u001b[43m(\u001b[49m\n\u001b[0;32m    628\u001b[0m \u001b[43m    \u001b[49m\u001b[43mobj\u001b[49m\u001b[43m,\u001b[49m\u001b[43m \u001b[49m\u001b[43mstrict\u001b[49m\u001b[38;5;241;43m=\u001b[39;49m\u001b[43mstrict\u001b[49m\u001b[43m,\u001b[49m\u001b[43m \u001b[49m\u001b[43mfrom_attributes\u001b[49m\u001b[38;5;241;43m=\u001b[39;49m\u001b[43mfrom_attributes\u001b[49m\u001b[43m,\u001b[49m\u001b[43m \u001b[49m\u001b[43mcontext\u001b[49m\u001b[38;5;241;43m=\u001b[39;49m\u001b[43mcontext\u001b[49m\n\u001b[0;32m    629\u001b[0m \u001b[43m\u001b[49m\u001b[43m)\u001b[49m\n",
      "\u001b[1;31mValidationError\u001b[0m: 1 validation error for Result\n  Input should be a valid dictionary or instance of Result [type=model_type, input_value=[{'id': '1', 'sepal_lengt...es': 'Iris-versicolor'}], input_type=list]\n    For further information visit https://errors.pydantic.dev/2.10/v/model_type",
      "\nDuring handling of the above exception, another exception occurred:\n",
      "\u001b[1;31mIndexError\u001b[0m                                Traceback (most recent call last)",
      "Cell \u001b[1;32mIn[71], line 48\u001b[0m\n\u001b[0;32m     46\u001b[0m     \u001b[38;5;28mprint\u001b[39m(\u001b[38;5;124m\"\u001b[39m\u001b[38;5;124mValidation errors occurred:\u001b[39m\u001b[38;5;124m\"\u001b[39m)\n\u001b[0;32m     47\u001b[0m     \u001b[38;5;28;01mfor\u001b[39;00m error \u001b[38;5;129;01min\u001b[39;00m exc\u001b[38;5;241m.\u001b[39merrors():\n\u001b[1;32m---> 48\u001b[0m         \u001b[38;5;28mprint\u001b[39m(\u001b[38;5;124mf\u001b[39m\u001b[38;5;124m\"\u001b[39m\u001b[38;5;124mField: \u001b[39m\u001b[38;5;132;01m{\u001b[39;00m\u001b[43merror\u001b[49m\u001b[43m[\u001b[49m\u001b[38;5;124;43m'\u001b[39;49m\u001b[38;5;124;43mloc\u001b[39;49m\u001b[38;5;124;43m'\u001b[39;49m\u001b[43m]\u001b[49m\u001b[43m[\u001b[49m\u001b[38;5;241;43m0\u001b[39;49m\u001b[43m]\u001b[49m\u001b[38;5;132;01m}\u001b[39;00m\u001b[38;5;124m, Error: \u001b[39m\u001b[38;5;132;01m{\u001b[39;00m\u001b[38;5;28mrepr\u001b[39m(error[\u001b[38;5;124m'\u001b[39m\u001b[38;5;124mtype\u001b[39m\u001b[38;5;124m'\u001b[39m])\u001b[38;5;132;01m}\u001b[39;00m\u001b[38;5;124m, Message: \u001b[39m\u001b[38;5;132;01m{\u001b[39;00merror\u001b[38;5;241m.\u001b[39mget(\u001b[38;5;124m'\u001b[39m\u001b[38;5;124mmsg\u001b[39m\u001b[38;5;124m'\u001b[39m)\u001b[38;5;132;01m}\u001b[39;00m\u001b[38;5;124m\"\u001b[39m)\n\u001b[0;32m     49\u001b[0m \u001b[38;5;28;01mexcept\u001b[39;00m \u001b[38;5;167;01mException\u001b[39;00m \u001b[38;5;28;01mas\u001b[39;00m e:\n\u001b[0;32m     50\u001b[0m     \u001b[38;5;28mprint\u001b[39m(\u001b[38;5;124mf\u001b[39m\u001b[38;5;124m\"\u001b[39m\u001b[38;5;124mError retrieving data: \u001b[39m\u001b[38;5;132;01m{\u001b[39;00me\u001b[38;5;132;01m}\u001b[39;00m\u001b[38;5;124m\"\u001b[39m)\n",
      "\u001b[1;31mIndexError\u001b[0m: tuple index out of range"
     ]
    }
   ],
   "source": [
    "from pydantic import BaseModel\n",
    "from typing import List\n",
    "from dbrepo.RestClient import RestClient\n",
    "\n",
    "# Define the dictionary structure for the input_value with constraints\n",
    "class InputValueItem(BaseModel):\n",
    "    id: int = Field(..., ge=1)  # id must be greater than or equal to 1\n",
    "    sepal_length: float = Field(..., ge=0)  # sepal_length must be a non-negative number\n",
    "    sepal_width: float = Field(..., ge=0)  # sepal_width must be a non-negative number\n",
    "    petal_length: float = Field(..., ge=0)  # petal_length must be a non-negative number\n",
    "    petal_width: float = Field(..., ge=0)  # petal_width must be a non-negative number\n",
    "    species: str = Field(..., min_length=3)  # species must have a minimum length of 3 characters\n",
    "\n",
    "\n",
    "# Define the model for the list of InputValueItem\n",
    "class ResultWithItems(BaseModel):\n",
    "    type: str ='data'\n",
    "    input_type: str ='data'\n",
    "    input_value: List[InputValueItem]\n",
    "\n",
    "        \n",
    "# Handling the API response\n",
    "client = RestClient(endpoint=\"http://localhost\", username=\"reema\", password=\"admin\")\n",
    "print('client created')\n",
    "\n",
    "try:\n",
    "    # result_data = ResultWithItems(\n",
    "    #     type=\"model_type\",  # Replace with actual type if available in the response\n",
    "    #     input_type=\"list\",  # Replace with actual input_type if available\n",
    "    #     input_value=[]  # Start with an empty list\n",
    "    # )\n",
    "\n",
    "    # Get data from API (assuming df=True returns a list of dictionaries)\n",
    "    result_data = client.get_subset_data(database_id=1, subset_id=1, df=True)\n",
    "\n",
    "   # Now populate the input_value list with the API data\n",
    "    # Convert response items into InputValueItem objects\n",
    "    # result_data.input_value = [InputValueItem(**item) for item in response]\n",
    "\n",
    "    # If everything is valid, this will return the validated data\n",
    "    print(\"Valid results:\", result_data)\n",
    "    print(result_data.input_value)  # Print the list of InputValueItem objects\n",
    "\n",
    "except ValidationError as exc:\n",
    "    # If validation fails, print the validation errors\n",
    "    print(\"Validation errors occurred:\")\n",
    "    for error in exc.errors():\n",
    "        print(f\"Field: {error['loc'][0]}, Error: {repr(error['type'])}, Message: {error.get('msg')}\")\n",
    "except Exception as e:\n",
    "    print(f\"Error retrieving data: {e}\")"
   ]
  },
  {
   "cell_type": "code",
   "execution_count": 50,
   "id": "06efea0a-b3ad-42a1-9b52-8f245a6c7f96",
   "metadata": {},
   "outputs": [
    {
     "name": "stdout",
     "output_type": "stream",
     "text": [
      "client created\n",
      "Error retrieving data: 1 validation error for Result\n",
      "  Input should be a valid dictionary or instance of Result [type=model_type, input_value=[{'id': '1', 'sepal_lengt...es': 'Iris-versicolor'}], input_type=list]\n",
      "    For further information visit https://errors.pydantic.dev/2.10/v/model_type\n"
     ]
    }
   ],
   "source": [
    "# from pydantic import BaseModel\n",
    "# from typing import List\n",
    "# from dbrepo.RestClient import RestClient\n",
    "\n",
    "# # Define your Result model\n",
    "# class Result(BaseModel):\n",
    "#     type:str\n",
    "#     input_value=[{\n",
    "#         id: int\n",
    "#         sepal_length: float\n",
    "#         sepal_width: float\n",
    "#         petal_length: float\n",
    "#         petal_width: float\n",
    "#         species: str\n",
    "#     }]\n",
    "#         input_type:str\n",
    "# # Define a model for the response that will be a list of Result\n",
    "# # class ResultList(BaseModel):\n",
    "# #     results: List[Result]\n",
    "\n",
    "# # Handling the API response\n",
    "# client = RestClient(endpoint=\"http://localhost\", username=\"reema\", password=\"admin\")\n",
    "# print('client created')\n",
    "\n",
    "# try:\n",
    "#     # Get data from the client\n",
    "#     response_data = client.get_subset_data(database_id=1, subset_id=1)\n",
    "    \n",
    "#     # Check if the response is a list of dictionaries\n",
    "#     if isinstance(response_data, list):\n",
    "#         # Create an instance of ResultList by passing the list of dictionaries directly\n",
    "#         result_list = ResultList(results=[Result(**item) for item in response_data])\n",
    "        \n",
    "#         # Now result_list contains a validated list of Result objects\n",
    "#         print(\"Valid results:\", result_list)\n",
    "#         print(result_list.results)  # Print the list of Result objects\n",
    "\n",
    "#     else:\n",
    "#         print(\"Received response is not a list. Actual type:\", type(response_data))\n",
    "    \n",
    "# except Exception as e:\n",
    "#     print(f\"Error retrieving data: {e}\")\n"
   ]
  },
  {
   "cell_type": "code",
   "execution_count": 65,
   "id": "d0fb3e3a-074f-4caf-b695-eadfa3d9255e",
   "metadata": {},
   "outputs": [
    {
     "name": "stdout",
     "output_type": "stream",
     "text": [
      "Validation errors occurred:\n",
      "Field: input_value, Error: 'greater_than_equal', Message: Input should be greater than or equal to 0\n",
      "Field: input_value, Error: 'greater_than_equal', Message: Input should be greater than or equal to 0\n"
     ]
    }
   ],
   "source": [
    "from pydantic import BaseModel, Field, ValidationError\n",
    "from typing import List\n",
    "\n",
    "\n",
    "\n",
    "# Define the dictionary structure for the input_value with constraints\n",
    "class InputValueItem(BaseModel):\n",
    "    id: int = Field(..., ge=1)  # id must be greater than or equal to 1\n",
    "    sepal_length: float = Field(..., ge=0)  # sepal_length must be a non-negative number\n",
    "    sepal_width: float = Field(..., ge=0)  # sepal_width must be a non-negative number\n",
    "    petal_length: float = Field(..., ge=0)  # petal_length must be a non-negative number\n",
    "    petal_width: float = Field(..., ge=0)  # petal_width must be a non-negative number\n",
    "    species: str = Field(..., min_length=3)  # species must have a minimum length of 3 characters\n",
    "\n",
    "\n",
    "# Define the model for the list of InputValueItem\n",
    "class ResultWithItems(BaseModel):\n",
    "    type: str\n",
    "    input_type: str\n",
    "    input_value: List[InputValueItem]\n",
    "\n",
    "# Test the model with validation error handling\n",
    "try:\n",
    "    # Trying to create an instance of ResultWithItems with invalid data\n",
    "    result_data = ResultWithItems(\n",
    "        type=\"model_type\",\n",
    "        input_type=\"list\",\n",
    "        input_value=[\n",
    "            {\"id\": 1, \"sepal_length\": -5.0, \"sepal_width\": 2.0, \"petal_length\": 3.0, \"petal_width\": 4.0, \"species\": \"Setosa\"},\n",
    "            {\"id\": 2, \"sepal_length\": 4.0, \"sepal_width\": -1.0, \"petal_length\": 3.0, \"petal_width\": 4.0, \"species\": \"Versicolor\"}\n",
    "        ]\n",
    "    )\n",
    "except ValidationError as exc:\n",
    "    # Handle the validation error\n",
    "    print(\"Validation errors occurred:\")\n",
    "    for error in exc.errors():\n",
    "        print(f\"Field: {error['loc'][0]}, Error: {repr(error['type'])}, Message: {error.get('msg')}\")\n"
   ]
  },
  {
   "cell_type": "code",
   "execution_count": 89,
   "id": "5c0ce080-f0eb-4b6a-bd3e-deb79b6f6123",
   "metadata": {},
   "outputs": [
    {
     "name": "stdout",
     "output_type": "stream",
     "text": [
      "client created\n",
      "Error retrieving data: 1 validation error for Result\n",
      "  Input should be a valid dictionary or instance of Result [type=model_type, input_value=[{'id': '1', 'sepal_lengt...es': 'Iris-versicolor'}], input_type=list]\n",
      "    For further information visit https://errors.pydantic.dev/2.10/v/model_type\n"
     ]
    }
   ],
   "source": [
    "from pydantic import BaseModel, ValidationError\n",
    "from typing import List\n",
    "from dbrepo.RestClient import RestClient\n",
    "\n",
    "# Define your Pydantic models\n",
    "class InputValueItem(BaseModel):\n",
    "    id: int\n",
    "    sepal_length: float\n",
    "    sepal_width: float\n",
    "    petal_length: float\n",
    "    petal_width: float\n",
    "    species: str\n",
    "\n",
    "class ResultWithItems(BaseModel):\n",
    "    input_value: List[InputValueItem]\n",
    "\n",
    "# Initialize the RestClient\n",
    "client = RestClient(endpoint=\"http://localhost\", username=\"reema\", password=\"admin\")\n",
    "print('client created')\n",
    "\n",
    "try:\n",
    "    # Fetch data from the API\n",
    "    df = client.get_subset_data(database_id=1, subset_id=1, df=False)\n",
    "    \n",
    "    # Print raw response to check if it's what you expect\n",
    "    print(\"Raw API response:\", df)\n",
    "    \n",
    "    # Check if the response is a list (expected data structure)\n",
    "    if isinstance(df, list):\n",
    "        try:\n",
    "            # Print the first element of the response to inspect its structure\n",
    "            print(\"First item in response:\", df[0])\n",
    "\n",
    "            # Assuming the response is a list of dictionaries, map each item to InputValueItem\n",
    "            result_data = ResultWithItems(\n",
    "                input_value=[InputValueItem(**item) for item in df]  # Create instances of InputValueItem\n",
    "            )\n",
    "            print(\"Validated result data:\", result_data)\n",
    "        except ValidationError as e:\n",
    "            print(f\"Validation error: {e}\")\n",
    "    else:\n",
    "        print(\"API response is not in the expected list format.\")\n",
    "        \n",
    "except Exception as e:\n",
    "    print(f\"Error retrieving data: {e}\")\n"
   ]
  },
  {
   "cell_type": "code",
   "execution_count": 90,
   "id": "8746eda5-9230-4ad4-9299-e6169b232c1c",
   "metadata": {},
   "outputs": [
    {
     "name": "stdout",
     "output_type": "stream",
     "text": [
      "API Response: [{'id': '1', 'sepal_length': '5.100000000000000000', 'sepal_width': '3.500000000000000000', 'petal_length': '1.400000000000000000', 'petal_width': '0.200000000000000000', 'species': 'Iris-setosa'}, {'id': '2', 'sepal_length': '4.900000000000000000', 'sepal_width': '3.000000000000000000', 'petal_length': '1.400000000000000000', 'petal_width': '0.200000000000000000', 'species': 'Iris-setosa'}, {'id': '3', 'sepal_length': '4.700000000000000000', 'sepal_width': '3.200000000000000000', 'petal_length': '1.300000000000000000', 'petal_width': '0.200000000000000000', 'species': 'Iris-setosa'}, {'id': '4', 'sepal_length': '4.600000000000000000', 'sepal_width': '3.100000000000000000', 'petal_length': '1.500000000000000000', 'petal_width': '0.200000000000000000', 'species': 'Iris-setosa'}, {'id': '5', 'sepal_length': '5.000000000000000000', 'sepal_width': '3.600000000000000000', 'petal_length': '1.400000000000000000', 'petal_width': '0.200000000000000000', 'species': 'Iris-setosa'}, {'id': '6', 'sepal_length': '5.400000000000000000', 'sepal_width': '3.900000000000000000', 'petal_length': '1.700000000000000000', 'petal_width': '0.400000000000000000', 'species': 'Iris-setosa'}, {'id': '7', 'sepal_length': '4.600000000000000000', 'sepal_width': '3.400000000000000000', 'petal_length': '1.400000000000000000', 'petal_width': '0.300000000000000000', 'species': 'Iris-setosa'}, {'id': '8', 'sepal_length': '5.000000000000000000', 'sepal_width': '3.400000000000000000', 'petal_length': '1.500000000000000000', 'petal_width': '0.200000000000000000', 'species': 'Iris-setosa'}, {'id': '9', 'sepal_length': '4.400000000000000000', 'sepal_width': '2.900000000000000000', 'petal_length': '1.400000000000000000', 'petal_width': '0.200000000000000000', 'species': 'Iris-setosa'}, {'id': '10', 'sepal_length': '4.900000000000000000', 'sepal_width': '3.100000000000000000', 'petal_length': '1.500000000000000000', 'petal_width': '0.100000000000000000', 'species': 'Iris-setosa'}, {'id': '11', 'sepal_length': '5.400000000000000000', 'sepal_width': '3.700000000000000000', 'petal_length': '1.500000000000000000', 'petal_width': '0.200000000000000000', 'species': 'Iris-setosa'}, {'id': '12', 'sepal_length': '4.800000000000000000', 'sepal_width': '3.400000000000000000', 'petal_length': '1.600000000000000000', 'petal_width': '0.200000000000000000', 'species': 'Iris-setosa'}, {'id': '13', 'sepal_length': '4.800000000000000000', 'sepal_width': '3.000000000000000000', 'petal_length': '1.400000000000000000', 'petal_width': '0.100000000000000000', 'species': 'Iris-setosa'}, {'id': '14', 'sepal_length': '4.300000000000000000', 'sepal_width': '3.000000000000000000', 'petal_length': '1.100000000000000000', 'petal_width': '0.100000000000000000', 'species': 'Iris-setosa'}, {'id': '15', 'sepal_length': '5.800000000000000000', 'sepal_width': '4.000000000000000000', 'petal_length': '1.200000000000000000', 'petal_width': '0.200000000000000000', 'species': 'Iris-setosa'}, {'id': '16', 'sepal_length': '5.700000000000000000', 'sepal_width': '4.400000000000000000', 'petal_length': '1.500000000000000000', 'petal_width': '0.400000000000000000', 'species': 'Iris-setosa'}, {'id': '17', 'sepal_length': '5.400000000000000000', 'sepal_width': '3.900000000000000000', 'petal_length': '1.300000000000000000', 'petal_width': '0.400000000000000000', 'species': 'Iris-setosa'}, {'id': '18', 'sepal_length': '5.100000000000000000', 'sepal_width': '3.500000000000000000', 'petal_length': '1.400000000000000000', 'petal_width': '0.300000000000000000', 'species': 'Iris-setosa'}, {'id': '19', 'sepal_length': '5.700000000000000000', 'sepal_width': '3.800000000000000000', 'petal_length': '1.700000000000000000', 'petal_width': '0.300000000000000000', 'species': 'Iris-setosa'}, {'id': '20', 'sepal_length': '5.100000000000000000', 'sepal_width': '3.800000000000000000', 'petal_length': '1.500000000000000000', 'petal_width': '0.300000000000000000', 'species': 'Iris-setosa'}, {'id': '21', 'sepal_length': '5.400000000000000000', 'sepal_width': '3.400000000000000000', 'petal_length': '1.700000000000000000', 'petal_width': '0.200000000000000000', 'species': 'Iris-setosa'}, {'id': '22', 'sepal_length': '5.100000000000000000', 'sepal_width': '3.700000000000000000', 'petal_length': '1.500000000000000000', 'petal_width': '0.400000000000000000', 'species': 'Iris-setosa'}, {'id': '23', 'sepal_length': '4.600000000000000000', 'sepal_width': '3.600000000000000000', 'petal_length': '1.000000000000000000', 'petal_width': '0.200000000000000000', 'species': 'Iris-setosa'}, {'id': '24', 'sepal_length': '5.100000000000000000', 'sepal_width': '3.300000000000000000', 'petal_length': '1.700000000000000000', 'petal_width': '0.500000000000000000', 'species': 'Iris-setosa'}, {'id': '25', 'sepal_length': '4.800000000000000000', 'sepal_width': '3.400000000000000000', 'petal_length': '1.900000000000000000', 'petal_width': '0.200000000000000000', 'species': 'Iris-setosa'}, {'id': '26', 'sepal_length': '5.000000000000000000', 'sepal_width': '3.000000000000000000', 'petal_length': '1.600000000000000000', 'petal_width': '0.200000000000000000', 'species': 'Iris-setosa'}, {'id': '27', 'sepal_length': '5.000000000000000000', 'sepal_width': '3.400000000000000000', 'petal_length': '1.600000000000000000', 'petal_width': '0.400000000000000000', 'species': 'Iris-setosa'}, {'id': '28', 'sepal_length': '5.200000000000000000', 'sepal_width': '3.500000000000000000', 'petal_length': '1.500000000000000000', 'petal_width': '0.200000000000000000', 'species': 'Iris-setosa'}, {'id': '29', 'sepal_length': '5.200000000000000000', 'sepal_width': '3.400000000000000000', 'petal_length': '1.400000000000000000', 'petal_width': '0.200000000000000000', 'species': 'Iris-setosa'}, {'id': '30', 'sepal_length': '4.700000000000000000', 'sepal_width': '3.200000000000000000', 'petal_length': '1.600000000000000000', 'petal_width': '0.200000000000000000', 'species': 'Iris-setosa'}, {'id': '31', 'sepal_length': '4.800000000000000000', 'sepal_width': '3.100000000000000000', 'petal_length': '1.600000000000000000', 'petal_width': '0.200000000000000000', 'species': 'Iris-setosa'}, {'id': '32', 'sepal_length': '5.400000000000000000', 'sepal_width': '3.400000000000000000', 'petal_length': '1.500000000000000000', 'petal_width': '0.400000000000000000', 'species': 'Iris-setosa'}, {'id': '33', 'sepal_length': '5.200000000000000000', 'sepal_width': '4.100000000000000000', 'petal_length': '1.500000000000000000', 'petal_width': '0.100000000000000000', 'species': 'Iris-setosa'}, {'id': '34', 'sepal_length': '5.500000000000000000', 'sepal_width': '4.200000000000000000', 'petal_length': '1.400000000000000000', 'petal_width': '0.200000000000000000', 'species': 'Iris-setosa'}, {'id': '35', 'sepal_length': '4.900000000000000000', 'sepal_width': '3.100000000000000000', 'petal_length': '1.500000000000000000', 'petal_width': '0.100000000000000000', 'species': 'Iris-setosa'}, {'id': '36', 'sepal_length': '5.000000000000000000', 'sepal_width': '3.200000000000000000', 'petal_length': '1.200000000000000000', 'petal_width': '0.200000000000000000', 'species': 'Iris-setosa'}, {'id': '37', 'sepal_length': '5.500000000000000000', 'sepal_width': '3.500000000000000000', 'petal_length': '1.300000000000000000', 'petal_width': '0.200000000000000000', 'species': 'Iris-setosa'}, {'id': '38', 'sepal_length': '4.900000000000000000', 'sepal_width': '3.100000000000000000', 'petal_length': '1.500000000000000000', 'petal_width': '0.100000000000000000', 'species': 'Iris-setosa'}, {'id': '39', 'sepal_length': '4.400000000000000000', 'sepal_width': '3.000000000000000000', 'petal_length': '1.300000000000000000', 'petal_width': '0.200000000000000000', 'species': 'Iris-setosa'}, {'id': '40', 'sepal_length': '5.100000000000000000', 'sepal_width': '3.400000000000000000', 'petal_length': '1.500000000000000000', 'petal_width': '0.200000000000000000', 'species': 'Iris-setosa'}, {'id': '41', 'sepal_length': '5.000000000000000000', 'sepal_width': '3.500000000000000000', 'petal_length': '1.300000000000000000', 'petal_width': '0.300000000000000000', 'species': 'Iris-setosa'}, {'id': '42', 'sepal_length': '4.500000000000000000', 'sepal_width': '2.300000000000000000', 'petal_length': '1.300000000000000000', 'petal_width': '0.300000000000000000', 'species': 'Iris-setosa'}, {'id': '43', 'sepal_length': '4.400000000000000000', 'sepal_width': '3.200000000000000000', 'petal_length': '1.300000000000000000', 'petal_width': '0.200000000000000000', 'species': 'Iris-setosa'}, {'id': '44', 'sepal_length': '5.000000000000000000', 'sepal_width': '3.500000000000000000', 'petal_length': '1.600000000000000000', 'petal_width': '0.600000000000000000', 'species': 'Iris-setosa'}, {'id': '45', 'sepal_length': '5.100000000000000000', 'sepal_width': '3.800000000000000000', 'petal_length': '1.900000000000000000', 'petal_width': '0.400000000000000000', 'species': 'Iris-setosa'}, {'id': '46', 'sepal_length': '4.800000000000000000', 'sepal_width': '3.000000000000000000', 'petal_length': '1.400000000000000000', 'petal_width': '0.300000000000000000', 'species': 'Iris-setosa'}, {'id': '47', 'sepal_length': '5.100000000000000000', 'sepal_width': '3.800000000000000000', 'petal_length': '1.600000000000000000', 'petal_width': '0.200000000000000000', 'species': 'Iris-setosa'}, {'id': '48', 'sepal_length': '4.600000000000000000', 'sepal_width': '3.200000000000000000', 'petal_length': '1.400000000000000000', 'petal_width': '0.200000000000000000', 'species': 'Iris-setosa'}, {'id': '49', 'sepal_length': '5.300000000000000000', 'sepal_width': '3.700000000000000000', 'petal_length': '1.500000000000000000', 'petal_width': '0.200000000000000000', 'species': 'Iris-setosa'}, {'id': '50', 'sepal_length': '5.000000000000000000', 'sepal_width': '3.300000000000000000', 'petal_length': '1.400000000000000000', 'petal_width': '0.200000000000000000', 'species': 'Iris-setosa'}, {'id': '51', 'sepal_length': '7.000000000000000000', 'sepal_width': '3.200000000000000000', 'petal_length': '4.700000000000000000', 'petal_width': '1.400000000000000000', 'species': 'Iris-versicolor'}, {'id': '52', 'sepal_length': '6.400000000000000000', 'sepal_width': '3.200000000000000000', 'petal_length': '4.500000000000000000', 'petal_width': '1.500000000000000000', 'species': 'Iris-versicolor'}, {'id': '53', 'sepal_length': '6.900000000000000000', 'sepal_width': '3.100000000000000000', 'petal_length': '4.900000000000000000', 'petal_width': '1.500000000000000000', 'species': 'Iris-versicolor'}, {'id': '54', 'sepal_length': '5.500000000000000000', 'sepal_width': '2.300000000000000000', 'petal_length': '4.000000000000000000', 'petal_width': '1.300000000000000000', 'species': 'Iris-versicolor'}, {'id': '55', 'sepal_length': '6.500000000000000000', 'sepal_width': '2.800000000000000000', 'petal_length': '4.600000000000000000', 'petal_width': '1.500000000000000000', 'species': 'Iris-versicolor'}, {'id': '56', 'sepal_length': '5.700000000000000000', 'sepal_width': '2.800000000000000000', 'petal_length': '4.500000000000000000', 'petal_width': '1.300000000000000000', 'species': 'Iris-versicolor'}, {'id': '57', 'sepal_length': '6.300000000000000000', 'sepal_width': '3.300000000000000000', 'petal_length': '4.700000000000000000', 'petal_width': '1.600000000000000000', 'species': 'Iris-versicolor'}, {'id': '58', 'sepal_length': '4.900000000000000000', 'sepal_width': '2.400000000000000000', 'petal_length': '3.300000000000000000', 'petal_width': '1.000000000000000000', 'species': 'Iris-versicolor'}, {'id': '59', 'sepal_length': '6.600000000000000000', 'sepal_width': '2.900000000000000000', 'petal_length': '4.600000000000000000', 'petal_width': '1.300000000000000000', 'species': 'Iris-versicolor'}, {'id': '60', 'sepal_length': '5.200000000000000000', 'sepal_width': '2.700000000000000000', 'petal_length': '3.900000000000000000', 'petal_width': '1.400000000000000000', 'species': 'Iris-versicolor'}, {'id': '61', 'sepal_length': '5.000000000000000000', 'sepal_width': '2.000000000000000000', 'petal_length': '3.500000000000000000', 'petal_width': '1.000000000000000000', 'species': 'Iris-versicolor'}, {'id': '62', 'sepal_length': '5.900000000000000000', 'sepal_width': '3.000000000000000000', 'petal_length': '4.200000000000000000', 'petal_width': '1.500000000000000000', 'species': 'Iris-versicolor'}, {'id': '63', 'sepal_length': '6.000000000000000000', 'sepal_width': '2.200000000000000000', 'petal_length': '4.000000000000000000', 'petal_width': '1.000000000000000000', 'species': 'Iris-versicolor'}, {'id': '64', 'sepal_length': '6.100000000000000000', 'sepal_width': '2.900000000000000000', 'petal_length': '4.700000000000000000', 'petal_width': '1.400000000000000000', 'species': 'Iris-versicolor'}, {'id': '65', 'sepal_length': '5.600000000000000000', 'sepal_width': '2.900000000000000000', 'petal_length': '3.600000000000000000', 'petal_width': '1.300000000000000000', 'species': 'Iris-versicolor'}, {'id': '66', 'sepal_length': '6.700000000000000000', 'sepal_width': '3.100000000000000000', 'petal_length': '4.400000000000000000', 'petal_width': '1.400000000000000000', 'species': 'Iris-versicolor'}, {'id': '67', 'sepal_length': '5.600000000000000000', 'sepal_width': '3.000000000000000000', 'petal_length': '4.500000000000000000', 'petal_width': '1.500000000000000000', 'species': 'Iris-versicolor'}, {'id': '68', 'sepal_length': '5.800000000000000000', 'sepal_width': '2.700000000000000000', 'petal_length': '4.100000000000000000', 'petal_width': '1.000000000000000000', 'species': 'Iris-versicolor'}, {'id': '69', 'sepal_length': '6.200000000000000000', 'sepal_width': '2.200000000000000000', 'petal_length': '4.500000000000000000', 'petal_width': '1.500000000000000000', 'species': 'Iris-versicolor'}, {'id': '70', 'sepal_length': '5.600000000000000000', 'sepal_width': '2.500000000000000000', 'petal_length': '3.900000000000000000', 'petal_width': '1.100000000000000000', 'species': 'Iris-versicolor'}, {'id': '71', 'sepal_length': '5.900000000000000000', 'sepal_width': '3.200000000000000000', 'petal_length': '4.800000000000000000', 'petal_width': '1.800000000000000000', 'species': 'Iris-versicolor'}, {'id': '72', 'sepal_length': '6.100000000000000000', 'sepal_width': '2.800000000000000000', 'petal_length': '4.000000000000000000', 'petal_width': '1.300000000000000000', 'species': 'Iris-versicolor'}, {'id': '73', 'sepal_length': '6.300000000000000000', 'sepal_width': '2.500000000000000000', 'petal_length': '4.900000000000000000', 'petal_width': '1.500000000000000000', 'species': 'Iris-versicolor'}, {'id': '74', 'sepal_length': '6.100000000000000000', 'sepal_width': '2.800000000000000000', 'petal_length': '4.700000000000000000', 'petal_width': '1.200000000000000000', 'species': 'Iris-versicolor'}, {'id': '75', 'sepal_length': '6.400000000000000000', 'sepal_width': '2.900000000000000000', 'petal_length': '4.300000000000000000', 'petal_width': '1.300000000000000000', 'species': 'Iris-versicolor'}, {'id': '76', 'sepal_length': '6.600000000000000000', 'sepal_width': '3.000000000000000000', 'petal_length': '4.400000000000000000', 'petal_width': '1.400000000000000000', 'species': 'Iris-versicolor'}, {'id': '77', 'sepal_length': '6.800000000000000000', 'sepal_width': '2.800000000000000000', 'petal_length': '4.800000000000000000', 'petal_width': '1.400000000000000000', 'species': 'Iris-versicolor'}, {'id': '78', 'sepal_length': '6.700000000000000000', 'sepal_width': '3.000000000000000000', 'petal_length': '5.000000000000000000', 'petal_width': '1.700000000000000000', 'species': 'Iris-versicolor'}, {'id': '79', 'sepal_length': '6.000000000000000000', 'sepal_width': '2.900000000000000000', 'petal_length': '4.500000000000000000', 'petal_width': '1.500000000000000000', 'species': 'Iris-versicolor'}, {'id': '80', 'sepal_length': '5.700000000000000000', 'sepal_width': '2.600000000000000000', 'petal_length': '3.500000000000000000', 'petal_width': '1.000000000000000000', 'species': 'Iris-versicolor'}, {'id': '81', 'sepal_length': '5.500000000000000000', 'sepal_width': '2.400000000000000000', 'petal_length': '3.800000000000000000', 'petal_width': '1.100000000000000000', 'species': 'Iris-versicolor'}, {'id': '82', 'sepal_length': '5.500000000000000000', 'sepal_width': '2.400000000000000000', 'petal_length': '3.700000000000000000', 'petal_width': '1.000000000000000000', 'species': 'Iris-versicolor'}, {'id': '83', 'sepal_length': '5.800000000000000000', 'sepal_width': '2.700000000000000000', 'petal_length': '3.900000000000000000', 'petal_width': '1.200000000000000000', 'species': 'Iris-versicolor'}, {'id': '84', 'sepal_length': '6.000000000000000000', 'sepal_width': '2.700000000000000000', 'petal_length': '5.100000000000000000', 'petal_width': '1.600000000000000000', 'species': 'Iris-versicolor'}, {'id': '85', 'sepal_length': '5.400000000000000000', 'sepal_width': '3.000000000000000000', 'petal_length': '4.500000000000000000', 'petal_width': '1.500000000000000000', 'species': 'Iris-versicolor'}, {'id': '86', 'sepal_length': '6.000000000000000000', 'sepal_width': '3.400000000000000000', 'petal_length': '4.500000000000000000', 'petal_width': '1.600000000000000000', 'species': 'Iris-versicolor'}, {'id': '87', 'sepal_length': '6.700000000000000000', 'sepal_width': '3.100000000000000000', 'petal_length': '4.700000000000000000', 'petal_width': '1.500000000000000000', 'species': 'Iris-versicolor'}, {'id': '88', 'sepal_length': '6.300000000000000000', 'sepal_width': '2.300000000000000000', 'petal_length': '4.400000000000000000', 'petal_width': '1.300000000000000000', 'species': 'Iris-versicolor'}, {'id': '89', 'sepal_length': '5.600000000000000000', 'sepal_width': '3.000000000000000000', 'petal_length': '4.100000000000000000', 'petal_width': '1.300000000000000000', 'species': 'Iris-versicolor'}, {'id': '90', 'sepal_length': '5.500000000000000000', 'sepal_width': '2.500000000000000000', 'petal_length': '4.000000000000000000', 'petal_width': '1.300000000000000000', 'species': 'Iris-versicolor'}, {'id': '91', 'sepal_length': '5.500000000000000000', 'sepal_width': '2.600000000000000000', 'petal_length': '4.400000000000000000', 'petal_width': '1.200000000000000000', 'species': 'Iris-versicolor'}, {'id': '92', 'sepal_length': '6.100000000000000000', 'sepal_width': '3.000000000000000000', 'petal_length': '4.600000000000000000', 'petal_width': '1.400000000000000000', 'species': 'Iris-versicolor'}, {'id': '93', 'sepal_length': '5.800000000000000000', 'sepal_width': '2.600000000000000000', 'petal_length': '4.000000000000000000', 'petal_width': '1.200000000000000000', 'species': 'Iris-versicolor'}, {'id': '94', 'sepal_length': '5.000000000000000000', 'sepal_width': '2.300000000000000000', 'petal_length': '3.300000000000000000', 'petal_width': '1.000000000000000000', 'species': 'Iris-versicolor'}, {'id': '95', 'sepal_length': '5.600000000000000000', 'sepal_width': '2.700000000000000000', 'petal_length': '4.200000000000000000', 'petal_width': '1.300000000000000000', 'species': 'Iris-versicolor'}, {'id': '96', 'sepal_length': '5.700000000000000000', 'sepal_width': '3.000000000000000000', 'petal_length': '4.200000000000000000', 'petal_width': '1.200000000000000000', 'species': 'Iris-versicolor'}, {'id': '97', 'sepal_length': '5.700000000000000000', 'sepal_width': '2.900000000000000000', 'petal_length': '4.200000000000000000', 'petal_width': '1.300000000000000000', 'species': 'Iris-versicolor'}, {'id': '98', 'sepal_length': '6.200000000000000000', 'sepal_width': '2.900000000000000000', 'petal_length': '4.300000000000000000', 'petal_width': '1.300000000000000000', 'species': 'Iris-versicolor'}, {'id': '99', 'sepal_length': '5.100000000000000000', 'sepal_width': '2.500000000000000000', 'petal_length': '3.000000000000000000', 'petal_width': '1.100000000000000000', 'species': 'Iris-versicolor'}, {'id': '100', 'sepal_length': '5.700000000000000000', 'sepal_width': '2.800000000000000000', 'petal_length': '4.100000000000000000', 'petal_width': '1.300000000000000000', 'species': 'Iris-versicolor'}, {'id': '101', 'sepal_length': '6.300000000000000000', 'sepal_width': '3.300000000000000000', 'petal_length': '6.000000000000000000', 'petal_width': '2.500000000000000000', 'species': 'Iris-virginica'}, {'id': '102', 'sepal_length': '5.800000000000000000', 'sepal_width': '2.700000000000000000', 'petal_length': '5.100000000000000000', 'petal_width': '1.900000000000000000', 'species': 'Iris-virginica'}, {'id': '103', 'sepal_length': '7.100000000000000000', 'sepal_width': '3.000000000000000000', 'petal_length': '5.900000000000000000', 'petal_width': '2.100000000000000000', 'species': 'Iris-virginica'}, {'id': '104', 'sepal_length': '6.300000000000000000', 'sepal_width': '2.900000000000000000', 'petal_length': '5.600000000000000000', 'petal_width': '1.800000000000000000', 'species': 'Iris-virginica'}, {'id': '105', 'sepal_length': '6.500000000000000000', 'sepal_width': '3.000000000000000000', 'petal_length': '5.800000000000000000', 'petal_width': '2.200000000000000000', 'species': 'Iris-virginica'}, {'id': '106', 'sepal_length': '7.600000000000000000', 'sepal_width': '3.000000000000000000', 'petal_length': '6.600000000000000000', 'petal_width': '2.100000000000000000', 'species': 'Iris-virginica'}, {'id': '107', 'sepal_length': '4.900000000000000000', 'sepal_width': '2.500000000000000000', 'petal_length': '4.500000000000000000', 'petal_width': '1.700000000000000000', 'species': 'Iris-virginica'}, {'id': '108', 'sepal_length': '7.300000000000000000', 'sepal_width': '2.900000000000000000', 'petal_length': '6.300000000000000000', 'petal_width': '1.800000000000000000', 'species': 'Iris-virginica'}, {'id': '109', 'sepal_length': '6.700000000000000000', 'sepal_width': '2.500000000000000000', 'petal_length': '5.800000000000000000', 'petal_width': '1.800000000000000000', 'species': 'Iris-virginica'}, {'id': '110', 'sepal_length': '7.200000000000000000', 'sepal_width': '3.600000000000000000', 'petal_length': '6.100000000000000000', 'petal_width': '2.500000000000000000', 'species': 'Iris-virginica'}, {'id': '111', 'sepal_length': '6.500000000000000000', 'sepal_width': '3.200000000000000000', 'petal_length': '5.100000000000000000', 'petal_width': '2.000000000000000000', 'species': 'Iris-virginica'}, {'id': '112', 'sepal_length': '6.400000000000000000', 'sepal_width': '2.700000000000000000', 'petal_length': '5.300000000000000000', 'petal_width': '1.900000000000000000', 'species': 'Iris-virginica'}, {'id': '113', 'sepal_length': '6.800000000000000000', 'sepal_width': '3.000000000000000000', 'petal_length': '5.500000000000000000', 'petal_width': '2.100000000000000000', 'species': 'Iris-virginica'}, {'id': '114', 'sepal_length': '5.700000000000000000', 'sepal_width': '2.500000000000000000', 'petal_length': '5.000000000000000000', 'petal_width': '2.000000000000000000', 'species': 'Iris-virginica'}, {'id': '115', 'sepal_length': '5.800000000000000000', 'sepal_width': '2.800000000000000000', 'petal_length': '5.100000000000000000', 'petal_width': '2.400000000000000000', 'species': 'Iris-virginica'}, {'id': '116', 'sepal_length': '6.400000000000000000', 'sepal_width': '3.200000000000000000', 'petal_length': '5.300000000000000000', 'petal_width': '2.300000000000000000', 'species': 'Iris-virginica'}, {'id': '117', 'sepal_length': '6.500000000000000000', 'sepal_width': '3.000000000000000000', 'petal_length': '5.500000000000000000', 'petal_width': '1.800000000000000000', 'species': 'Iris-virginica'}, {'id': '118', 'sepal_length': '7.700000000000000000', 'sepal_width': '3.800000000000000000', 'petal_length': '6.700000000000000000', 'petal_width': '2.200000000000000000', 'species': 'Iris-virginica'}, {'id': '119', 'sepal_length': '7.700000000000000000', 'sepal_width': '2.600000000000000000', 'petal_length': '6.900000000000000000', 'petal_width': '2.300000000000000000', 'species': 'Iris-virginica'}, {'id': '120', 'sepal_length': '6.000000000000000000', 'sepal_width': '2.200000000000000000', 'petal_length': '5.000000000000000000', 'petal_width': '1.500000000000000000', 'species': 'Iris-virginica'}, {'id': '121', 'sepal_length': '6.900000000000000000', 'sepal_width': '3.200000000000000000', 'petal_length': '5.700000000000000000', 'petal_width': '2.300000000000000000', 'species': 'Iris-virginica'}, {'id': '122', 'sepal_length': '5.600000000000000000', 'sepal_width': '2.800000000000000000', 'petal_length': '4.900000000000000000', 'petal_width': '2.000000000000000000', 'species': 'Iris-virginica'}, {'id': '123', 'sepal_length': '7.700000000000000000', 'sepal_width': '2.800000000000000000', 'petal_length': '6.700000000000000000', 'petal_width': '2.000000000000000000', 'species': 'Iris-virginica'}, {'id': '124', 'sepal_length': '6.300000000000000000', 'sepal_width': '2.700000000000000000', 'petal_length': '4.900000000000000000', 'petal_width': '1.800000000000000000', 'species': 'Iris-virginica'}, {'id': '125', 'sepal_length': '6.700000000000000000', 'sepal_width': '3.300000000000000000', 'petal_length': '5.700000000000000000', 'petal_width': '2.100000000000000000', 'species': 'Iris-virginica'}, {'id': '126', 'sepal_length': '7.200000000000000000', 'sepal_width': '3.200000000000000000', 'petal_length': '6.000000000000000000', 'petal_width': '1.800000000000000000', 'species': 'Iris-virginica'}, {'id': '127', 'sepal_length': '6.200000000000000000', 'sepal_width': '2.800000000000000000', 'petal_length': '4.800000000000000000', 'petal_width': '1.800000000000000000', 'species': 'Iris-virginica'}, {'id': '128', 'sepal_length': '6.100000000000000000', 'sepal_width': '3.000000000000000000', 'petal_length': '4.900000000000000000', 'petal_width': '1.800000000000000000', 'species': 'Iris-virginica'}, {'id': '129', 'sepal_length': '6.400000000000000000', 'sepal_width': '2.800000000000000000', 'petal_length': '5.600000000000000000', 'petal_width': '2.100000000000000000', 'species': 'Iris-virginica'}, {'id': '130', 'sepal_length': '7.200000000000000000', 'sepal_width': '3.000000000000000000', 'petal_length': '5.800000000000000000', 'petal_width': '1.600000000000000000', 'species': 'Iris-virginica'}, {'id': '131', 'sepal_length': '7.400000000000000000', 'sepal_width': '2.800000000000000000', 'petal_length': '6.100000000000000000', 'petal_width': '1.900000000000000000', 'species': 'Iris-virginica'}, {'id': '132', 'sepal_length': '7.900000000000000000', 'sepal_width': '3.800000000000000000', 'petal_length': '6.400000000000000000', 'petal_width': '2.000000000000000000', 'species': 'Iris-virginica'}, {'id': '133', 'sepal_length': '6.400000000000000000', 'sepal_width': '2.800000000000000000', 'petal_length': '5.600000000000000000', 'petal_width': '2.200000000000000000', 'species': 'Iris-virginica'}, {'id': '134', 'sepal_length': '6.300000000000000000', 'sepal_width': '2.800000000000000000', 'petal_length': '5.100000000000000000', 'petal_width': '1.500000000000000000', 'species': 'Iris-virginica'}, {'id': '135', 'sepal_length': '6.100000000000000000', 'sepal_width': '2.600000000000000000', 'petal_length': '5.600000000000000000', 'petal_width': '1.400000000000000000', 'species': 'Iris-virginica'}, {'id': '136', 'sepal_length': '7.700000000000000000', 'sepal_width': '3.000000000000000000', 'petal_length': '6.100000000000000000', 'petal_width': '2.300000000000000000', 'species': 'Iris-virginica'}, {'id': '137', 'sepal_length': '6.300000000000000000', 'sepal_width': '3.400000000000000000', 'petal_length': '5.600000000000000000', 'petal_width': '2.400000000000000000', 'species': 'Iris-virginica'}, {'id': '138', 'sepal_length': '6.400000000000000000', 'sepal_width': '3.100000000000000000', 'petal_length': '5.500000000000000000', 'petal_width': '1.800000000000000000', 'species': 'Iris-virginica'}, {'id': '139', 'sepal_length': '6.000000000000000000', 'sepal_width': '3.000000000000000000', 'petal_length': '4.800000000000000000', 'petal_width': '1.800000000000000000', 'species': 'Iris-virginica'}, {'id': '140', 'sepal_length': '6.900000000000000000', 'sepal_width': '3.100000000000000000', 'petal_length': '5.400000000000000000', 'petal_width': '2.100000000000000000', 'species': 'Iris-virginica'}, {'id': '141', 'sepal_length': '6.700000000000000000', 'sepal_width': '3.100000000000000000', 'petal_length': '5.600000000000000000', 'petal_width': '2.400000000000000000', 'species': 'Iris-virginica'}, {'id': '142', 'sepal_length': '6.900000000000000000', 'sepal_width': '3.100000000000000000', 'petal_length': '5.100000000000000000', 'petal_width': '2.300000000000000000', 'species': 'Iris-virginica'}, {'id': '143', 'sepal_length': '5.800000000000000000', 'sepal_width': '2.700000000000000000', 'petal_length': '5.100000000000000000', 'petal_width': '1.900000000000000000', 'species': 'Iris-virginica'}, {'id': '144', 'sepal_length': '6.800000000000000000', 'sepal_width': '3.200000000000000000', 'petal_length': '5.900000000000000000', 'petal_width': '2.300000000000000000', 'species': 'Iris-virginica'}, {'id': '145', 'sepal_length': '6.700000000000000000', 'sepal_width': '3.300000000000000000', 'petal_length': '5.700000000000000000', 'petal_width': '2.500000000000000000', 'species': 'Iris-virginica'}, {'id': '146', 'sepal_length': '6.700000000000000000', 'sepal_width': '3.000000000000000000', 'petal_length': '5.200000000000000000', 'petal_width': '2.300000000000000000', 'species': 'Iris-virginica'}, {'id': '147', 'sepal_length': '6.300000000000000000', 'sepal_width': '2.500000000000000000', 'petal_length': '5.000000000000000000', 'petal_width': '1.900000000000000000', 'species': 'Iris-virginica'}, {'id': '148', 'sepal_length': '6.500000000000000000', 'sepal_width': '3.000000000000000000', 'petal_length': '5.200000000000000000', 'petal_width': '2.000000000000000000', 'species': 'Iris-virginica'}, {'id': '149', 'sepal_length': '6.200000000000000000', 'sepal_width': '3.400000000000000000', 'petal_length': '5.400000000000000000', 'petal_width': '2.300000000000000000', 'species': 'Iris-virginica'}, {'id': '150', 'sepal_length': '5.900000000000000000', 'sepal_width': '3.000000000000000000', 'petal_length': '5.100000000000000000', 'petal_width': '1.800000000000000000', 'species': 'Iris-virginica'}]\n"
     ]
    }
   ],
   "source": [
    "import requests\n",
    "\n",
    "# API endpoint URL\n",
    "url = \"http://localhost/api/database/1/table/2/data\"\n",
    "\n",
    "try:\n",
    "    # Send a GET request to the API\n",
    "    response = requests.get(url)\n",
    "\n",
    "    # Check if the request was successful\n",
    "    if response.status_code == 200:\n",
    "        # Parse the JSON response\n",
    "        data = response.json()\n",
    "        print(\"API Response:\", data)\n",
    "    else:\n",
    "        print(f\"Error: Received status code {response.status_code}\")\n",
    "        print(\"Response content:\", response.text)\n",
    "\n",
    "except requests.exceptions.RequestException as e:\n",
    "    print(f\"Request failed: {e}\")\n"
   ]
  },
  {
   "cell_type": "code",
   "execution_count": null,
   "id": "f2d57449-87bb-4259-bbc0-93801e742cec",
   "metadata": {},
   "outputs": [],
   "source": [
    "http://localhost/api/oai?metadataPrefix=string&from=string&until=string&set=string&resumptionToken=string&fromDate=2025-01-25T06%3A57%3A17.255Z&untilDate=2025-01-25T06%3A57%3A17.255Z&parametersString=string"
   ]
  },
  {
   "cell_type": "code",
   "execution_count": 98,
   "id": "87aee526-0513-4a1c-8ec1-70dd09347a09",
   "metadata": {},
   "outputs": [
    {
     "name": "stdout",
     "output_type": "stream",
     "text": [
      "Status Code: 200\n",
      "Raw Response Content: <?xml version=\"1.0\" encoding=\"UTF-8\"?>\n",
      "<OAI-PMH xmlns=\"http://www.openarchives.org/OAI/2.0/\" xmlns:xsi=\"http://www.w3.org/2001/XMLSchema-instance\"\n",
      "         xsi:schemaLocation=\"http://www.openarchives.org/OAI/2.0/ http://www.openarchives.org/OAI/2.0/OAI-PMH.xsd\">\n",
      "    <responseDate>2025-01-25T07:07:35Z</responseDate>\n",
      "    <request verb=\"Identify\">https://localhost/api/oai</request>\n",
      "    <Identify>\n",
      "    <repositoryName>Database Repository</repositoryName>\n",
      "    <baseURL>http://localhost</baseURL>\n",
      "    <protocolVersion>2.0</protocolVersion>\n",
      "    <adminEmail>noreply@localhost</adminEmail>\n",
      "    <earliestDatestamp></earliestDatestamp>\n",
      "    <deletedRecord>persistent</deletedRecord>\n",
      "    <granularity>YYYY-MM-DDThh:mm:ssZ</granularity>\n",
      "</Identify>\n",
      "</OAI-PMH>\n",
      "Response is not valid JSON. Here's the raw response:\n",
      "<?xml version=\"1.0\" encoding=\"UTF-8\"?>\n",
      "<OAI-PMH xmlns=\"http://www.openarchives.org/OAI/2.0/\" xmlns:xsi=\"http://www.w3.org/2001/XMLSchema-instance\"\n",
      "         xsi:schemaLocation=\"http://www.openarchives.org/OAI/2.0/ http://www.openarchives.org/OAI/2.0/OAI-PMH.xsd\">\n",
      "    <responseDate>2025-01-25T07:07:35Z</responseDate>\n",
      "    <request verb=\"Identify\">https://localhost/api/oai</request>\n",
      "    <Identify>\n",
      "    <repositoryName>Database Repository</repositoryName>\n",
      "    <baseURL>http://localhost</baseURL>\n",
      "    <protocolVersion>2.0</protocolVersion>\n",
      "    <adminEmail>noreply@localhost</adminEmail>\n",
      "    <earliestDatestamp></earliestDatestamp>\n",
      "    <deletedRecord>persistent</deletedRecord>\n",
      "    <granularity>YYYY-MM-DDThh:mm:ssZ</granularity>\n",
      "</Identify>\n",
      "</OAI-PMH>\n"
     ]
    }
   ],
   "source": [
    "import requests\n",
    "\n",
    "# API endpoint URL\n",
    "url = \"http://localhost/api/oai?metadataPrefix=test&from=1&until=2&set=1&resumptionToken=string&fromDate=2025-01-25T06%3A57%3A17.255Z&untilDate=2025-01-25T06%3A57%3A17.255Z&parametersString=0\"\n",
    "\n",
    "try:\n",
    "    # Send a GET request to the API\n",
    "    response = requests.get(url)\n",
    "\n",
    "    # Print response status and content\n",
    "    print(f\"Status Code: {response.status_code}\")\n",
    "    print(\"Raw Response Content:\", response.text)\n",
    "\n",
    "    # Check if response contains valid JSON\n",
    "    if response.status_code == 200:\n",
    "        try:\n",
    "            data = response.json()\n",
    "            print(\"API Response (Parsed JSON):\", data)\n",
    "        except ValueError:\n",
    "            print(\"Response is not valid JSON. Here's the raw response:\")\n",
    "            print(response.text)\n",
    "    else:\n",
    "        print(f\"Error: Received status code {response.status_code}\")\n",
    "\n",
    "except requests.exceptions.RequestException as e:\n",
    "    print(f\"Request failed: {e}\")\n"
   ]
  },
  {
   "cell_type": "code",
   "execution_count": 99,
   "id": "d4b75322-98e3-4da9-9d62-d4fb97f68aac",
   "metadata": {},
   "outputs": [
    {
     "name": "stdout",
     "output_type": "stream",
     "text": [
      "Metadata: {'kernelspec': {'display_name': 'Python 3 (ipykernel)', 'language': 'python', 'name': 'python3'}, 'language_info': {'codemirror_mode': {'name': 'ipython', 'version': 3}, 'file_extension': '.py', 'mimetype': 'text/x-python', 'name': 'python', 'nbconvert_exporter': 'python', 'pygments_lexer': 'ipython3', 'version': '3.11.5'}}\n"
     ]
    }
   ],
   "source": [
    "import nbformat\n",
    "\n",
    "# Load the notebook\n",
    "with open('test file.ipynb', 'r', encoding='utf-8') as f:\n",
    "    notebook = nbformat.read(f, as_version=4)\n",
    "\n",
    "# Extract metadata\n",
    "metadata = notebook.metadata\n",
    "print(\"Metadata:\", metadata)\n"
   ]
  },
  {
   "cell_type": "code",
   "execution_count": 100,
   "id": "935eab2b-ff64-423a-8845-481a4bc811e6",
   "metadata": {},
   "outputs": [
    {
     "name": "stdout",
     "output_type": "stream",
     "text": [
      "Notebook Metadata: {'kernelspec': {'display_name': 'Python 3 (ipykernel)', 'language': 'python', 'name': 'python3'}, 'language_info': {'codemirror_mode': {'name': 'ipython', 'version': 3}, 'file_extension': '.py', 'mimetype': 'text/x-python', 'name': 'python', 'nbconvert_exporter': 'python', 'pygments_lexer': 'ipython3', 'version': '3.11.5'}}\n"
     ]
    }
   ],
   "source": [
    "repo_api_url = \"https://api.github.com/repos/reema-dass26/Thesis_Infrastructure_setup_repo/contents/test file.ipynb\"\n",
    "\n",
    "response = requests.get(repo_api_url)\n",
    "if response.status_code == 200:\n",
    "    notebook_data = response.json()\n",
    "    download_url = notebook_data['download_url']\n",
    "    notebook_content = requests.get(download_url).json()\n",
    "    print(\"Notebook Metadata:\", notebook_content.get('metadata', {}))\n",
    "else:\n",
    "    print(\"Failed to fetch notebook from GitHub API.\")\n"
   ]
  },
  {
   "cell_type": "code",
   "execution_count": 101,
   "id": "38061ce5-e522-405a-9ae9-0ce6edc38afd",
   "metadata": {},
   "outputs": [
    {
     "name": "stdout",
     "output_type": "stream",
     "text": [
      "Notebook Metadata: {'kernelspec': {'display_name': 'Python 3 (ipykernel)', 'language': 'python', 'name': 'python3'}, 'language_info': {'codemirror_mode': {'name': 'ipython', 'version': 3}, 'file_extension': '.py', 'mimetype': 'text/x-python', 'name': 'python', 'nbconvert_exporter': 'python', 'pygments_lexer': 'ipython3', 'version': '3.11.5'}}\n",
      "Cell 0: {'cell_number': 0, 'execution_count': 2, 'outputs': [{'name': 'stdout', 'output_type': 'stream', 'text': 'test commit\\n'}], 'source': \"print('test commit')\"}\n",
      "Cell 1: {'cell_number': 1, 'execution_count': 5, 'outputs': [], 'source': 'import logging\\nimport pandas as pd\\nfrom sklearn.datasets import make_classification\\nfrom sklearn.model_selection import train_test_split\\nfrom sklearn.linear_model import LogisticRegression\\nfrom sklearn.metrics import accuracy_score, classification_report\\nimport time\\n\\n# Set up logging\\nlogging.basicConfig(\\n    filename=\\'ml_pipeline.log\\',\\n    level=logging.INFO,\\n    format=\\'%(asctime)s - %(levelname)s - %(message)s\\'\\n)\\n\\ndef log_metadata(metadata: dict):\\n    \"\"\"Log metadata to the console and file.\"\"\"\\n    for key, value in metadata.items():\\n        logging.info(f\"{key}: {value}\")\\n\\n# Generate a large synthetic dataset\\nlogging.info(\"Generating synthetic dataset...\")\\nX, y = make_classification(\\n    n_samples=100000,  # large dataset\\n    n_features=20,\\n    n_informative=15,\\n    n_redundant=5,\\n    random_state=42\\n)\\nlogging.info(\"Dataset generated successfully.\")\\n\\n# Split dataset\\nlogging.info(\"Splitting dataset into training and test sets...\")\\nX_train, X_test, y_train, y_test = train_test_split(X, y, test_size=0.2, random_state=42)\\nlogging.info(\"Dataset split completed.\")\\n\\n# Track metadata\\nmetadata = {\\n    \"Number of samples\": X.shape[0],\\n    \"Number of features\": X.shape[1],\\n    \"Train-test split ratio\": \"80:20\",\\n    \"Random state\": 42,\\n}\\nlog_metadata(metadata)\\n\\n# Model training\\nlogging.info(\"Training logistic regression model...\")\\nstart_time = time.time()\\nmodel = LogisticRegression(max_iter=1000, random_state=42)\\nmodel.fit(X_train, y_train)\\ntraining_time = time.time() - start_time\\nlogging.info(f\"Model training completed in {training_time:.2f} seconds.\")\\n\\n# Predictions and evaluation\\nlogging.info(\"Evaluating the model...\")\\ny_pred = model.predict(X_test)\\naccuracy = accuracy_score(y_test, y_pred)\\nlogging.info(f\"Accuracy: {accuracy:.4f}\")\\n\\n# Detailed evaluation metrics\\nreport = classification_report(y_test, y_pred, output_dict=True)\\nlogging.info(\"Classification report:\")\\nfor key, value in report.items():\\n    logging.info(f\"{key}: {value}\")\\n\\n# Metadata logging\\nmetadata.update({\\n    \"Training time (s)\": training_time,\\n    \"Accuracy\": accuracy,\\n    \"Model\": \"Logistic Regression\",\\n    \"Max iterations\": 1000,\\n})\\nlog_metadata(metadata)\\n\\nlogging.info(\"ML pipeline completed.\")\\n'}\n",
      "Cell 2: {'cell_number': 2, 'execution_count': 6, 'outputs': [{'data': {'text/plain': \"{'Number of samples': 100000,\\n 'Number of features': 20,\\n 'Train-test split ratio': '80:20',\\n 'Random state': 42,\\n 'Training time (s)': 0.2775897979736328,\\n 'Accuracy': 0.8074,\\n 'Model': 'Logistic Regression',\\n 'Max iterations': 1000}\"}, 'execution_count': 6, 'metadata': {}, 'output_type': 'execute_result'}], 'source': 'metadata'}\n",
      "Cell 3: {'cell_number': 3, 'execution_count': None, 'outputs': [], 'source': ''}\n"
     ]
    }
   ],
   "source": [
    "import nbformat\n",
    "\n",
    "# Load the notebook file\n",
    "with open('test file.ipynb', 'r', encoding='utf-8') as f:\n",
    "    notebook = nbformat.read(f, as_version=4)\n",
    "\n",
    "# Extract the metadata of the entire notebook\n",
    "notebook_metadata = notebook.metadata\n",
    "print(\"Notebook Metadata:\", notebook_metadata)\n",
    "\n",
    "# Extract and analyze the execution metadata from each cell\n",
    "for idx, cell in enumerate(notebook.cells):\n",
    "    if cell.cell_type == 'code':\n",
    "        execution_info = {\n",
    "            \"cell_number\": idx,\n",
    "            \"execution_count\": cell.execution_count,  # Execution count of the cell\n",
    "            \"outputs\": cell.outputs,  # Outputs from the execution\n",
    "            \"source\": cell.source  # Source code of the cell\n",
    "        }\n",
    "        print(f\"Cell {idx}: {execution_info}\")\n"
   ]
  },
  {
   "cell_type": "code",
   "execution_count": 102,
   "id": "9f4c6269-b706-4e81-abee-3acbbe997c84",
   "metadata": {},
   "outputs": [
    {
     "name": "stdout",
     "output_type": "stream",
     "text": [
      "Commit SHA: 9862d4f764570f5d820e20e4fed7a8bb56ad05ff\n",
      "Commit Message: Merge pull request #1 from reema-dass26/dev\n",
      "\n",
      "Dev\n",
      "Commit Date: 2025-01-26T19:22:56Z\n",
      "Commit SHA: 9cf68d09c2835e83e70f2493c8f8174b67b1565c\n",
      "Commit Message: infra\n",
      "\n",
      "infra setup\n",
      "Commit Date: 2025-01-26T19:19:07Z\n",
      "Commit SHA: 972d31b14200bedf440b250780d1cf5c537db00e\n",
      "Commit Message: file changes\n",
      "Commit Date: 2025-01-05T11:33:29Z\n",
      "Commit SHA: 76d1711bf86b62f4a2dab0e549ffff435bb21c16\n",
      "Commit Message: test file with test ml model\n",
      "Commit Date: 2025-01-05T11:28:55Z\n",
      "Commit SHA: 6494746c35c6fba9750246f9d95f89405d1602ad\n",
      "Commit Message: delete unwanted stuff\n",
      "Commit Date: 2025-01-05T11:24:18Z\n",
      "Commit SHA: a602204318c75d4954c0bdb0a93ff2a1effc4656\n",
      "Commit Message: commit test\n",
      "Commit Date: 2024-12-10T12:48:25Z\n",
      "Commit SHA: f9617bf57fea0b4588d20a2f2bd6378bffcb11df\n",
      "Commit Message: Initial commit\n",
      "Commit Date: 2024-12-10T12:43:43Z\n"
     ]
    }
   ],
   "source": [
    "import requests\n",
    "\n",
    "# GitHub API URL for getting the commits\n",
    "repo_api_url = \"https://api.github.com/repos/reema-dass26/Thesis_Infrastructure_setup_repo/commits\"\n",
    "\n",
    "# Fetch the commit history\n",
    "response = requests.get(repo_api_url)\n",
    "if response.status_code == 200:\n",
    "    commits = response.json()\n",
    "    for commit in commits:\n",
    "        commit_sha = commit['sha']\n",
    "        commit_message = commit['commit']['message']\n",
    "        commit_date = commit['commit']['author']['date']\n",
    "        print(f\"Commit SHA: {commit_sha}\")\n",
    "        print(f\"Commit Message: {commit_message}\")\n",
    "        print(f\"Commit Date: {commit_date}\")\n",
    "else:\n",
    "    print(\"Failed to fetch commits.\")\n"
   ]
  },
  {
   "cell_type": "code",
   "execution_count": 110,
   "id": "1c566111-eff2-4c89-a538-b436fa255fdc",
   "metadata": {},
   "outputs": [
    {
     "name": "stdout",
     "output_type": "stream",
     "text": [
      "Detailed Metadata from Previous Version:\n",
      "{\n",
      "    \"kernelspec\": {\n",
      "        \"display_name\": \"Python 3 (ipykernel)\",\n",
      "        \"language\": \"python\",\n",
      "        \"name\": \"python3\"\n",
      "    },\n",
      "    \"language_info\": {\n",
      "        \"codemirror_mode\": {\n",
      "            \"name\": \"ipython\",\n",
      "            \"version\": 3\n",
      "        },\n",
      "        \"file_extension\": \".py\",\n",
      "        \"mimetype\": \"text/x-python\",\n",
      "        \"name\": \"python\",\n",
      "        \"nbconvert_exporter\": \"python\",\n",
      "        \"pygments_lexer\": \"ipython3\",\n",
      "        \"version\": \"3.11.5\"\n",
      "    }\n",
      "}\n"
     ]
    }
   ],
   "source": [
    "commit_sha = \"9cf68d09c2835e83e70f2493c8f8174b67b1565c\"  # Replace with the actual commit SHA\n",
    "notebook_url = f\"https://raw.githubusercontent.com/reema-dass26/Thesis_Infrastructure_setup_repo/{commit_sha}/test file.ipynb\"\n",
    "\n",
    "response = requests.get(notebook_url)\n",
    "if response.status_code == 200:\n",
    "    notebook_content = response.json()\n",
    "    print(\"Detailed Metadata from Previous Version:\")\n",
    "    print(json.dumps(notebook_content.get('metadata', {}), indent=4))\n",
    "else:\n",
    "    print(\"Failed to fetch notebook from commit.\")\n"
   ]
  },
  {
   "cell_type": "code",
   "execution_count": 111,
   "id": "e0f1cfa8-65a8-4e1d-a5b4-07185de77433",
   "metadata": {},
   "outputs": [
    {
     "name": "stdout",
     "output_type": "stream",
     "text": [
      "Commit SHA: 972d31b14200bedf440b250780d1cf5c537db00e\n",
      "Commit Message: file changes\n",
      "Committer: reema-dass26\n",
      "Date: 2025-01-05T11:33:29Z\n",
      "----------\n"
     ]
    }
   ],
   "source": [
    "import requests\n",
    "\n",
    "# Repository details\n",
    "owner = \"reema-dass26\"\n",
    "repo = \"Thesis_Infrastructure_setup_repo\"\n",
    "file_path = \"test file.ipynb\"  # Specify the file you're interested in\n",
    "\n",
    "# GitHub API URL for commits related to a specific file\n",
    "url = f\"https://api.github.com/repos/{owner}/{repo}/commits?path={file_path}\"\n",
    "\n",
    "# Fetch commit data\n",
    "response = requests.get(url)\n",
    "\n",
    "if response.status_code == 200:\n",
    "    commits = response.json()\n",
    "    for commit in commits:\n",
    "        print(f\"Commit SHA: {commit['sha']}\")\n",
    "        print(f\"Commit Message: {commit['commit']['message']}\")\n",
    "        print(f\"Committer: {commit['commit']['author']['name']}\")\n",
    "        print(f\"Date: {commit['commit']['author']['date']}\")\n",
    "        print(\"----------\")\n",
    "else:\n",
    "    print(f\"Error fetching commits: {response.status_code}\")\n"
   ]
  },
  {
   "cell_type": "code",
   "execution_count": null,
   "id": "78341a3b-280a-443c-b400-11055c4103c6",
   "metadata": {},
   "outputs": [],
   "source": []
  }
 ],
 "metadata": {
  "kernelspec": {
   "display_name": "Python 3 (ipykernel)",
   "language": "python",
   "name": "python3"
  },
  "language_info": {
   "codemirror_mode": {
    "name": "ipython",
    "version": 3
   },
   "file_extension": ".py",
   "mimetype": "text/x-python",
   "name": "python",
   "nbconvert_exporter": "python",
   "pygments_lexer": "ipython3",
   "version": "3.11.5"
  }
 },
 "nbformat": 4,
 "nbformat_minor": 5
}
